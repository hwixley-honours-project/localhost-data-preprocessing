{
 "cells": [
  {
   "cell_type": "markdown",
   "id": "a7b5d4a7",
   "metadata": {},
   "source": [
    "# Load BSON files"
   ]
  },
  {
   "cell_type": "code",
   "execution_count": 33,
   "id": "7d5d7912",
   "metadata": {},
   "outputs": [],
   "source": [
    "import os\n",
    "import numpy as np\n",
    "import bson\n",
    "\n",
    "def getBsonFiles(DIR):\n",
    "    files = os.listdir(DIR)\n",
    "    bson_files = []\n",
    "\n",
    "    for f in files:\n",
    "        if \".bson\" in f:\n",
    "            bson_files.append(f)\n",
    "\n",
    "    print(bson_files)\n",
    "    return bson_files"
   ]
  },
  {
   "cell_type": "code",
   "execution_count": 34,
   "id": "b1225a4a",
   "metadata": {},
   "outputs": [],
   "source": [
    "DATA_DIR = os.getcwd() + \"/data/fddg-db1\""
   ]
  },
  {
   "cell_type": "code",
   "execution_count": 36,
   "id": "e896537b",
   "metadata": {},
   "outputs": [
    {
     "name": "stdout",
     "output_type": "stream",
     "text": [
      "['users.bson', 'metas.bson', 'chunks.bson']\n"
     ]
    }
   ],
   "source": [
    "bson_files = getBsonFiles(DATA_DIR)"
   ]
  },
  {
   "cell_type": "code",
   "execution_count": 37,
   "id": "a4ce34ad",
   "metadata": {},
   "outputs": [],
   "source": [
    "bson_data = {}\n",
    "\n",
    "for b in bson_files:\n",
    "    with open(DATA_DIR + \"/\" + b, \"rb\") as f:\n",
    "        bson_data[b] = bson.decode_all(f.read())"
   ]
  },
  {
   "cell_type": "markdown",
   "id": "1658da82",
   "metadata": {},
   "source": [
    "# Load all BSON data into class objects"
   ]
  },
  {
   "cell_type": "code",
   "execution_count": 55,
   "id": "063ec110",
   "metadata": {},
   "outputs": [],
   "source": [
    "class Meta:\n",
    "    def __init__(self, json_doc):\n",
    "        self._id = json_doc[\"_id\"]\n",
    "        self.subject_id = json_doc[\"subject_id\"]\n",
    "        self.phone_placement = json_doc[\"phone_placement\"]\n",
    "        self.recording_duration = json_doc[\"recording_duration\"]\n",
    "        self.chunk_ids = json_doc[\"chunk_ids\"]\n",
    "        \n",
    "class Chunk:\n",
    "    def __init__(self, json_doc):\n",
    "        self._id = json_doc[\"_id\"]\n",
    "        self.recording_id = json_doc[\"recording_id\"]\n",
    "        self.chunk_index = json_doc[\"chunk_index\"]\n",
    "        self.labels = json_doc[\"labels\"]\n",
    "        self.p_ecg = json_doc[\"p_ecg\"]\n",
    "        self.p_hr = json_doc[\"p_hr\"]\n",
    "        self.p_contact = json_doc[\"p_contact\"]\n",
    "        self.p_acc_x = json_doc[\"p_acc_x\"]\n",
    "        self.p_acc_y = json_doc[\"p_acc_y\"]\n",
    "        self.p_acc_z = json_doc[\"p_acc_z\"]\n",
    "        self.acc_x = json_doc[\"acc_x\"]\n",
    "        self.acc_y = json_doc[\"acc_y\"]\n",
    "        self.acc_z = json_doc[\"acc_z\"]\n",
    "        self.gyr_x = json_doc[\"gyr_x\"]\n",
    "        self.gyr_y = json_doc[\"gyr_y\"]\n",
    "        self.gyr_z = json_doc[\"gyr_z\"]\n",
    "        self.gra_x = json_doc[\"gra_x\"]\n",
    "        self.gra_y = json_doc[\"gra_y\"]\n",
    "        self.gra_z = json_doc[\"gra_z\"]\n",
    "        self.mag_x = json_doc[\"mag_x\"]\n",
    "        self.mag_y = json_doc[\"mag_y\"]\n",
    "        self.mag_z = json_doc[\"mag_z\"]\n",
    "        self.att_roll = json_doc[\"att_roll\"]\n",
    "        self.att_pitch = json_doc[\"att_pitch\"]\n",
    "        self.att_yaw = json_doc[\"att_yaw\"]\n",
    "        self.delta_heading = json_doc[\"delta_heading\"]\n",
    "        \n",
    "class User:\n",
    "    def __init__(self, json_doc):\n",
    "        self.subject_id = json_doc[\"subject_id\"]\n",
    "        self.name = json_doc[\"name\"]\n",
    "        self.yob = json_doc[\"yob\"]\n",
    "        self.height = json_doc[\"height\"]\n",
    "        self.weight = json_doc[\"weight\"]\n",
    "        self.is_female = json_doc[\"is_female\"]\n",
    "        self.medical_conditions = json_doc[\"medical_conditions\"]"
   ]
  },
  {
   "cell_type": "code",
   "execution_count": 66,
   "id": "ed9de943",
   "metadata": {},
   "outputs": [],
   "source": [
    "metas = []\n",
    "chunks = {}\n",
    "users = {}"
   ]
  },
  {
   "cell_type": "code",
   "execution_count": 67,
   "id": "2f83b712",
   "metadata": {},
   "outputs": [],
   "source": [
    "# Metas\n",
    "for doc in bson_data[bson_files[1]]:\n",
    "    meta = Meta(doc)\n",
    "    metas.append(meta)\n",
    "    \n",
    "# Chunks\n",
    "for doc in bson_data[bson_files[2]]:\n",
    "    chunk = Chunk(doc)\n",
    "    chunks[chunk._id] = chunk\n",
    "\n",
    "# Users\n",
    "for doc in bson_data[bson_files[0]]:\n",
    "    user = User(doc)\n",
    "    users[user.subject_id] = user"
   ]
  },
  {
   "cell_type": "markdown",
   "id": "896ccb5d",
   "metadata": {},
   "source": [
    "# Merge all chunks and meta data into a single object for each recording"
   ]
  },
  {
   "cell_type": "code",
   "execution_count": 68,
   "id": "9f52e18e",
   "metadata": {},
   "outputs": [],
   "source": [
    "class Recording:\n",
    "    def __init__(self, meta):\n",
    "        self._id = meta._id\n",
    "        self.subject_id = meta.subject_id\n",
    "        self.phone_placement = meta.phone_placement\n",
    "        self.recording_duration = meta.recording_duration\n",
    "        self.chunk_ids = meta.chunk_ids\n",
    "        self.labels = []\n",
    "        self.p_ecg = []\n",
    "        self.p_hr = []\n",
    "        self.p_acc_x = []\n",
    "        self.p_acc_y = []\n",
    "        self.p_acc_z = []\n",
    "        self.acc_x = []\n",
    "        self.acc_y = []\n",
    "        self.acc_z = []\n",
    "        self.gyr_x = []\n",
    "        self.gyr_y = []\n",
    "        self.gyr_z = []\n",
    "        self.gra_x = []\n",
    "        self.gra_y = []\n",
    "        self.gra_z = []\n",
    "        self.mag_x = []\n",
    "        self.mag_y = []\n",
    "        self.mag_z = []\n",
    "        self.att_roll = []\n",
    "        self.att_pitch = []\n",
    "        self.att_yaw = []\n",
    "        self.delta_heading = []\n",
    "        \n",
    "        for idx in meta.chunk_ids:\n",
    "            chunk = chunks[idx]\n",
    "            self.labels += chunk.labels\n",
    "            self.p_ecg += chunk.p_ecg\n",
    "            self.p_hr += chunk.p_hr\n",
    "            self.p_acc_x += chunk.p_acc_x\n",
    "            self.p_acc_y += chunk.p_acc_y\n",
    "            self.p_acc_z += chunk.p_acc_z\n",
    "            self.acc_x += chunk.acc_x\n",
    "            self.acc_y += chunk.acc_y\n",
    "            self.acc_z += chunk.acc_z\n",
    "            self.gyr_x += chunk.gyr_x\n",
    "            self.gyr_y += chunk.gyr_y\n",
    "            self.gyr_z += chunk.gyr_z\n",
    "            self.gra_x += chunk.gra_x\n",
    "            self.gra_y += chunk.gra_y\n",
    "            self.gra_z += chunk.gra_z\n",
    "            self.mag_x += chunk.mag_x\n",
    "            self.mag_y += chunk.mag_y\n",
    "            self.mag_z += chunk.mag_z\n",
    "            self.att_roll += chunk.att_roll\n",
    "            self.att_pitch += chunk.att_pitch\n",
    "            self.att_yaw += chunk.att_yaw\n",
    "            self.delta_heading += chunk.delta_heading\n",
    "            "
   ]
  },
  {
   "cell_type": "code",
   "execution_count": 69,
   "id": "ad5bc8e6",
   "metadata": {},
   "outputs": [],
   "source": [
    "recordings = []"
   ]
  },
  {
   "cell_type": "code",
   "execution_count": 70,
   "id": "12aef0b6",
   "metadata": {},
   "outputs": [],
   "source": [
    "for meta in metas:\n",
    "    recordings.append(Recording(meta))"
   ]
  },
  {
   "cell_type": "code",
   "execution_count": 71,
   "id": "a568ef60",
   "metadata": {},
   "outputs": [
    {
     "data": {
      "text/plain": [
       "[<__main__.Recording at 0x7fd3a896c190>,\n",
       " <__main__.Recording at 0x7fd3a896ca50>,\n",
       " <__main__.Recording at 0x7fd3a896c9d0>,\n",
       " <__main__.Recording at 0x7fd3a896ca90>,\n",
       " <__main__.Recording at 0x7fd3a896c910>,\n",
       " <__main__.Recording at 0x7fd3a896cd90>,\n",
       " <__main__.Recording at 0x7fd3a896c550>,\n",
       " <__main__.Recording at 0x7fd3a896c790>]"
      ]
     },
     "execution_count": 71,
     "metadata": {},
     "output_type": "execute_result"
    }
   ],
   "source": [
    "for r in recordin"
   ]
  }
 ],
 "metadata": {
  "kernelspec": {
   "display_name": "Python 3 (ipykernel)",
   "language": "python",
   "name": "python3"
  },
  "language_info": {
   "codemirror_mode": {
    "name": "ipython",
    "version": 3
   },
   "file_extension": ".py",
   "mimetype": "text/x-python",
   "name": "python",
   "nbconvert_exporter": "python",
   "pygments_lexer": "ipython3",
   "version": "3.7.11"
  }
 },
 "nbformat": 4,
 "nbformat_minor": 5
}
