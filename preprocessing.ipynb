{
 "cells": [
  {
   "cell_type": "code",
   "execution_count": 33,
   "id": "db8fb662",
   "metadata": {},
   "outputs": [],
   "source": [
    "import os\n",
    "import numpy as np\n",
    "import bson\n",
    "\n",
    "def getBsonFiles(DIR):\n",
    "    files = os.listdir(DIR)\n",
    "    bson_files = []\n",
    "\n",
    "    for f in files:\n",
    "        if \".bson\" in f:\n",
    "            bson_files.append(f)\n",
    "\n",
    "    print(bson_files)\n",
    "    return bson_files"
   ]
  },
  {
   "cell_type": "code",
   "execution_count": 34,
   "id": "023f6984",
   "metadata": {},
   "outputs": [],
   "source": [
    "DATA_DIR = os.getcwd() + \"/data/fddg-db1\""
   ]
  },
  {
   "cell_type": "code",
   "execution_count": 35,
   "id": "48d60755",
   "metadata": {},
   "outputs": [
    {
     "name": "stdout",
     "output_type": "stream",
     "text": [
      "['users.bson', 'metas.bson', 'chunks.bson']\n"
     ]
    },
    {
     "data": {
      "text/plain": [
       "['users.bson', 'metas.bson', 'chunks.bson']"
      ]
     },
     "execution_count": 35,
     "metadata": {},
     "output_type": "execute_result"
    }
   ],
   "source": [
    "bsongetBsonFiles(DATA_DIR)"
   ]
  },
  {
   "cell_type": "code",
   "execution_count": 32,
   "id": "4a8b37ed",
   "metadata": {},
   "outputs": [
    {
     "name": "stdout",
     "output_type": "stream",
     "text": [
      "[{'_id': '3520D804-0295-4978-90FE-193DCF83534C', 'subject_id': '3', 'phone_placement': 'right trouser pocket', 'recording_duration': -1, 'chunk_ids': ['CE06941E-8FFF-4DD5-B4F4-4E761CCFF4DB', '98DC445E-CE6C-4CE5-B5B9-562A157EC848', 'C7381008-6F5E-49B0-AFEA-3B7504389F9C', '3A7128ED-1012-42CA-A96C-67066ED1C28F', 'F2A3EB8B-0132-43EB-8E92-BC878C294FF1', 'AD7CB717-D192-4952-BFD5-D41F03331CC0'], '__v': 0}, {'_id': 'C001D50E-3A62-4516-9F61-9C1573932816', 'subject_id': '3', 'phone_placement': 'left trouser pocket', 'recording_duration': -1, 'chunk_ids': ['82EA548E-8D95-4A99-BD88-AB6609D166E1', '4A938083-C346-4852-98C2-4B848A269046', 'F7B53EEA-F615-4C66-A779-C5A10EBFB299', '521DB9A8-863C-4147-9688-1815BD84BE39', '2FF7573C-B929-46D5-88B3-0C3DF037EBF1', '802CEBF0-8C47-4C70-A812-E01047BA2F39', '74274907-217B-4148-8968-044ADC36DB9B', 'C80BC870-48EB-44C8-BBE0-5F853994D6F7'], '__v': 0}, {'_id': '2D938312-B18B-41BA-8DB2-92FE535B9E97', 'subject_id': '3', 'phone_placement': 'left trouser pocket', 'recording_duration': -1, 'chunk_ids': ['78C814AE-1BB4-42BF-BA5A-4ABEC9C40B98', 'DDF13AF8-69C7-4E40-8083-B3A10828B05F'], '__v': 0}, {'_id': 'EEBFC586-0DBC-4590-A7D0-C968CA475A27', 'subject_id': '3', 'phone_placement': 'left trouser pocket', 'recording_duration': -1, 'chunk_ids': ['F6DA6F0D-CEC4-4275-9ADC-E665A6BD0F4D', '9356A700-B2F1-48E7-8892-D5F6D35180BC', 'F63DFA0F-54A6-4AC7-8916-6903562FFB22', '39E4CFFE-6226-4E16-AE45-80FB232F5F28', '94FEB6C7-7575-41C3-8280-267657FEF98E'], '__v': 0}, {'_id': 'B89BC440-C9C1-4794-A4AD-D995650462BD', 'subject_id': '3', 'phone_placement': 'left trouser pocket', 'recording_duration': 37.000000000000256, 'chunk_ids': ['5D53F184-39A7-40A6-A2EC-E90E62AE3294', '1D94E9DE-DD9E-4D81-8EA5-890B2B83339C', 'CC572644-4592-4D73-9BAF-FD9D8224164F', '48052D78-A942-4ABB-97FF-671B6CB8BD6C', '70E1899D-93A8-4C87-85C0-C24D94C5FD0A', 'EA9B80D8-00B9-47CB-BB54-39906B767964', 'FD16E3C1-4AFC-4CCC-A721-F7756D045255'], '__v': 0}, {'_id': 'F0E17C14-BF21-4199-AE61-18A8BC983133', 'subject_id': '3', 'phone_placement': 'left trouser pocket', 'recording_duration': 82.99999999999956, 'chunk_ids': ['AB12D0C0-0E1F-4F2E-986A-5BF8501A3060', '37F99811-AB22-4110-93E0-7120A8765C6D', '20611D2A-46A7-4F97-8E54-893AAB758A99', '5A71B005-D39B-4C21-B1F6-5DC5ED6B98A0', '98854512-8431-4589-BD64-D62B4824C205', '727D7557-52A4-45B5-876B-8F2E48BAF20E', '9514CF9E-5859-4B6B-A495-13681CA39106', '3B2589B6-8544-4576-9A51-1AEEFD1730D7', '4DC5A229-BD44-4841-B6D8-DDB79EA5CC1E', '0F8675FB-AD6D-4848-BF64-2C7054115445', 'B085B60D-3AA5-4CAA-86C4-1CF2E55358CE', '2246C21B-4528-426D-A318-F5B6BF965BC4', '3E8FBE9A-922F-45DD-B88A-F7B11E6565B1', 'D4E04BA4-9F9C-43F1-8252-807A9FBB6865', 'FE77EA01-DB2F-4082-9397-B3BB2080F920', '18079F78-B749-4798-949E-C9951374A8B1', '0FB60269-99FE-41FC-92B3-D67A8518441F'], '__v': 0}, {'_id': '7FDF1BA5-3736-41F4-B6A3-B9392035710D', 'subject_id': '3', 'phone_placement': 'chest', 'recording_duration': 56.000000000000526, 'chunk_ids': ['9E05EC8C-8A65-4788-A04F-5B6DAC1C29B5', 'A99A839D-7F1F-421B-B3DE-743122263CFC', '46E1FC08-E5D6-46FF-A50C-E719D2529158', '3708CBE8-0416-43CB-9669-FC12F4561632', '4C610AA9-FACE-4435-A5C5-25F0F603AB7D', '4773E2AE-6F7D-496F-BA4C-7341D6E1E971', '33FDC2C4-3841-4E5D-BA4F-48A4C12B9CA4', '361665C1-9E39-4141-8E07-4C8B463CCADE', '50D71EA8-E8E6-4064-8297-5B253FE3FE3F', '612235A4-F829-41CD-9862-E921FB000099', '6D1D29D5-78D9-4ECC-A9A0-15C6B6C8489B'], '__v': 0}, {'_id': '633B508F-6818-49BD-8319-2EBB53C63B6F', 'subject_id': '3', 'phone_placement': 'right trouser pocket', 'recording_duration': 75.99999999999996, 'chunk_ids': ['6EAC7418-7110-46F7-94F8-FD84D00B528B', 'B734887C-98A0-49B0-93EB-DA3CC9D69877', 'E117E6EF-A064-4520-A377-DCF73E7DAF59', '91C560C8-E832-4FC1-B4BB-9EC957D3D931', '35754647-B233-4F7C-8A2B-ABD374DBA01B', '4DF54E50-D5AB-47A5-88F5-5A614E89AE32', 'F3722FD1-900C-4EEC-8203-135601320CA0', 'FC9975CA-5FD8-4A9D-A1BB-0EDF70559F36', '962E5A92-FF36-497D-832F-D0EB167F18A6', 'F08F3F38-F909-4412-9DC4-C99CDCC7D755', '2FF4CFF7-CE72-4578-9285-B147013F72BF', '565AEC72-BE8A-4989-A9E4-B9D17B16DEE5', '0A5734D8-6EDC-4CB3-90B3-B82D6BB27750', '296EA800-25CF-4689-B75B-FED27AED3017', 'D0165F4A-FC74-4CD0-82C1-AB5BB3B9681F'], '__v': 0}]\n"
     ]
    }
   ],
   "source": [
    "bson_data = []\n",
    "\n",
    "for b in bson_files:\n",
    "    with open(DATA_DIR + \"/\" + b, \"rb\") as f:\n",
    "        data = bson.decode_all(f.read())\n",
    "        bson_data.append(data)\n",
    "        #print(data)\n",
    "    \n",
    "print(bson_data[1])"
   ]
  },
  {
   "cell_type": "code",
   "execution_count": null,
   "id": "51adff7a",
   "metadata": {},
   "outputs": [],
   "source": []
  }
 ],
 "metadata": {
  "kernelspec": {
   "display_name": "Python 3 (ipykernel)",
   "language": "python",
   "name": "python3"
  },
  "language_info": {
   "codemirror_mode": {
    "name": "ipython",
    "version": 3
   },
   "file_extension": ".py",
   "mimetype": "text/x-python",
   "name": "python",
   "nbconvert_exporter": "python",
   "pygments_lexer": "ipython3",
   "version": "3.7.11"
  }
 },
 "nbformat": 4,
 "nbformat_minor": 5
}
