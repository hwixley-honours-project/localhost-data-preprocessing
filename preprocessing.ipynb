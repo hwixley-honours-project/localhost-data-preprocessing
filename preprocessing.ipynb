{
 "cells": [
  {
   "cell_type": "markdown",
   "id": "66e29012",
   "metadata": {},
   "source": [
    "# Load BSON files"
   ]
  },
  {
   "cell_type": "code",
   "execution_count": 108,
   "id": "5ad81830",
   "metadata": {},
   "outputs": [],
   "source": [
    "import os\n",
    "import numpy as np\n",
    "import bson\n",
    "\n",
    "def getBsonFiles(DIR):\n",
    "    files = os.listdir(DIR)\n",
    "    bson_files = []\n",
    "\n",
    "    for f in files:\n",
    "        if \".bson\" in f:\n",
    "            bson_files.append(f)\n",
    "\n",
    "    print(bson_files)\n",
    "    return bson_files"
   ]
  },
  {
   "cell_type": "code",
   "execution_count": 111,
   "id": "98654e51",
   "metadata": {},
   "outputs": [],
   "source": [
    "DATA_DIR = os.getcwd() + \"/data/fddg-db2/fddg\""
   ]
  },
  {
   "cell_type": "code",
   "execution_count": 112,
   "id": "6c1c28db",
   "metadata": {},
   "outputs": [
    {
     "name": "stdout",
     "output_type": "stream",
     "text": [
      "['users.bson', 'metas.bson', 'chunks.bson']\n"
     ]
    }
   ],
   "source": [
    "bson_files = getBsonFiles(DATA_DIR)"
   ]
  },
  {
   "cell_type": "code",
   "execution_count": 113,
   "id": "0134d5c0",
   "metadata": {},
   "outputs": [],
   "source": [
    "bson_data = {}\n",
    "\n",
    "for b in bson_files:\n",
    "    with open(DATA_DIR + \"/\" + b, \"rb\") as f:\n",
    "        bson_data[b] = bson.decode_all(f.read())"
   ]
  },
  {
   "cell_type": "markdown",
   "id": "d9b8575f",
   "metadata": {},
   "source": [
    "# Load all BSON data into class objects"
   ]
  },
  {
   "cell_type": "code",
   "execution_count": 114,
   "id": "b3f1fd5b",
   "metadata": {},
   "outputs": [],
   "source": [
    "class Meta:\n",
    "    def __init__(self, json_doc):\n",
    "        self._id = json_doc[\"_id\"]\n",
    "        self.subject_id = json_doc[\"subject_id\"]\n",
    "        self.phone_placement = json_doc[\"phone_placement\"]\n",
    "        self.recording_duration = json_doc[\"recording_duration\"]\n",
    "        self.chunk_ids = json_doc[\"chunk_ids\"]\n",
    "        \n",
    "class Chunk:\n",
    "    def __init__(self, json_doc):\n",
    "        self._id = json_doc[\"_id\"]\n",
    "        self.recording_id = json_doc[\"recording_id\"]\n",
    "        self.chunk_index = json_doc[\"chunk_index\"]\n",
    "        self.labels = json_doc[\"labels\"]\n",
    "        self.p_ecg = json_doc[\"p_ecg\"]\n",
    "        self.p_hr = json_doc[\"p_hr\"]\n",
    "        self.p_contact = json_doc[\"p_contact\"]\n",
    "        self.p_acc_x = json_doc[\"p_acc_x\"]\n",
    "        self.p_acc_y = json_doc[\"p_acc_y\"]\n",
    "        self.p_acc_z = json_doc[\"p_acc_z\"]\n",
    "        self.acc_x = json_doc[\"acc_x\"]\n",
    "        self.acc_y = json_doc[\"acc_y\"]\n",
    "        self.acc_z = json_doc[\"acc_z\"]\n",
    "        self.gyr_x = json_doc[\"gyr_x\"]\n",
    "        self.gyr_y = json_doc[\"gyr_y\"]\n",
    "        self.gyr_z = json_doc[\"gyr_z\"]\n",
    "        self.gra_x = json_doc[\"gra_x\"]\n",
    "        self.gra_y = json_doc[\"gra_y\"]\n",
    "        self.gra_z = json_doc[\"gra_z\"]\n",
    "        self.mag_x = json_doc[\"mag_x\"]\n",
    "        self.mag_y = json_doc[\"mag_y\"]\n",
    "        self.mag_z = json_doc[\"mag_z\"]\n",
    "        self.att_roll = json_doc[\"att_roll\"]\n",
    "        self.att_pitch = json_doc[\"att_pitch\"]\n",
    "        self.att_yaw = json_doc[\"att_yaw\"]\n",
    "        self.delta_heading = json_doc[\"delta_heading\"]\n",
    "        \n",
    "class User:\n",
    "    def __init__(self, json_doc):\n",
    "        self.subject_id = json_doc[\"subject_id\"]\n",
    "        self.name = json_doc[\"name\"]\n",
    "        self.yob = json_doc[\"yob\"]\n",
    "        self.height = json_doc[\"height\"]\n",
    "        self.weight = json_doc[\"weight\"]\n",
    "        self.is_female = json_doc[\"is_female\"]\n",
    "        self.medical_conditions = json_doc[\"medical_conditions\"]"
   ]
  },
  {
   "cell_type": "code",
   "execution_count": 143,
   "id": "37eb0188",
   "metadata": {},
   "outputs": [],
   "source": [
    "metas = []\n",
    "rec_chunks = {}\n",
    "chunks = {}\n",
    "users = {}"
   ]
  },
  {
   "cell_type": "code",
   "execution_count": 144,
   "id": "759bc473",
   "metadata": {},
   "outputs": [
    {
     "name": "stdout",
     "output_type": "stream",
     "text": [
      "2F3A87AB-E125-49D6-9AAE-220A94989C4B\n",
      "B8A12B80-94B0-42A3-9C1E-1C3940F671A0\n",
      "\n",
      "F0810163-8525-422D-AA00-ABEDC54CE602\n",
      "B8A12B80-94B0-42A3-9C1E-1C3940F671A0\n",
      "\n",
      "F518FE1F-D5A1-471A-BE73-E77A424AE3DC\n",
      "B8A12B80-94B0-42A3-9C1E-1C3940F671A0\n",
      "\n",
      "43042735-8703-45B5-B049-4012115BC342\n",
      "B8A12B80-94B0-42A3-9C1E-1C3940F671A0\n",
      "\n"
     ]
    }
   ],
   "source": [
    "# Metas\n",
    "for doc in bson_data[bson_files[1]]:\n",
    "    meta = Meta(doc)\n",
    "    metas.append(meta)\n",
    "    \n",
    "# Chunks\n",
    "for doc in bson_data[bson_files[2]]:\n",
    "    chunk = Chunk(doc)\n",
    "    print(chunk._id)\n",
    "    print(chunk.recording_id)\n",
    "    print()\n",
    "    \n",
    "    if chunk.recording_id in rec_chunks.keys():\n",
    "        rec_chunks[chunk.recording_id].append(chunk)\n",
    "    else:\n",
    "        rec_chunks[chunk.recording_id] = [chunk]\n",
    "    \n",
    "    chunks[chunk._id] = chunk\n",
    "\n",
    "# Users\n",
    "for doc in bson_data[bson_files[0]]:\n",
    "    user = User(doc)\n",
    "    users[user.subject_id] = user"
   ]
  },
  {
   "cell_type": "code",
   "execution_count": 145,
   "id": "09b408aa",
   "metadata": {},
   "outputs": [
    {
     "name": "stdout",
     "output_type": "stream",
     "text": [
      "2F3A87AB-E125-49D6-9AAE-220A94989C4B\n",
      "0\n",
      "\n",
      "F0810163-8525-422D-AA00-ABEDC54CE602\n",
      "1\n",
      "\n",
      "F518FE1F-D5A1-471A-BE73-E77A424AE3DC\n",
      "2\n",
      "\n",
      "43042735-8703-45B5-B049-4012115BC342\n",
      "3\n",
      "\n"
     ]
    }
   ],
   "source": [
    "for c in rec_chunks[\"B8A12B80-94B0-42A3-9C1E-1C3940F671A0\"]:\n",
    "    print(c._id)\n",
    "    print(c.chunk_index)\n",
    "    print()"
   ]
  },
  {
   "cell_type": "markdown",
   "id": "3b5417d8",
   "metadata": {},
   "source": [
    "# Merge all chunks and meta data into a single object for each recording"
   ]
  },
  {
   "cell_type": "code",
   "execution_count": 156,
   "id": "01451f21",
   "metadata": {},
   "outputs": [],
   "source": [
    "class Recording:\n",
    "    def __init__(self, meta):\n",
    "        self._id = meta._id\n",
    "        self.subject_id = meta.subject_id\n",
    "        self.phone_placement = meta.phone_placement\n",
    "        self.recording_duration = meta.recording_duration\n",
    "        self.chunk_ids = meta.chunk_ids\n",
    "        self.labels = []\n",
    "        self.p_ecg = []\n",
    "        self.p_hr = []\n",
    "        self.p_acc_x = []\n",
    "        self.p_acc_y = []\n",
    "        self.p_acc_z = []\n",
    "        self.acc_x = []\n",
    "        self.acc_y = []\n",
    "        self.acc_z = []\n",
    "        self.gyr_x = []\n",
    "        self.gyr_y = []\n",
    "        self.gyr_z = []\n",
    "        self.gra_x = []\n",
    "        self.gra_y = []\n",
    "        self.gra_z = []\n",
    "        self.mag_x = []\n",
    "        self.mag_y = []\n",
    "        self.mag_z = []\n",
    "        self.att_roll = []\n",
    "        self.att_pitch = []\n",
    "        self.att_yaw = []\n",
    "        self.delta_heading = []\n",
    "        \n",
    "        r_chunks = rec_chunks[self._id]\n",
    "        ordered_chunk_ids = {}\n",
    "        \n",
    "        for chunk in r_chunks:\n",
    "            ordered_chunk_ids[chunk.chunk_index] = chunk\n",
    "            \n",
    "        for i in range(len(r_chunks)):\n",
    "            chunk = chunks[ordered_chunk_ids[i]._id]\n",
    "            \n",
    "            assert(i == chunk.chunk_index)\n",
    "            \n",
    "            self.labels += chunk.labels\n",
    "            self.p_ecg += chunk.p_ecg\n",
    "            self.p_hr += chunk.p_hr\n",
    "            self.p_acc_x += chunk.p_acc_x\n",
    "            self.p_acc_y += chunk.p_acc_y\n",
    "            self.p_acc_z += chunk.p_acc_z\n",
    "            self.acc_x += chunk.acc_x\n",
    "            self.acc_y += chunk.acc_y\n",
    "            self.acc_z += chunk.acc_z\n",
    "            self.gyr_x += chunk.gyr_x\n",
    "            self.gyr_y += chunk.gyr_y\n",
    "            self.gyr_z += chunk.gyr_z\n",
    "            self.gra_x += chunk.gra_x\n",
    "            self.gra_y += chunk.gra_y\n",
    "            self.gra_z += chunk.gra_z\n",
    "            self.mag_x += chunk.mag_x\n",
    "            self.mag_y += chunk.mag_y\n",
    "            self.mag_z += chunk.mag_z\n",
    "            self.att_roll += chunk.att_roll\n",
    "            self.att_pitch += chunk.att_pitch\n",
    "            self.att_yaw += chunk.att_yaw\n",
    "            self.delta_heading += chunk.delta_heading\n",
    "            "
   ]
  },
  {
   "cell_type": "code",
   "execution_count": 164,
   "id": "e971ad7f",
   "metadata": {},
   "outputs": [],
   "source": [
    "recordings = []"
   ]
  },
  {
   "cell_type": "code",
   "execution_count": 165,
   "id": "23792f2f",
   "metadata": {},
   "outputs": [
    {
     "name": "stdout",
     "output_type": "stream",
     "text": [
      "50\n",
      "49\n",
      "50\n",
      "41\n"
     ]
    }
   ],
   "source": [
    "for meta in metas:\n",
    "    recordings.append(Recording(meta))"
   ]
  },
  {
   "cell_type": "code",
   "execution_count": 166,
   "id": "3998c85a",
   "metadata": {},
   "outputs": [
    {
     "name": "stdout",
     "output_type": "stream",
     "text": [
      "19\n"
     ]
    }
   ],
   "source": [
    "for r in recordings:\n",
    "    print(r.recording_duration)"
   ]
  },
  {
   "cell_type": "markdown",
   "id": "0801321d",
   "metadata": {},
   "source": [
    "# Visualize fall"
   ]
  },
  {
   "cell_type": "code",
   "execution_count": 167,
   "id": "06b0dea0",
   "metadata": {},
   "outputs": [],
   "source": [
    "import matplotlib.pyplot as plt"
   ]
  },
  {
   "cell_type": "code",
   "execution_count": 202,
   "id": "9c57971b",
   "metadata": {},
   "outputs": [],
   "source": [
    "time = np.arange(0, rec.recording_duration)\n",
    "rec = recordings[0]"
   ]
  },
  {
   "cell_type": "code",
   "execution_count": 256,
   "id": "a3c1c956",
   "metadata": {},
   "outputs": [],
   "source": [
    "len(rec.p_ecg)\n",
    "\n",
    "def plot_time(data):\n",
    "    print(len(data))\n",
    "    print(len(data)/len(rec.labels))\n",
    "    print()\n",
    "    mu = sum(data)/len(data)\n",
    "    data = [ek]\n",
    "    \n",
    "    if -1*min(data) > max(data):\n",
    "        data = [el/-1*min(data) for el in data]\n",
    "    else:\n",
    "        data = [el/max(data) for el in data]\n",
    "    \n",
    "    plt.plot(np.arange(0, len(data))*rec.recording_duration/len(data), data)\n",
    "    plt.xticks(np.linspace(0, rec.recording_duration, len(rec.labels)), rec.labels, rotation=90, fontsize=4)\n",
    "    \n",
    "def plot_recording(recording):\n",
    "    plot_time(rec.p_ecg)\n",
    "    plot_time(rec.p_acc_x)\n",
    "    plot_time(rec.p_acc_y)\n",
    "    plot_time(rec.p_acc_z)\n",
    "    plot_time(rec.acc_x)\n",
    "    plot_time(rec.acc_y)\n",
    "    plot_time(rec.acc_z)\n",
    "    plot_time(rec.gra_x)\n",
    "    plot_time(rec.gra_y)\n",
    "    plot_time(rec.gra_z)\n",
    "    plot_time(rec.gyr_x)\n",
    "    plot_time(rec.gyr_y)\n",
    "    plot_time(rec.gyr_z)\n",
    "    plot_time(rec.mag_x)\n",
    "    plot_time(rec.mag_y)\n",
    "    plot_time(rec.mag_z)\n",
    "    plot_time(rec.delta_heading)\n",
    "    plot_time(rec.att_pitch)\n",
    "    plot_time(rec.att_roll)\n",
    "    plot_time(rec.att_yaw)"
   ]
  },
  {
   "cell_type": "code",
   "execution_count": 257,
   "id": "9df5f6ce",
   "metadata": {},
   "outputs": [
    {
     "name": "stdout",
     "output_type": "stream",
     "text": [
      "2482\n",
      "13.063157894736841\n",
      "\n"
     ]
    },
    {
     "ename": "TypeError",
     "evalue": "unsupported operand type(s) for -: 'list' and 'float'",
     "output_type": "error",
     "traceback": [
      "\u001b[0;31m---------------------------------------------------------------------------\u001b[0m",
      "\u001b[0;31mTypeError\u001b[0m                                 Traceback (most recent call last)",
      "\u001b[0;32m/tmp/ipykernel_604835/4005143250.py\u001b[0m in \u001b[0;36m<module>\u001b[0;34m\u001b[0m\n\u001b[0;32m----> 1\u001b[0;31m \u001b[0mplot_recording\u001b[0m\u001b[0;34m(\u001b[0m\u001b[0mrec\u001b[0m\u001b[0;34m)\u001b[0m\u001b[0;34m\u001b[0m\u001b[0;34m\u001b[0m\u001b[0m\n\u001b[0m",
      "\u001b[0;32m/tmp/ipykernel_604835/3286317966.py\u001b[0m in \u001b[0;36mplot_recording\u001b[0;34m(recording)\u001b[0m\n\u001b[1;32m     16\u001b[0m \u001b[0;34m\u001b[0m\u001b[0m\n\u001b[1;32m     17\u001b[0m \u001b[0;32mdef\u001b[0m \u001b[0mplot_recording\u001b[0m\u001b[0;34m(\u001b[0m\u001b[0mrecording\u001b[0m\u001b[0;34m)\u001b[0m\u001b[0;34m:\u001b[0m\u001b[0;34m\u001b[0m\u001b[0;34m\u001b[0m\u001b[0m\n\u001b[0;32m---> 18\u001b[0;31m     \u001b[0mplot_time\u001b[0m\u001b[0;34m(\u001b[0m\u001b[0mrec\u001b[0m\u001b[0;34m.\u001b[0m\u001b[0mp_ecg\u001b[0m\u001b[0;34m)\u001b[0m\u001b[0;34m\u001b[0m\u001b[0;34m\u001b[0m\u001b[0m\n\u001b[0m\u001b[1;32m     19\u001b[0m     \u001b[0mplot_time\u001b[0m\u001b[0;34m(\u001b[0m\u001b[0mrec\u001b[0m\u001b[0;34m.\u001b[0m\u001b[0mp_acc_x\u001b[0m\u001b[0;34m)\u001b[0m\u001b[0;34m\u001b[0m\u001b[0;34m\u001b[0m\u001b[0m\n\u001b[1;32m     20\u001b[0m     \u001b[0mplot_time\u001b[0m\u001b[0;34m(\u001b[0m\u001b[0mrec\u001b[0m\u001b[0;34m.\u001b[0m\u001b[0mp_acc_y\u001b[0m\u001b[0;34m)\u001b[0m\u001b[0;34m\u001b[0m\u001b[0;34m\u001b[0m\u001b[0m\n",
      "\u001b[0;32m/tmp/ipykernel_604835/3286317966.py\u001b[0m in \u001b[0;36mplot_time\u001b[0;34m(data)\u001b[0m\n\u001b[1;32m      5\u001b[0m     \u001b[0mprint\u001b[0m\u001b[0;34m(\u001b[0m\u001b[0mlen\u001b[0m\u001b[0;34m(\u001b[0m\u001b[0mdata\u001b[0m\u001b[0;34m)\u001b[0m\u001b[0;34m/\u001b[0m\u001b[0mlen\u001b[0m\u001b[0;34m(\u001b[0m\u001b[0mrec\u001b[0m\u001b[0;34m.\u001b[0m\u001b[0mlabels\u001b[0m\u001b[0;34m)\u001b[0m\u001b[0;34m)\u001b[0m\u001b[0;34m\u001b[0m\u001b[0;34m\u001b[0m\u001b[0m\n\u001b[1;32m      6\u001b[0m     \u001b[0mprint\u001b[0m\u001b[0;34m(\u001b[0m\u001b[0;34m)\u001b[0m\u001b[0;34m\u001b[0m\u001b[0;34m\u001b[0m\u001b[0m\n\u001b[0;32m----> 7\u001b[0;31m     \u001b[0mdata\u001b[0m \u001b[0;34m=\u001b[0m \u001b[0mdata\u001b[0m \u001b[0;34m-\u001b[0m \u001b[0msum\u001b[0m\u001b[0;34m(\u001b[0m\u001b[0mdata\u001b[0m\u001b[0;34m)\u001b[0m\u001b[0;34m/\u001b[0m\u001b[0mlen\u001b[0m\u001b[0;34m(\u001b[0m\u001b[0mdata\u001b[0m\u001b[0;34m)\u001b[0m\u001b[0;34m\u001b[0m\u001b[0;34m\u001b[0m\u001b[0m\n\u001b[0m\u001b[1;32m      8\u001b[0m \u001b[0;34m\u001b[0m\u001b[0m\n\u001b[1;32m      9\u001b[0m     \u001b[0;32mif\u001b[0m \u001b[0;34m-\u001b[0m\u001b[0;36m1\u001b[0m\u001b[0;34m*\u001b[0m\u001b[0mmin\u001b[0m\u001b[0;34m(\u001b[0m\u001b[0mdata\u001b[0m\u001b[0;34m)\u001b[0m \u001b[0;34m>\u001b[0m \u001b[0mmax\u001b[0m\u001b[0;34m(\u001b[0m\u001b[0mdata\u001b[0m\u001b[0;34m)\u001b[0m\u001b[0;34m:\u001b[0m\u001b[0;34m\u001b[0m\u001b[0;34m\u001b[0m\u001b[0m\n",
      "\u001b[0;31mTypeError\u001b[0m: unsupported operand type(s) for -: 'list' and 'float'"
     ]
    }
   ],
   "source": [
    "plot_recording(rec)"
   ]
  },
  {
   "cell_type": "code",
   "execution_count": null,
   "id": "6ae2b068",
   "metadata": {},
   "outputs": [],
   "source": []
  }
 ],
 "metadata": {
  "kernelspec": {
   "display_name": "Python 3 (ipykernel)",
   "language": "python",
   "name": "python3"
  },
  "language_info": {
   "codemirror_mode": {
    "name": "ipython",
    "version": 3
   },
   "file_extension": ".py",
   "mimetype": "text/x-python",
   "name": "python",
   "nbconvert_exporter": "python",
   "pygments_lexer": "ipython3",
   "version": "3.7.11"
  }
 },
 "nbformat": 4,
 "nbformat_minor": 5
}
