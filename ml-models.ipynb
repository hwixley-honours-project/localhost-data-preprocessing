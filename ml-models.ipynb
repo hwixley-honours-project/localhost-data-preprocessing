{
 "cells": [
  {
   "cell_type": "code",
   "execution_count": 12,
   "id": "a5fd4979",
   "metadata": {},
   "outputs": [],
   "source": [
    "import numpy as np\n",
    "import matplotlib.pyplot as plt\n",
    "import os"
   ]
  },
  {
   "cell_type": "code",
   "execution_count": 19,
   "id": "4952298e",
   "metadata": {},
   "outputs": [],
   "source": [
    "def loadNpy(filename):\n",
    "    with open(os.getcwd() + \"/train-val-test/\"+ filename, \"rb\") as f: return np.load(f)"
   ]
  },
  {
   "cell_type": "code",
   "execution_count": 135,
   "id": "25c468c0",
   "metadata": {},
   "outputs": [],
   "source": [
    "db = \"db13/\"\n",
    "data_type = \"re\""
   ]
  },
  {
   "cell_type": "code",
   "execution_count": 136,
   "id": "33b3f3a9",
   "metadata": {},
   "outputs": [],
   "source": [
    "X_train, X_val, X_test = loadNpy(db + f\"X{data_type}_train.npy\"), loadNpy(db + f\"X{data_type}_val.npy\"), loadNpy(db + f\"X{data_type}_test.npy\")\n",
    "y_train, y_val, y_test = loadNpy(db + f\"y{data_type}_train.npy\"), loadNpy(db + f\"y{data_type}_val.npy\"), loadNpy(db + f\"y{data_type}_test.npy\")"
   ]
  },
  {
   "cell_type": "markdown",
   "id": "ba52bc9b",
   "metadata": {},
   "source": [
    "# Linear Regression"
   ]
  },
  {
   "cell_type": "code",
   "execution_count": 137,
   "id": "a41b01f4",
   "metadata": {},
   "outputs": [],
   "source": [
    "from sklearn.linear_model import LinearRegression\n",
    "from sklearn import metrics\n",
    "lr = LinearRegression()"
   ]
  },
  {
   "cell_type": "markdown",
   "id": "7a012456",
   "metadata": {},
   "source": [
    "### Regression"
   ]
  },
  {
   "cell_type": "code",
   "execution_count": 186,
   "id": "4d8318fc",
   "metadata": {},
   "outputs": [
    {
     "name": "stdout",
     "output_type": "stream",
     "text": [
      "0.4760952285695233\n",
      "0.4760952285695233\n"
     ]
    }
   ],
   "source": [
    "lr.fit(X_train, y_train)\n",
    "thr = 0\n",
    "\n",
    "y_pred = [1 if p >= thr else 0 for p in lr.predict(X_val)]\n",
    "y_actual = [1 if y >= thr else 0 for y in y_val]\n",
    "\n",
    "print(np.sqrt(metrics.mean_squared_error(y_actual, y_pred)))\n",
    "\n",
    "\n",
    "y_pred = [1 if p >= thr else 0 for p in lr.predict(X_test)]\n",
    "y_actual = [1 if y >= thr else 0 for y in y_test]\n",
    "\n",
    "print(np.sqrt(metrics.mean_squared_error(y_actual, y_pred)))"
   ]
  },
  {
   "cell_type": "code",
   "execution_count": 187,
   "id": "7748abfa",
   "metadata": {},
   "outputs": [],
   "source": [
    "y_pred = [1 if p >= thr else 0 for p in lr.predict(X_val)]\n",
    "y_actual = [1 if y >= thr else 0 for y in y_val]"
   ]
  },
  {
   "cell_type": "code",
   "execution_count": 188,
   "id": "e1a5ab70",
   "metadata": {},
   "outputs": [
    {
     "data": {
      "text/plain": [
       "[1,\n",
       " 1,\n",
       " 0,\n",
       " 0,\n",
       " 1,\n",
       " 0,\n",
       " 1,\n",
       " 0,\n",
       " 0,\n",
       " 0,\n",
       " 1,\n",
       " 0,\n",
       " 0,\n",
       " 0,\n",
       " 0,\n",
       " 1,\n",
       " 1,\n",
       " 0,\n",
       " 0,\n",
       " 1,\n",
       " 0,\n",
       " 1,\n",
       " 0,\n",
       " 1,\n",
       " 0,\n",
       " 0,\n",
       " 0,\n",
       " 0,\n",
       " 0,\n",
       " 0,\n",
       " 0,\n",
       " 0,\n",
       " 1,\n",
       " 0,\n",
       " 1,\n",
       " 0,\n",
       " 0,\n",
       " 0,\n",
       " 1,\n",
       " 1,\n",
       " 0,\n",
       " 1,\n",
       " 1,\n",
       " 0,\n",
       " 0,\n",
       " 0,\n",
       " 0,\n",
       " 1,\n",
       " 1,\n",
       " 1,\n",
       " 0,\n",
       " 1,\n",
       " 1,\n",
       " 1,\n",
       " 1,\n",
       " 0,\n",
       " 0,\n",
       " 0,\n",
       " 1,\n",
       " 0,\n",
       " 1,\n",
       " 0,\n",
       " 0,\n",
       " 1,\n",
       " 1,\n",
       " 0,\n",
       " 1,\n",
       " 0,\n",
       " 0,\n",
       " 1,\n",
       " 0,\n",
       " 1,\n",
       " 1,\n",
       " 1,\n",
       " 0]"
      ]
     },
     "execution_count": 188,
     "metadata": {},
     "output_type": "execute_result"
    }
   ],
   "source": [
    "y_pred"
   ]
  },
  {
   "cell_type": "markdown",
   "id": "8996472b",
   "metadata": {},
   "source": [
    "### Classification"
   ]
  },
  {
   "cell_type": "code",
   "execution_count": 130,
   "id": "272ce876",
   "metadata": {},
   "outputs": [
    {
     "name": "stdout",
     "output_type": "stream",
     "text": [
      "0.9501098708751156\n",
      "0.5439161676189007\n"
     ]
    }
   ],
   "source": [
    "lr.fit(X_train, y_train)\n",
    "\n",
    "\n",
    "y_pred = lr.predict(X_val)\n",
    "\n",
    "print(np.sqrt(metrics.mean_squared_error(y_val, y_pred)))\n",
    "\n",
    "\n",
    "y_pred = lr.predict(X_test)\n",
    "\n",
    "print(np.sqrt(metrics.mean_squared_error(y_test, y_pred)))"
   ]
  },
  {
   "cell_type": "code",
   "execution_count": 189,
   "id": "d17b2a04",
   "metadata": {},
   "outputs": [
    {
     "name": "stdout",
     "output_type": "stream",
     "text": [
      "0.9227526298132479\n",
      "0.4794816451647577\n"
     ]
    }
   ],
   "source": [
    "lr.fit(X_train, [1 if y >= 0 else 0 for y in y_train])\n",
    "\n",
    "\n",
    "y_pred = lr.predict(X_val)\n",
    "y_actual = [1 if y >= 0 else 0 for y in y_val]\n",
    "\n",
    "print(np.sqrt(metrics.mean_squared_error(y_actual, y_pred)))\n",
    "\n",
    "\n",
    "y_pred = lr.predict(X_test)\n",
    "y_actual = [1 if y>= 0 else 0 for y in y_test]\n",
    "\n",
    "print(np.sqrt(metrics.mean_squared_error(y_actual, y_pred)))"
   ]
  },
  {
   "cell_type": "markdown",
   "id": "447b6f7f",
   "metadata": {},
   "source": [
    "# SVM"
   ]
  },
  {
   "cell_type": "code",
   "execution_count": 132,
   "id": "63d8e09c",
   "metadata": {},
   "outputs": [],
   "source": [
    "from sklearn import svm"
   ]
  },
  {
   "cell_type": "markdown",
   "id": "ecaa05c9",
   "metadata": {},
   "source": [
    "### Regression"
   ]
  },
  {
   "cell_type": "code",
   "execution_count": 133,
   "id": "6cf72772",
   "metadata": {},
   "outputs": [
    {
     "name": "stdout",
     "output_type": "stream",
     "text": [
      "0.1768154436138349\n",
      "0.1925936729085454\n"
     ]
    }
   ],
   "source": [
    "regr = svm.SVR()\n",
    "regr.fit(X_train, y_train)\n",
    "\n",
    "\n",
    "y_pred = regr.predict(X_val)\n",
    "\n",
    "print(np.sqrt(metrics.mean_squared_error(y_val, y_pred)))\n",
    "\n",
    "\n",
    "y_pred = regr.predict(X_test)\n",
    "\n",
    "print(np.sqrt(metrics.mean_squared_error(y_test, y_pred)))"
   ]
  },
  {
   "cell_type": "markdown",
   "id": "8045fd8b",
   "metadata": {},
   "source": [
    "### Classification"
   ]
  },
  {
   "cell_type": "code",
   "execution_count": 134,
   "id": "074260f2",
   "metadata": {},
   "outputs": [
    {
     "name": "stdout",
     "output_type": "stream",
     "text": [
      "0.2\n",
      "0.5733333333333334\n",
      "0.2\n",
      "0.96\n"
     ]
    }
   ],
   "source": [
    "clf = svm.SVC()\n",
    "clf.fit(X_train, y_train)\n",
    "\n",
    "\n",
    "y_pred = clf.predict(X_val)\n",
    "\n",
    "print(np.sqrt(metrics.mean_squared_error(y_val, y_pred)))\n",
    "print(metrics.accuracy_score(y_test, y_pred))\n",
    "\n",
    "\n",
    "y_pred = clf.predict(X_test)\n",
    "\n",
    "print(np.sqrt(metrics.mean_squared_error(y_test, y_pred)))\n",
    "print(metrics.accuracy_score(y_test, y_pred))"
   ]
  },
  {
   "cell_type": "code",
   "execution_count": 122,
   "id": "ebad58e7",
   "metadata": {},
   "outputs": [
    {
     "name": "stdout",
     "output_type": "stream",
     "text": [
      "0.2581988897471611\n",
      "0.30550504633038933\n"
     ]
    }
   ],
   "source": [
    "clf = svm.SVC()\n",
    "clf.fit(X_train, [1 if y >= 0 else 0 for y in y_train])\n",
    "\n",
    "\n",
    "y_pred = clf.predict(X_val)\n",
    "y_actual = [1 if y >= 0 else 0 for y in y_val]\n",
    "\n",
    "print(np.sqrt(metrics.mean_squared_error(y_actual, y_pred)))\n",
    "\n",
    "\n",
    "y_pred = clf.predict(X_test)\n",
    "y_actual = [1 if y >= 0 else 0 for y in y_test]\n",
    "\n",
    "print(np.sqrt(metrics.mean_squared_error(y_actual, y_pred)))"
   ]
  },
  {
   "cell_type": "markdown",
   "id": "9ed4b489",
   "metadata": {},
   "source": [
    "#### Visualizing Test Cases"
   ]
  },
  {
   "cell_type": "code",
   "execution_count": 29,
   "id": "6c179785",
   "metadata": {},
   "outputs": [],
   "source": [
    "j = 5"
   ]
  },
  {
   "cell_type": "code",
   "execution_count": 149,
   "id": "a6351701",
   "metadata": {},
   "outputs": [],
   "source": [
    "x0 = X_test[j,:]\n",
    "y0 = y_test[j]\n",
    "yp0 = lr.predict(x0.reshape(1,-1))\n",
    "\n",
    "ecg = np.zeros((130))\n",
    "\n",
    "offset = 0\n",
    "for i in range(10):\n",
    "    ecg[i*13:i*13+13] = x0[i*89:i*89 + 13]"
   ]
  },
  {
   "cell_type": "code",
   "execution_count": 150,
   "id": "614919ba",
   "metadata": {},
   "outputs": [
    {
     "name": "stdout",
     "output_type": "stream",
     "text": [
      "[-0.74165883]\n",
      "-0.6154015380613778\n"
     ]
    },
    {
     "data": {
      "image/png": "[encoded data removed]",
      "text/plain": [
       "<Figure size 432x288 with 1 Axes>"
      ]
     },
     "metadata": {
      "needs_background": "light"
     },
     "output_type": "display_data"
    }
   ],
   "source": [
    "plt.plot(np.linspace(0,1,130), (ecg-np.mean(ecg))/np.max(np.abs(ecg)))\n",
    "print(yp0)\n",
    "print(y0)"
   ]
  },
  {
   "cell_type": "code",
   "execution_count": null,
   "id": "9bb5a5da",
   "metadata": {},
   "outputs": [],
   "source": []
  }
 ],
 "metadata": {
  "kernelspec": {
   "display_name": "Python 3 (ipykernel)",
   "language": "python",
   "name": "python3"
  },
  "language_info": {
   "codemirror_mode": {
    "name": "ipython",
    "version": 3
   },
   "file_extension": ".py",
   "mimetype": "text/x-python",
   "name": "python",
   "nbconvert_exporter": "python",
   "pygments_lexer": "ipython3",
   "version": "3.7.11"
  }
 },
 "nbformat": 4,
 "nbformat_minor": 5
}
