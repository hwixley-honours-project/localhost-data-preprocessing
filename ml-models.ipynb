{
 "cells": [
  {
   "cell_type": "code",
   "execution_count": 12,
   "id": "72243b4a",
   "metadata": {},
   "outputs": [],
   "source": [
    "import numpy as np\n",
    "import matplotlib.pyplot as plt\n",
    "import os"
   ]
  },
  {
   "cell_type": "code",
   "execution_count": 19,
   "id": "80679fa6",
   "metadata": {},
   "outputs": [],
   "source": [
    "def loadNpy(filename):\n",
    "    with open(os.getcwd() + \"/train-val-test/\"+ filename, \"rb\") as f: return np.load(f)"
   ]
  },
  {
   "cell_type": "code",
   "execution_count": 20,
   "id": "02dcaec5",
   "metadata": {},
   "outputs": [],
   "source": [
    "db = \"db13/\""
   ]
  },
  {
   "cell_type": "code",
   "execution_count": 21,
   "id": "4fa5d739",
   "metadata": {},
   "outputs": [],
   "source": [
    "X_train, X_val, X_test = loadNpy(db + \"X_train.npy\"), loadNpy(db + \"X_val.npy\"), loadNpy(db + \"X_test.npy\")\n",
    "y_train, y_val, y_test = loadNpy(db + \"y_train.npy\"), loadNpy(db + \"y_val.npy\"), loadNpy(db + \"y_test.npy\")"
   ]
  },
  {
   "cell_type": "markdown",
   "id": "fcc6494f",
   "metadata": {},
   "source": [
    "# Linear Regression"
   ]
  },
  {
   "cell_type": "code",
   "execution_count": 22,
   "id": "fa6b3fdc",
   "metadata": {},
   "outputs": [],
   "source": [
    "from sklearn.linear_model import LinearRegression\n",
    "from sklearn import metrics\n",
    "lr = LinearRegression()"
   ]
  },
  {
   "cell_type": "markdown",
   "id": "033516d6",
   "metadata": {},
   "source": [
    "### Regression"
   ]
  },
  {
   "cell_type": "code",
   "execution_count": 23,
   "id": "84d43f8b",
   "metadata": {},
   "outputs": [
    {
     "name": "stdout",
     "output_type": "stream",
     "text": [
      "0.41633319989322654\n"
     ]
    }
   ],
   "source": [
    "lr.fit(X_train, y_train)\n",
    "\n",
    "# Predict\n",
    "y_pred = [1 if p >= 1 else 0 for p in lr.predict(X_test)]\n",
    "y_actual = [1 if y >= 1 else 0 for y in y_test]\n",
    "\n",
    "# RMSE\n",
    "print(np.sqrt(metrics.mean_squared_error(y_actual, y_pred)))"
   ]
  },
  {
   "cell_type": "markdown",
   "id": "16384c3b",
   "metadata": {},
   "source": [
    "### Classification"
   ]
  },
  {
   "cell_type": "code",
   "execution_count": 24,
   "id": "42194060",
   "metadata": {},
   "outputs": [
    {
     "name": "stdout",
     "output_type": "stream",
     "text": [
      "0.5438439800605377\n"
     ]
    }
   ],
   "source": [
    "lr.fit(X_train, y_train)\n",
    "\n",
    "# Predict\n",
    "y_pred = lr.predict(X_test)\n",
    "\n",
    "# RMSE\n",
    "print(np.sqrt(metrics.mean_squared_error(y_test, y_pred)))"
   ]
  },
  {
   "cell_type": "markdown",
   "id": "227111a8",
   "metadata": {},
   "source": [
    "# SVM"
   ]
  },
  {
   "cell_type": "code",
   "execution_count": 25,
   "id": "10042eab",
   "metadata": {},
   "outputs": [],
   "source": [
    "from sklearn import svm"
   ]
  },
  {
   "cell_type": "markdown",
   "id": "dece605b",
   "metadata": {},
   "source": [
    "### Regression"
   ]
  },
  {
   "cell_type": "code",
   "execution_count": 26,
   "id": "eaefebee",
   "metadata": {},
   "outputs": [
    {
     "name": "stdout",
     "output_type": "stream",
     "text": [
      "0.1945980414575154\n"
     ]
    }
   ],
   "source": [
    "regr = svm.SVR()\n",
    "regr.fit(X_train, y_train)\n",
    "\n",
    "y_pred = regr.predict(X_test)\n",
    "\n",
    "# RMSE\n",
    "print(np.sqrt(metrics.mean_squared_error(y_test, y_pred)))"
   ]
  },
  {
   "cell_type": "code",
   "execution_count": 27,
   "id": "2a302312",
   "metadata": {},
   "outputs": [
    {
     "name": "stdout",
     "output_type": "stream",
     "text": [
      "0.5163977794943222\n"
     ]
    }
   ],
   "source": [
    "y_pred = [1 if p >= 1 else 0 for p in regr.predict(X_test)]\n",
    "y_actual = [1 if y >= 1 else 0 for y in y_test]\n",
    "\n",
    "print(np.sqrt(metrics.mean_squared_error(y_actual, y_pred)))"
   ]
  },
  {
   "cell_type": "markdown",
   "id": "40fdbaf7",
   "metadata": {},
   "source": [
    "### Classification"
   ]
  },
  {
   "cell_type": "code",
   "execution_count": 28,
   "id": "4c325207",
   "metadata": {},
   "outputs": [
    {
     "name": "stdout",
     "output_type": "stream",
     "text": [
      "0.2\n",
      "0.96\n"
     ]
    }
   ],
   "source": [
    "clf = svm.SVC()\n",
    "clf.fit(X_train, y_train)\n",
    "\n",
    "y_pred = clf.predict(X_test)\n",
    "\n",
    "print(np.sqrt(metrics.mean_squared_error(y_test, y_pred)))\n",
    "print(metrics.accuracy_score(y_test, y_pred))"
   ]
  },
  {
   "cell_type": "markdown",
   "id": "5a0230e8",
   "metadata": {},
   "source": [
    "#### Visualizing Test Cases"
   ]
  },
  {
   "cell_type": "code",
   "execution_count": 29,
   "id": "5ae8f2ef",
   "metadata": {},
   "outputs": [],
   "source": [
    "j = 5"
   ]
  },
  {
   "cell_type": "code",
   "execution_count": 32,
   "id": "909a59d0",
   "metadata": {},
   "outputs": [],
   "source": [
    "x0 = X_test[j,:]\n",
    "y0 = y_test[j]\n",
    "yp0 = regr.predict(x0.reshape(1,-1))\n",
    "\n",
    "ecg = np.zeros((130))\n",
    "\n",
    "offset = 0\n",
    "for i in range(10):\n",
    "    ecg[i*13:i*13+13] = x0[i*89:i*89 + 13]"
   ]
  },
  {
   "cell_type": "code",
   "execution_count": 33,
   "id": "64e6c489",
   "metadata": {},
   "outputs": [
    {
     "name": "stdout",
     "output_type": "stream",
     "text": [
      "[0.04524223]\n",
      "0.0\n"
     ]
    },
    {
     "data": {
      "image/png": "[encoded data removed]",
      "text/plain": [
       "<Figure size 432x288 with 1 Axes>"
      ]
     },
     "metadata": {
      "needs_background": "light"
     },
     "output_type": "display_data"
    }
   ],
   "source": [
    "plt.plot(np.linspace(0,1,130), (ecg-np.mean(ecg))/np.max(np.abs(ecg)))\n",
    "print(yp0)\n",
    "print(y0)"
   ]
  },
  {
   "cell_type": "code",
   "execution_count": null,
   "id": "f88edb2a",
   "metadata": {},
   "outputs": [],
   "source": []
  }
 ],
 "metadata": {
  "kernelspec": {
   "display_name": "Python 3 (ipykernel)",
   "language": "python",
   "name": "python3"
  },
  "language_info": {
   "codemirror_mode": {
    "name": "ipython",
    "version": 3
   },
   "file_extension": ".py",
   "mimetype": "text/x-python",
   "name": "python",
   "nbconvert_exporter": "python",
   "pygments_lexer": "ipython3",
   "version": "3.7.11"
  }
 },
 "nbformat": 4,
 "nbformat_minor": 5
}
