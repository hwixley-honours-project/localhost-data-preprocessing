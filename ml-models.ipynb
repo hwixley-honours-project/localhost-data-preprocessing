{
 "cells": [
  {
   "cell_type": "code",
   "execution_count": 12,
   "id": "4da0f9e1",
   "metadata": {},
   "outputs": [],
   "source": [
    "import numpy as np\n",
    "import matplotlib.pyplot as plt\n",
    "import os"
   ]
  },
  {
   "cell_type": "code",
   "execution_count": 16,
   "id": "f1be944b",
   "metadata": {},
   "outputs": [],
   "source": [
    "def loadNpy(filename):\n",
    "    with open(os.getcwd() + \"/train-test-val/\"+ filename, \"rb\") as f: return np.load(f)"
   ]
  },
  {
   "cell_type": "code",
   "execution_count": 17,
   "id": "214567e1",
   "metadata": {},
   "outputs": [],
   "source": [
    "db = \"db13/\""
   ]
  },
  {
   "cell_type": "code",
   "execution_count": 18,
   "id": "4cc66a98",
   "metadata": {},
   "outputs": [
    {
     "ename": "FileNotFoundError",
     "evalue": "[Errno 2] No such file or directory: '/home/hwixley/Documents/4th-Year/Honours-Project/localhost-data-preprocessing/train-test-val/db13/X_train.npy'",
     "output_type": "error",
     "traceback": [
      "\u001b[0;31m---------------------------------------------------------------------------\u001b[0m",
      "\u001b[0;31mFileNotFoundError\u001b[0m                         Traceback (most recent call last)",
      "\u001b[0;32m/tmp/ipykernel_1117697/3102927821.py\u001b[0m in \u001b[0;36m<module>\u001b[0;34m\u001b[0m\n\u001b[0;32m----> 1\u001b[0;31m \u001b[0mX_train\u001b[0m\u001b[0;34m,\u001b[0m \u001b[0mX_val\u001b[0m\u001b[0;34m,\u001b[0m \u001b[0mX_test\u001b[0m \u001b[0;34m=\u001b[0m \u001b[0mloadNpy\u001b[0m\u001b[0;34m(\u001b[0m\u001b[0mdb\u001b[0m \u001b[0;34m+\u001b[0m \u001b[0;34m\"X_train.npy\"\u001b[0m\u001b[0;34m)\u001b[0m\u001b[0;34m,\u001b[0m \u001b[0mloadNpy\u001b[0m\u001b[0;34m(\u001b[0m\u001b[0mdb\u001b[0m \u001b[0;34m+\u001b[0m \u001b[0;34m\"X_val.npy\"\u001b[0m\u001b[0;34m)\u001b[0m\u001b[0;34m,\u001b[0m \u001b[0mloadNpy\u001b[0m\u001b[0;34m(\u001b[0m\u001b[0mdb\u001b[0m \u001b[0;34m+\u001b[0m \u001b[0;34m\"X_test.npy\"\u001b[0m\u001b[0;34m)\u001b[0m\u001b[0;34m\u001b[0m\u001b[0;34m\u001b[0m\u001b[0m\n\u001b[0m\u001b[1;32m      2\u001b[0m \u001b[0my_train\u001b[0m\u001b[0;34m,\u001b[0m \u001b[0my_val\u001b[0m\u001b[0;34m,\u001b[0m \u001b[0my_test\u001b[0m \u001b[0;34m=\u001b[0m \u001b[0mloadNpy\u001b[0m\u001b[0;34m(\u001b[0m\u001b[0mdb\u001b[0m \u001b[0;34m+\u001b[0m \u001b[0;34m\"y_train.npy\"\u001b[0m\u001b[0;34m)\u001b[0m\u001b[0;34m,\u001b[0m \u001b[0mloadNpy\u001b[0m\u001b[0;34m(\u001b[0m\u001b[0mdb\u001b[0m \u001b[0;34m+\u001b[0m \u001b[0;34m\"y_val.npy\"\u001b[0m\u001b[0;34m)\u001b[0m\u001b[0;34m,\u001b[0m \u001b[0mloadNpy\u001b[0m\u001b[0;34m(\u001b[0m\u001b[0mdb\u001b[0m \u001b[0;34m+\u001b[0m \u001b[0;34m\"y_test.npy\"\u001b[0m\u001b[0;34m)\u001b[0m\u001b[0;34m\u001b[0m\u001b[0;34m\u001b[0m\u001b[0m\n",
      "\u001b[0;32m/tmp/ipykernel_1117697/591673233.py\u001b[0m in \u001b[0;36mloadNpy\u001b[0;34m(filename)\u001b[0m\n\u001b[1;32m      1\u001b[0m \u001b[0;32mdef\u001b[0m \u001b[0mloadNpy\u001b[0m\u001b[0;34m(\u001b[0m\u001b[0mfilename\u001b[0m\u001b[0;34m)\u001b[0m\u001b[0;34m:\u001b[0m\u001b[0;34m\u001b[0m\u001b[0;34m\u001b[0m\u001b[0m\n\u001b[0;32m----> 2\u001b[0;31m     \u001b[0;32mwith\u001b[0m \u001b[0mopen\u001b[0m\u001b[0;34m(\u001b[0m\u001b[0mos\u001b[0m\u001b[0;34m.\u001b[0m\u001b[0mgetcwd\u001b[0m\u001b[0;34m(\u001b[0m\u001b[0;34m)\u001b[0m \u001b[0;34m+\u001b[0m \u001b[0;34m\"/train-test-val/\"\u001b[0m\u001b[0;34m+\u001b[0m \u001b[0mfilename\u001b[0m\u001b[0;34m,\u001b[0m \u001b[0;34m\"rb\"\u001b[0m\u001b[0;34m)\u001b[0m \u001b[0;32mas\u001b[0m \u001b[0mf\u001b[0m\u001b[0;34m:\u001b[0m \u001b[0;32mreturn\u001b[0m \u001b[0mnp\u001b[0m\u001b[0;34m.\u001b[0m\u001b[0mload\u001b[0m\u001b[0;34m(\u001b[0m\u001b[0mf\u001b[0m\u001b[0;34m)\u001b[0m\u001b[0;34m\u001b[0m\u001b[0;34m\u001b[0m\u001b[0m\n\u001b[0m",
      "\u001b[0;31mFileNotFoundError\u001b[0m: [Errno 2] No such file or directory: '/home/hwixley/Documents/4th-Year/Honours-Project/localhost-data-preprocessing/train-test-val/db13/X_train.npy'"
     ]
    }
   ],
   "source": [
    "X_train, X_val, X_test = loadNpy(db + \"X_train.npy\"), loadNpy(db + \"X_val.npy\"), loadNpy(db + \"X_test.npy\")\n",
    "y_train, y_val, y_test = loadNpy(db + \"y_train.npy\"), loadNpy(db + \"y_val.npy\"), loadNpy(db + \"y_test.npy\")"
   ]
  },
  {
   "cell_type": "markdown",
   "id": "17dd8eaf",
   "metadata": {},
   "source": [
    "# Linear Regression"
   ]
  },
  {
   "cell_type": "code",
   "execution_count": 3,
   "id": "8ffbbd01",
   "metadata": {},
   "outputs": [],
   "source": [
    "from sklearn.linear_model import LinearRegression\n",
    "from sklearn import metrics\n",
    "lr = LinearRegression()"
   ]
  },
  {
   "cell_type": "markdown",
   "id": "e1a1731b",
   "metadata": {},
   "source": [
    "### Regression"
   ]
  },
  {
   "cell_type": "code",
   "execution_count": null,
   "id": "4a32cb36",
   "metadata": {},
   "outputs": [],
   "source": [
    "lr.fit(Xr_train, yr_train)\n",
    "\n",
    "# Predict\n",
    "y_pred = [1 if p >= 1 else 0 for p in lr.predict(Xr_test)]\n",
    "y_actual = [1 if y >= 1 else 0 for y in yr_test]\n",
    "\n",
    "# RMSE\n",
    "print(np.sqrt(metrics.mean_squared_error(y_actual, y_pred)))"
   ]
  },
  {
   "cell_type": "markdown",
   "id": "20a7cd18",
   "metadata": {},
   "source": [
    "### Classification"
   ]
  },
  {
   "cell_type": "code",
   "execution_count": null,
   "id": "fe895c8e",
   "metadata": {},
   "outputs": [],
   "source": [
    "lr.fit(Xc_train, yc_train)\n",
    "\n",
    "# Predict\n",
    "y_pred = lr.predict(Xc_test)\n",
    "\n",
    "# RMSE\n",
    "print(np.sqrt(metrics.mean_squared_error(yc_test, y_pred)))"
   ]
  },
  {
   "cell_type": "markdown",
   "id": "2a7537f4",
   "metadata": {},
   "source": [
    "# SVM"
   ]
  },
  {
   "cell_type": "code",
   "execution_count": 5,
   "id": "123ce03c",
   "metadata": {},
   "outputs": [],
   "source": [
    "from sklearn import svm"
   ]
  },
  {
   "cell_type": "markdown",
   "id": "58afdeb6",
   "metadata": {},
   "source": [
    "### Regression"
   ]
  },
  {
   "cell_type": "code",
   "execution_count": null,
   "id": "859ec477",
   "metadata": {},
   "outputs": [],
   "source": [
    "regr = svm.SVR()\n",
    "regr.fit(Xr_train, yr_train)\n",
    "\n",
    "y_pred = regr.predict(Xr_test)\n",
    "\n",
    "# RMSE\n",
    "print(np.sqrt(metrics.mean_squared_error(yr_test, y_pred)))"
   ]
  },
  {
   "cell_type": "code",
   "execution_count": null,
   "id": "15915a75",
   "metadata": {},
   "outputs": [],
   "source": [
    "y_pred = [1 if p >= 1 else 0 for p in regr.predict(Xr_test)]\n",
    "y_actual = [1 if y >= 1 else 0 for y in yr_test]\n",
    "\n",
    "print(np.sqrt(metrics.mean_squared_error(y_actual, y_pred)))"
   ]
  },
  {
   "cell_type": "markdown",
   "id": "89d0a49e",
   "metadata": {},
   "source": [
    "### Classification"
   ]
  },
  {
   "cell_type": "code",
   "execution_count": null,
   "id": "97390cca",
   "metadata": {},
   "outputs": [],
   "source": [
    "clf = svm.SVC()\n",
    "clf.fit(Xc_train, yc_train)\n",
    "\n",
    "y_pred = clf.predict(Xc_test)\n",
    "\n",
    "print(np.sqrt(metrics.mean_squared_error(yc_test, y_pred)))\n",
    "print(metrics.accuracy_score(yc_test, y_pred))"
   ]
  },
  {
   "cell_type": "markdown",
   "id": "88e31c4c",
   "metadata": {},
   "source": [
    "#### Visualizing Test Cases"
   ]
  },
  {
   "cell_type": "code",
   "execution_count": null,
   "id": "fa8ef1cd",
   "metadata": {},
   "outputs": [],
   "source": [
    "j = 5"
   ]
  },
  {
   "cell_type": "code",
   "execution_count": null,
   "id": "a412d25c",
   "metadata": {},
   "outputs": [],
   "source": [
    "x0 = Xr_test[j,:]\n",
    "y0 = yr_test[j]\n",
    "yp0 = regr.predict(x0.reshape(1,-1))\n",
    "\n",
    "ecg = np.zeros((130))\n",
    "\n",
    "offset = 0\n",
    "for i in range(10):\n",
    "    ecg[i*13:i*13+13] = x0[i*89:i*89 + 13]"
   ]
  },
  {
   "cell_type": "code",
   "execution_count": null,
   "id": "470ae255",
   "metadata": {},
   "outputs": [],
   "source": [
    "plt.plot(np.linspace(0,1,130), (ecg-np.mean(ecg))/np.max(np.abs(ecg)))\n",
    "print(yp0)\n",
    "print(y0)"
   ]
  }
 ],
 "metadata": {
  "kernelspec": {
   "display_name": "Python 3 (ipykernel)",
   "language": "python",
   "name": "python3"
  },
  "language_info": {
   "codemirror_mode": {
    "name": "ipython",
    "version": 3
   },
   "file_extension": ".py",
   "mimetype": "text/x-python",
   "name": "python",
   "nbconvert_exporter": "python",
   "pygments_lexer": "ipython3",
   "version": "3.7.11"
  }
 },
 "nbformat": 4,
 "nbformat_minor": 5
}
