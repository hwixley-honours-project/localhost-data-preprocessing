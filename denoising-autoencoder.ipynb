{
 "cells": [
  {
   "cell_type": "code",
   "execution_count": 14,
   "id": "0dbc769e",
   "metadata": {},
   "outputs": [],
   "source": [
    "import numpy as np\n",
    "import os\n",
    "import pickle\n",
    "import matplotlib.pyplot as plt\n",
    "from tqdm import tqdm\n",
    "from torchvision import transforms\n",
    "import torch.nn as nn\n",
    "from torch.utils.data import DataLoader,Dataset\n",
    "import torch\n",
    "import torch.optim as optim\n",
    "from torch.autograd import Variable"
   ]
  },
  {
   "cell_type": "code",
   "execution_count": 2,
   "id": "1d8b64fb",
   "metadata": {},
   "outputs": [
    {
     "name": "stdout",
     "output_type": "stream",
     "text": [
      "cuda:0\n"
     ]
    }
   ],
   "source": [
    "if torch.cuda.is_available():\n",
    "    dev = \"cuda:0\" \n",
    "else:\n",
    "    dev = \"cpu\"\n",
    "print(dev)\n",
    "device = torch.device(dev) "
   ]
  },
  {
   "cell_type": "code",
   "execution_count": 3,
   "id": "bf981270",
   "metadata": {},
   "outputs": [
    {
     "name": "stdout",
     "output_type": "stream",
     "text": [
      "Let's use 1 GPUs!\n"
     ]
    }
   ],
   "source": [
    "if torch.cuda.device_count() >= 1:\n",
    "    print(\"Let's use\", torch.cuda.device_count(), \"GPUs!\")\n",
    "else:\n",
    "    print(\"no usable gpus\")"
   ]
  },
  {
   "cell_type": "markdown",
   "id": "f9d35969",
   "metadata": {},
   "source": [
    "## Data Loading"
   ]
  },
  {
   "cell_type": "code",
   "execution_count": 4,
   "id": "04fe8eb7",
   "metadata": {},
   "outputs": [],
   "source": [
    "def loadNpy(filename):\n",
    "    with open(filename, \"rb\") as f: return np.load(f)"
   ]
  },
  {
   "cell_type": "code",
   "execution_count": 5,
   "id": "5f02de14",
   "metadata": {},
   "outputs": [],
   "source": [
    "db = \"14\"\n",
    "window_size = \"10\"\n",
    "lag = \"2\"\n",
    "features = \"all\"\n",
    "save_dir = f\"db{db}/window-size-{window_size}/lag{lag}/{features}-features/\""
   ]
  },
  {
   "cell_type": "code",
   "execution_count": 6,
   "id": "75c4fd51",
   "metadata": {},
   "outputs": [],
   "source": [
    "fdir = os.getcwd() + f\"/train-val-test/{save_dir}\"\n",
    "\n",
    "if os.path.exists(fdir + \"xx.npy\"):\n",
    "    xx = np.load(open(fdir + \"xx.npy\", \"rb\"))\n",
    "\n",
    "if os.path.exists(fdir + \"yy.npy\"):\n",
    "    yy = np.load(open(fdir + \"yy.npy\", \"rb\"))"
   ]
  },
  {
   "cell_type": "code",
   "execution_count": 7,
   "id": "1e0c0666",
   "metadata": {},
   "outputs": [
    {
     "data": {
      "text/plain": [
       "(28952, 882)"
      ]
     },
     "execution_count": 7,
     "metadata": {},
     "output_type": "execute_result"
    }
   ],
   "source": [
    "xx.shape"
   ]
  },
  {
   "cell_type": "code",
   "execution_count": 8,
   "id": "6a7500be",
   "metadata": {},
   "outputs": [
    {
     "name": "stdout",
     "output_type": "stream",
     "text": [
      "/home/hwixley/Documents/4th-Year/Honours-Project/localhost-data-preprocessing/train-val-test/db14/window-size-10/lag2/all-features/\n"
     ]
    }
   ],
   "source": [
    "data_type = \"\"\n",
    "print(fdir)"
   ]
  },
  {
   "cell_type": "code",
   "execution_count": 19,
   "id": "355e2e14",
   "metadata": {},
   "outputs": [],
   "source": [
    "X_train, X_val, X_test = loadNpy(f\"{fdir}X{data_type}_train.npy\"), loadNpy(f\"{fdir}X{data_type}_val.npy\"), loadNpy(f\"{fdir}X{data_type}_test.npy\")\n",
    "y_train, y_val, y_test = loadNpy(f\"{fdir}y{data_type}_train.npy\"), loadNpy(f\"{fdir}y{data_type}_val.npy\"), loadNpy(f\"{fdir}y{data_type}_test.npy\")"
   ]
  },
  {
   "cell_type": "code",
   "execution_count": 10,
   "id": "9ca1fc1d",
   "metadata": {},
   "outputs": [],
   "source": [
    "def npy_to_tensor(data):\n",
    "    data = torch.from_numpy(data)\n",
    "    return data"
   ]
  },
  {
   "cell_type": "code",
   "execution_count": 11,
   "id": "1d1708b4",
   "metadata": {},
   "outputs": [],
   "source": [
    "X_train, X_val, X_test = npy_to_tensor(X_train), npy_to_tensor(X_val), npy_to_tensor(X_test)\n",
    "y_train, y_val, y_test = npy_to_tensor(y_train), npy_to_tensor(y_val), npy_to_tensor(y_test)"
   ]
  },
  {
   "cell_type": "code",
   "execution_count": 12,
   "id": "809f6060",
   "metadata": {},
   "outputs": [],
   "source": [
    "X_train = X_train[:,:,None,None]\n",
    "X_val = X_val[:,:,None,None]\n",
    "X_test = X_test[:,:,None,None]"
   ]
  },
  {
   "cell_type": "code",
   "execution_count": 13,
   "id": "118ab33b",
   "metadata": {},
   "outputs": [
    {
     "data": {
      "text/plain": [
       "torch.Size([17370, 882, 1, 1])"
      ]
     },
     "execution_count": 13,
     "metadata": {},
     "output_type": "execute_result"
    }
   ],
   "source": [
    "X_train.shape"
   ]
  },
  {
   "cell_type": "markdown",
   "id": "9001d03f",
   "metadata": {},
   "source": [
    "# Denoising Autoencoder"
   ]
  },
  {
   "cell_type": "code",
   "execution_count": 77,
   "id": "cc3361b6",
   "metadata": {},
   "outputs": [],
   "source": [
    "\"\"\"\n",
    "Here we load the dataset, add gaussian,poisson,speckle\n",
    "\n",
    "    'gauss'     Gaussian-distributed additive noise.\n",
    "    'speckle'   Multiplicative noise using out = image + n*image,where\n",
    "                n is uniform noise with specified mean & variance.\n",
    "                \n",
    "We define a function that adds each noise when called from main function\n",
    "Input & Output: np array\n",
    "                \n",
    "\"\"\"\n",
    "\n",
    "\n",
    "def add_noise(img,noise_type=\"gaussian\"):\n",
    "\n",
    "    row,col=49,18\n",
    "    img=img.astype(np.float32)\n",
    "\n",
    "    if noise_type==\"gaussian\":\n",
    "        mean=0\n",
    "        var=1\n",
    "        sigma=var**.5\n",
    "        noise=np.random.normal(-5.9,5.9,img.shape)\n",
    "        noise=noise.reshape(row,col)\n",
    "        img=img+noise\n",
    "        return img\n",
    "\n",
    "    if noise_type==\"speckle\":\n",
    "        noise=np.random.randn(row,col)\n",
    "        noise=noise.reshape(row,col)\n",
    "        img=img+img*noise\n",
    "        return img"
   ]
  },
  {
   "cell_type": "code",
   "execution_count": 78,
   "id": "4136b901",
   "metadata": {},
   "outputs": [],
   "source": [
    "xtrain, xtest = X_train.reshape(X_train.shape[0],49,18), X_test.reshape(X_test.shape[0],49,18)\n",
    "ytrain, ytest = y_train, y_test"
   ]
  },
  {
   "cell_type": "code",
   "execution_count": 79,
   "id": "8e252601",
   "metadata": {},
   "outputs": [
    {
     "name": "stderr",
     "output_type": "stream",
     "text": [
      "100%|███████████████████████████████████████████| 17370/17370 [00:00<00:00, 42130.29it/s]\n"
     ]
    },
    {
     "name": "stdout",
     "output_type": "stream",
     "text": [
      "\n",
      "gaussian noise addition completed to images\n",
      "\n",
      "speckle noise addition completed to images\n"
     ]
    },
    {
     "name": "stderr",
     "output_type": "stream",
     "text": [
      "100%|█████████████████████████████████████████████| 5791/5791 [00:00<00:00, 41344.96it/s]"
     ]
    },
    {
     "name": "stdout",
     "output_type": "stream",
     "text": [
      "\n",
      "gaussian noise addition completed to images\n",
      "\n",
      "speckle noise addition completed to images\n"
     ]
    },
    {
     "name": "stderr",
     "output_type": "stream",
     "text": [
      "\n"
     ]
    }
   ],
   "source": [
    "\"\"\"\n",
    "From here onwards,we split the 60k training datapoints into 3 sets each given one type of each noise.\n",
    "We shuffle them for better generalization.\n",
    "\"\"\"\n",
    "noises=[\"gaussian\",\"speckle\"]\n",
    "noise_ct=0\n",
    "noise_id=0\n",
    "traindata=np.zeros(xtrain.shape)\n",
    "\n",
    "\n",
    "\n",
    "for idx in tqdm(range(len(xtrain))):\n",
    "    if noise_ct<(len(xtrain)/2):\n",
    "        noise_ct+=1\n",
    "        traindata[idx]=add_noise(xtrain[idx],noise_type=noises[noise_id])\n",
    "    else:\n",
    "        print(\"\\n{} noise addition completed to images\".format(noises[noise_id]))\n",
    "        noise_id+=1\n",
    "        noise_ct=0\n",
    "\n",
    "print(\"\\n{} noise addition completed to images\".format(noises[noise_id])) \n",
    "\n",
    "noise_ct=0\n",
    "noise_id=0\n",
    "testdata=np.zeros(xtest.shape)\n",
    "\n",
    "for idx in tqdm(range(len(xtest))):\n",
    "    if noise_ct<(len(xtest)/2):\n",
    "        noise_ct+=1\n",
    "        x=add_noise(xtest[idx],noise_type=noises[noise_id])\n",
    "        testdata[idx]=x\n",
    "    else:\n",
    "        print(\"\\n{} noise addition completed to images\".format(noises[noise_id]))\n",
    "        noise_id+=1\n",
    "        noise_ct=0\n",
    "\n",
    "\n",
    "print(\"\\n{} noise addition completed to images\".format(noises[noise_id]))    \n",
    "  "
   ]
  },
  {
   "cell_type": "code",
   "execution_count": 80,
   "id": "3d3ed711",
   "metadata": {},
   "outputs": [
    {
     "data": {
      "text/plain": [
       "Text(0.5, 1.0, 'Noised Image')"
      ]
     },
     "execution_count": 80,
     "metadata": {},
     "output_type": "execute_result"
    },
    {
     "data": {
      "image/png": "[encoded data removed]",
      "text/plain": [
       "<Figure size 432x288 with 4 Axes>"
      ]
     },
     "metadata": {
      "needs_background": "light"
     },
     "output_type": "display_data"
    }
   ],
   "source": [
    "\"\"\"\n",
    "Here we Try to visualize, each type of noise that was introduced in the images\n",
    "Along with their original versions\n",
    "\n",
    "\"\"\"\n",
    "\n",
    "f, axes=plt.subplots(2,2)\n",
    "\n",
    "#showing images with gaussian noise\n",
    "axes[0,0].imshow(xtrain[0],cmap=\"gray\")\n",
    "axes[0,0].set_title(\"Original Image\")\n",
    "axes[1,0].imshow(traindata[0],cmap='gray')\n",
    "axes[1,0].set_title(\"Noised Image\")\n",
    "\n",
    "#showing images with speckle noise\n",
    "axes[0,1].imshow(xtrain[17000],cmap='gray')\n",
    "axes[0,1].set_title(\"Original Image\")\n",
    "axes[1,1].imshow(traindata[17000],cmap=\"gray\")\n",
    "axes[1,1].set_title(\"Noised Image\")"
   ]
  },
  {
   "cell_type": "code",
   "execution_count": 81,
   "id": "01a24932",
   "metadata": {},
   "outputs": [],
   "source": [
    "class noisedDataset(Dataset):\n",
    "  \n",
    "    def __init__(self,datasetnoised,datasetclean,labels,transform):\n",
    "        self.noise=datasetnoised\n",
    "        self.clean=datasetclean\n",
    "        self.labels=labels\n",
    "        self.transform=transform\n",
    "  \n",
    "    def __len__(self):\n",
    "        return len(self.noise)\n",
    "  \n",
    "    def __getitem__(self,idx):\n",
    "        xNoise=self.noise[idx]\n",
    "        xClean=self.clean[idx]\n",
    "        y=self.labels[idx]\n",
    "\n",
    "        if self.transform != None:\n",
    "            xNoise=self.transform(xNoise)\n",
    "            xClean=self.transform(xClean)\n",
    "\n",
    "        return (xNoise,xClean,y)"
   ]
  },
  {
   "cell_type": "code",
   "execution_count": 82,
   "id": "8766d329",
   "metadata": {},
   "outputs": [],
   "source": [
    "tsfms=transforms.Compose([\n",
    "    transforms.ToTensor()\n",
    "])\n",
    "\n",
    "trainset=noisedDataset(traindata,xtrain,ytrain,tsfms)\n",
    "testset=noisedDataset(testdata,xtest,ytest,tsfms)"
   ]
  },
  {
   "cell_type": "code",
   "execution_count": 83,
   "id": "8888f40f",
   "metadata": {},
   "outputs": [],
   "source": [
    "\"\"\"\n",
    "Here , we create the trainloaders and testloaders.\n",
    "Also, we transform the images using standard lib functions\n",
    "\"\"\"\n",
    "batch_size=32\n",
    "\n",
    "trainloader=DataLoader(trainset,batch_size=32,shuffle=True)\n",
    "testloader=DataLoader(testset,batch_size=1,shuffle=True)"
   ]
  },
  {
   "cell_type": "code",
   "execution_count": 84,
   "id": "abd10bcd",
   "metadata": {},
   "outputs": [],
   "source": [
    "\"\"\"\n",
    "Here, we define the autoencoder model.\n",
    "\"\"\"\n",
    "\n",
    "class denoising_model(nn.Module):\n",
    "    def __init__(self):\n",
    "        super(denoising_model,self).__init__()\n",
    "        self.encoder=nn.Sequential(\n",
    "                      nn.Linear(882,600),\n",
    "                      nn.ReLU(True),\n",
    "                      nn.Linear(600,128),\n",
    "                      nn.ReLU(True)\n",
    "\n",
    "                      )\n",
    "\n",
    "        self.decoder=nn.Sequential(\n",
    "                      nn.Linear(128,600),\n",
    "                      nn.ReLU(True),\n",
    "                      nn.Linear(600,882),\n",
    "                      nn.Sigmoid(),\n",
    "                      )\n",
    " \n",
    "    def forward(self,x):\n",
    "        x=self.encoder(x)\n",
    "        x=self.decoder(x)\n",
    "\n",
    "        return x"
   ]
  },
  {
   "cell_type": "code",
   "execution_count": 85,
   "id": "a4850529",
   "metadata": {},
   "outputs": [
    {
     "name": "stdout",
     "output_type": "stream",
     "text": [
      "Entering Epoch:  0\n"
     ]
    },
    {
     "name": "stderr",
     "output_type": "stream",
     "text": [
      "100%|█████████████████████████████████████████████████| 543/543 [00:00<00:00, 772.03it/s]\n"
     ]
    },
    {
     "name": "stdout",
     "output_type": "stream",
     "text": [
      "======> epoch: 0/50, Loss:0.012462773360311985\n",
      "Entering Epoch:  1\n"
     ]
    },
    {
     "name": "stderr",
     "output_type": "stream",
     "text": [
      "100%|█████████████████████████████████████████████████| 543/543 [00:00<00:00, 770.01it/s]\n"
     ]
    },
    {
     "name": "stdout",
     "output_type": "stream",
     "text": [
      "======> epoch: 1/50, Loss:0.012380634434521198\n",
      "Entering Epoch:  2\n"
     ]
    },
    {
     "name": "stderr",
     "output_type": "stream",
     "text": [
      "100%|█████████████████████████████████████████████████| 543/543 [00:00<00:00, 767.61it/s]\n"
     ]
    },
    {
     "name": "stdout",
     "output_type": "stream",
     "text": [
      "======> epoch: 2/50, Loss:0.011942910961806774\n",
      "Entering Epoch:  3\n"
     ]
    },
    {
     "name": "stderr",
     "output_type": "stream",
     "text": [
      "100%|█████████████████████████████████████████████████| 543/543 [00:00<00:00, 768.69it/s]\n"
     ]
    },
    {
     "name": "stdout",
     "output_type": "stream",
     "text": [
      "======> epoch: 3/50, Loss:0.011456293985247612\n",
      "Entering Epoch:  4\n"
     ]
    },
    {
     "name": "stderr",
     "output_type": "stream",
     "text": [
      "100%|█████████████████████████████████████████████████| 543/543 [00:00<00:00, 768.03it/s]\n"
     ]
    },
    {
     "name": "stdout",
     "output_type": "stream",
     "text": [
      "======> epoch: 4/50, Loss:0.011164571158587933\n",
      "Entering Epoch:  5\n"
     ]
    },
    {
     "name": "stderr",
     "output_type": "stream",
     "text": [
      "100%|█████████████████████████████████████████████████| 543/543 [00:00<00:00, 770.05it/s]\n"
     ]
    },
    {
     "name": "stdout",
     "output_type": "stream",
     "text": [
      "======> epoch: 5/50, Loss:0.011893315240740776\n",
      "Entering Epoch:  6\n"
     ]
    },
    {
     "name": "stderr",
     "output_type": "stream",
     "text": [
      "100%|█████████████████████████████████████████████████| 543/543 [00:00<00:00, 740.12it/s]\n"
     ]
    },
    {
     "name": "stdout",
     "output_type": "stream",
     "text": [
      "======> epoch: 6/50, Loss:0.01207385677844286\n",
      "Entering Epoch:  7\n"
     ]
    },
    {
     "name": "stderr",
     "output_type": "stream",
     "text": [
      "100%|█████████████████████████████████████████████████| 543/543 [00:00<00:00, 739.58it/s]\n"
     ]
    },
    {
     "name": "stdout",
     "output_type": "stream",
     "text": [
      "======> epoch: 7/50, Loss:0.011547217145562172\n",
      "Entering Epoch:  8\n"
     ]
    },
    {
     "name": "stderr",
     "output_type": "stream",
     "text": [
      "100%|█████████████████████████████████████████████████| 543/543 [00:00<00:00, 770.53it/s]\n"
     ]
    },
    {
     "name": "stdout",
     "output_type": "stream",
     "text": [
      "======> epoch: 8/50, Loss:0.011913093738257885\n",
      "Entering Epoch:  9\n"
     ]
    },
    {
     "name": "stderr",
     "output_type": "stream",
     "text": [
      "100%|█████████████████████████████████████████████████| 543/543 [00:00<00:00, 770.08it/s]\n"
     ]
    },
    {
     "name": "stdout",
     "output_type": "stream",
     "text": [
      "======> epoch: 9/50, Loss:0.011198059655725956\n",
      "Entering Epoch:  10\n"
     ]
    },
    {
     "name": "stderr",
     "output_type": "stream",
     "text": [
      "100%|█████████████████████████████████████████████████| 543/543 [00:00<00:00, 760.07it/s]\n"
     ]
    },
    {
     "name": "stdout",
     "output_type": "stream",
     "text": [
      "======> epoch: 10/50, Loss:0.011082331649959087\n",
      "Entering Epoch:  11\n"
     ]
    },
    {
     "name": "stderr",
     "output_type": "stream",
     "text": [
      "100%|█████████████████████████████████████████████████| 543/543 [00:00<00:00, 766.78it/s]\n"
     ]
    },
    {
     "name": "stdout",
     "output_type": "stream",
     "text": [
      "======> epoch: 11/50, Loss:0.011086811311542988\n",
      "Entering Epoch:  12\n"
     ]
    },
    {
     "name": "stderr",
     "output_type": "stream",
     "text": [
      "100%|█████████████████████████████████████████████████| 543/543 [00:00<00:00, 762.17it/s]\n"
     ]
    },
    {
     "name": "stdout",
     "output_type": "stream",
     "text": [
      "======> epoch: 12/50, Loss:0.010994826443493366\n",
      "Entering Epoch:  13\n"
     ]
    },
    {
     "name": "stderr",
     "output_type": "stream",
     "text": [
      "100%|█████████████████████████████████████████████████| 543/543 [00:00<00:00, 770.03it/s]\n"
     ]
    },
    {
     "name": "stdout",
     "output_type": "stream",
     "text": [
      "======> epoch: 13/50, Loss:0.010568341240286827\n",
      "Entering Epoch:  14\n"
     ]
    },
    {
     "name": "stderr",
     "output_type": "stream",
     "text": [
      "100%|█████████████████████████████████████████████████| 543/543 [00:00<00:00, 769.77it/s]\n"
     ]
    },
    {
     "name": "stdout",
     "output_type": "stream",
     "text": [
      "======> epoch: 14/50, Loss:0.010919740423560143\n",
      "Entering Epoch:  15\n"
     ]
    },
    {
     "name": "stderr",
     "output_type": "stream",
     "text": [
      "100%|█████████████████████████████████████████████████| 543/543 [00:00<00:00, 758.96it/s]\n"
     ]
    },
    {
     "name": "stdout",
     "output_type": "stream",
     "text": [
      "======> epoch: 15/50, Loss:0.01076055783778429\n",
      "Entering Epoch:  16\n"
     ]
    },
    {
     "name": "stderr",
     "output_type": "stream",
     "text": [
      "100%|█████████████████████████████████████████████████| 543/543 [00:00<00:00, 758.41it/s]\n"
     ]
    },
    {
     "name": "stdout",
     "output_type": "stream",
     "text": [
      "======> epoch: 16/50, Loss:0.011148822493851185\n",
      "Entering Epoch:  17\n"
     ]
    },
    {
     "name": "stderr",
     "output_type": "stream",
     "text": [
      "100%|█████████████████████████████████████████████████| 543/543 [00:00<00:00, 762.69it/s]\n"
     ]
    },
    {
     "name": "stdout",
     "output_type": "stream",
     "text": [
      "======> epoch: 17/50, Loss:0.010189571417868137\n",
      "Entering Epoch:  18\n"
     ]
    },
    {
     "name": "stderr",
     "output_type": "stream",
     "text": [
      "100%|█████████████████████████████████████████████████| 543/543 [00:00<00:00, 760.34it/s]\n"
     ]
    },
    {
     "name": "stdout",
     "output_type": "stream",
     "text": [
      "======> epoch: 18/50, Loss:0.01017671823501587\n",
      "Entering Epoch:  19\n"
     ]
    },
    {
     "name": "stderr",
     "output_type": "stream",
     "text": [
      "100%|█████████████████████████████████████████████████| 543/543 [00:00<00:00, 759.88it/s]\n"
     ]
    },
    {
     "name": "stdout",
     "output_type": "stream",
     "text": [
      "======> epoch: 19/50, Loss:0.00975167565047741\n",
      "Entering Epoch:  20\n"
     ]
    },
    {
     "name": "stderr",
     "output_type": "stream",
     "text": [
      "100%|█████████████████████████████████████████████████| 543/543 [00:00<00:00, 771.22it/s]\n"
     ]
    },
    {
     "name": "stdout",
     "output_type": "stream",
     "text": [
      "======> epoch: 20/50, Loss:0.009703499265015125\n",
      "Entering Epoch:  21\n"
     ]
    },
    {
     "name": "stderr",
     "output_type": "stream",
     "text": [
      "100%|█████████████████████████████████████████████████| 543/543 [00:00<00:00, 771.93it/s]\n"
     ]
    },
    {
     "name": "stdout",
     "output_type": "stream",
     "text": [
      "======> epoch: 21/50, Loss:0.009363453835248947\n",
      "Entering Epoch:  22\n"
     ]
    },
    {
     "name": "stderr",
     "output_type": "stream",
     "text": [
      "100%|█████████████████████████████████████████████████| 543/543 [00:00<00:00, 777.02it/s]\n"
     ]
    },
    {
     "name": "stdout",
     "output_type": "stream",
     "text": [
      "======> epoch: 22/50, Loss:0.00974344089627266\n",
      "Entering Epoch:  23\n"
     ]
    },
    {
     "name": "stderr",
     "output_type": "stream",
     "text": [
      "100%|█████████████████████████████████████████████████| 543/543 [00:00<00:00, 774.45it/s]\n"
     ]
    },
    {
     "name": "stdout",
     "output_type": "stream",
     "text": [
      "======> epoch: 23/50, Loss:0.009413986466825008\n",
      "Entering Epoch:  24\n"
     ]
    },
    {
     "name": "stderr",
     "output_type": "stream",
     "text": [
      "100%|█████████████████████████████████████████████████| 543/543 [00:00<00:00, 781.22it/s]\n"
     ]
    },
    {
     "name": "stdout",
     "output_type": "stream",
     "text": [
      "======> epoch: 24/50, Loss:0.009261232800781727\n",
      "Entering Epoch:  25\n"
     ]
    },
    {
     "name": "stderr",
     "output_type": "stream",
     "text": [
      "100%|█████████████████████████████████████████████████| 543/543 [00:00<00:00, 770.51it/s]\n"
     ]
    },
    {
     "name": "stdout",
     "output_type": "stream",
     "text": [
      "======> epoch: 25/50, Loss:0.009301097132265568\n",
      "Entering Epoch:  26\n"
     ]
    },
    {
     "name": "stderr",
     "output_type": "stream",
     "text": [
      "100%|█████████████████████████████████████████████████| 543/543 [00:00<00:00, 775.42it/s]\n"
     ]
    },
    {
     "name": "stdout",
     "output_type": "stream",
     "text": [
      "======> epoch: 26/50, Loss:0.008343740366399288\n",
      "Entering Epoch:  27\n"
     ]
    },
    {
     "name": "stderr",
     "output_type": "stream",
     "text": [
      "100%|█████████████████████████████████████████████████| 543/543 [00:00<00:00, 778.03it/s]\n"
     ]
    },
    {
     "name": "stdout",
     "output_type": "stream",
     "text": [
      "======> epoch: 27/50, Loss:0.00785148236900568\n",
      "Entering Epoch:  28\n"
     ]
    },
    {
     "name": "stderr",
     "output_type": "stream",
     "text": [
      "100%|█████████████████████████████████████████████████| 543/543 [00:00<00:00, 772.19it/s]\n"
     ]
    },
    {
     "name": "stdout",
     "output_type": "stream",
     "text": [
      "======> epoch: 28/50, Loss:0.00883518997579813\n",
      "Entering Epoch:  29\n"
     ]
    },
    {
     "name": "stderr",
     "output_type": "stream",
     "text": [
      "100%|█████████████████████████████████████████████████| 543/543 [00:00<00:00, 763.17it/s]\n"
     ]
    },
    {
     "name": "stdout",
     "output_type": "stream",
     "text": [
      "======> epoch: 29/50, Loss:0.008294346742331982\n",
      "Entering Epoch:  30\n"
     ]
    },
    {
     "name": "stderr",
     "output_type": "stream",
     "text": [
      "100%|█████████████████████████████████████████████████| 543/543 [00:00<00:00, 753.50it/s]\n"
     ]
    },
    {
     "name": "stdout",
     "output_type": "stream",
     "text": [
      "======> epoch: 30/50, Loss:0.007036604452878237\n",
      "Entering Epoch:  31\n"
     ]
    },
    {
     "name": "stderr",
     "output_type": "stream",
     "text": [
      "100%|█████████████████████████████████████████████████| 543/543 [00:00<00:00, 757.67it/s]\n"
     ]
    },
    {
     "name": "stdout",
     "output_type": "stream",
     "text": [
      "======> epoch: 31/50, Loss:0.008453235030174255\n",
      "Entering Epoch:  32\n"
     ]
    },
    {
     "name": "stderr",
     "output_type": "stream",
     "text": [
      "100%|█████████████████████████████████████████████████| 543/543 [00:00<00:00, 753.10it/s]\n"
     ]
    },
    {
     "name": "stdout",
     "output_type": "stream",
     "text": [
      "======> epoch: 32/50, Loss:0.007055866997689009\n",
      "Entering Epoch:  33\n"
     ]
    },
    {
     "name": "stderr",
     "output_type": "stream",
     "text": [
      "100%|█████████████████████████████████████████████████| 543/543 [00:00<00:00, 755.53it/s]\n"
     ]
    },
    {
     "name": "stdout",
     "output_type": "stream",
     "text": [
      "======> epoch: 33/50, Loss:0.007058353163301945\n",
      "Entering Epoch:  34\n"
     ]
    },
    {
     "name": "stderr",
     "output_type": "stream",
     "text": [
      "100%|█████████████████████████████████████████████████| 543/543 [00:00<00:00, 755.88it/s]\n"
     ]
    },
    {
     "name": "stdout",
     "output_type": "stream",
     "text": [
      "======> epoch: 34/50, Loss:0.006641881074756384\n",
      "Entering Epoch:  35\n"
     ]
    },
    {
     "name": "stderr",
     "output_type": "stream",
     "text": [
      "100%|█████████████████████████████████████████████████| 543/543 [00:00<00:00, 754.41it/s]\n"
     ]
    },
    {
     "name": "stdout",
     "output_type": "stream",
     "text": [
      "======> epoch: 35/50, Loss:0.00841760728508234\n",
      "Entering Epoch:  36\n"
     ]
    },
    {
     "name": "stderr",
     "output_type": "stream",
     "text": [
      "100%|█████████████████████████████████████████████████| 543/543 [00:00<00:00, 759.06it/s]\n"
     ]
    },
    {
     "name": "stdout",
     "output_type": "stream",
     "text": [
      "======> epoch: 36/50, Loss:0.0071765361353755\n",
      "Entering Epoch:  37\n"
     ]
    },
    {
     "name": "stderr",
     "output_type": "stream",
     "text": [
      "100%|█████████████████████████████████████████████████| 543/543 [00:00<00:00, 761.90it/s]\n"
     ]
    },
    {
     "name": "stdout",
     "output_type": "stream",
     "text": [
      "======> epoch: 37/50, Loss:0.007178639993071556\n",
      "Entering Epoch:  38\n"
     ]
    },
    {
     "name": "stderr",
     "output_type": "stream",
     "text": [
      "100%|█████████████████████████████████████████████████| 543/543 [00:00<00:00, 762.12it/s]\n"
     ]
    },
    {
     "name": "stdout",
     "output_type": "stream",
     "text": [
      "======> epoch: 38/50, Loss:0.007333995308727026\n",
      "Entering Epoch:  39\n"
     ]
    },
    {
     "name": "stderr",
     "output_type": "stream",
     "text": [
      "100%|█████████████████████████████████████████████████| 543/543 [00:00<00:00, 766.01it/s]\n"
     ]
    },
    {
     "name": "stdout",
     "output_type": "stream",
     "text": [
      "======> epoch: 39/50, Loss:0.0065415995195508\n",
      "Entering Epoch:  40\n"
     ]
    },
    {
     "name": "stderr",
     "output_type": "stream",
     "text": [
      "100%|█████████████████████████████████████████████████| 543/543 [00:00<00:00, 767.14it/s]\n"
     ]
    },
    {
     "name": "stdout",
     "output_type": "stream",
     "text": [
      "======> epoch: 40/50, Loss:0.006645505782216787\n",
      "Entering Epoch:  41\n"
     ]
    },
    {
     "name": "stderr",
     "output_type": "stream",
     "text": [
      "100%|█████████████████████████████████████████████████| 543/543 [00:00<00:00, 771.39it/s]\n"
     ]
    },
    {
     "name": "stdout",
     "output_type": "stream",
     "text": [
      "======> epoch: 41/50, Loss:0.008654890581965446\n",
      "Entering Epoch:  42\n"
     ]
    },
    {
     "name": "stderr",
     "output_type": "stream",
     "text": [
      "100%|█████████████████████████████████████████████████| 543/543 [00:00<00:00, 776.66it/s]\n"
     ]
    },
    {
     "name": "stdout",
     "output_type": "stream",
     "text": [
      "======> epoch: 42/50, Loss:0.006579114589840174\n",
      "Entering Epoch:  43\n"
     ]
    },
    {
     "name": "stderr",
     "output_type": "stream",
     "text": [
      "100%|█████████████████████████████████████████████████| 543/543 [00:00<00:00, 774.00it/s]\n"
     ]
    },
    {
     "name": "stdout",
     "output_type": "stream",
     "text": [
      "======> epoch: 43/50, Loss:0.006234381813555956\n",
      "Entering Epoch:  44\n"
     ]
    },
    {
     "name": "stderr",
     "output_type": "stream",
     "text": [
      "100%|█████████████████████████████████████████████████| 543/543 [00:00<00:00, 762.27it/s]\n"
     ]
    },
    {
     "name": "stdout",
     "output_type": "stream",
     "text": [
      "======> epoch: 44/50, Loss:0.007457603234797716\n",
      "Entering Epoch:  45\n"
     ]
    },
    {
     "name": "stderr",
     "output_type": "stream",
     "text": [
      "100%|█████████████████████████████████████████████████| 543/543 [00:00<00:00, 763.69it/s]\n"
     ]
    },
    {
     "name": "stdout",
     "output_type": "stream",
     "text": [
      "======> epoch: 45/50, Loss:0.00713049340993166\n",
      "Entering Epoch:  46\n"
     ]
    },
    {
     "name": "stderr",
     "output_type": "stream",
     "text": [
      "100%|█████████████████████████████████████████████████| 543/543 [00:00<00:00, 757.73it/s]\n"
     ]
    },
    {
     "name": "stdout",
     "output_type": "stream",
     "text": [
      "======> epoch: 46/50, Loss:0.005727588664740324\n",
      "Entering Epoch:  47\n"
     ]
    },
    {
     "name": "stderr",
     "output_type": "stream",
     "text": [
      "100%|█████████████████████████████████████████████████| 543/543 [00:00<00:00, 768.66it/s]\n"
     ]
    },
    {
     "name": "stdout",
     "output_type": "stream",
     "text": [
      "======> epoch: 47/50, Loss:0.006240931339561939\n",
      "Entering Epoch:  48\n"
     ]
    },
    {
     "name": "stderr",
     "output_type": "stream",
     "text": [
      "100%|█████████████████████████████████████████████████| 543/543 [00:00<00:00, 759.03it/s]\n"
     ]
    },
    {
     "name": "stdout",
     "output_type": "stream",
     "text": [
      "======> epoch: 48/50, Loss:0.006191660184413195\n",
      "Entering Epoch:  49\n"
     ]
    },
    {
     "name": "stderr",
     "output_type": "stream",
     "text": [
      "100%|█████████████████████████████████████████████████| 543/543 [00:00<00:00, 753.45it/s]"
     ]
    },
    {
     "name": "stdout",
     "output_type": "stream",
     "text": [
      "======> epoch: 49/50, Loss:0.0062394700944423676\n"
     ]
    },
    {
     "name": "stderr",
     "output_type": "stream",
     "text": [
      "\n"
     ]
    }
   ],
   "source": [
    "#We check whether cuda is available and choose device accordingly\n",
    "if torch.cuda.is_available()==True:\n",
    "    device=\"cuda:0\"\n",
    "else:\n",
    "    device =\"cpu\"\n",
    "\n",
    "model = denoising_model().to(device)\n",
    "criterion=nn.MSELoss()\n",
    "optimizer=optim.SGD(model.parameters(),lr=0.01,weight_decay=1e-5)\n",
    "\n",
    "\n",
    "epochs=50\n",
    "l=len(trainloader)\n",
    "losslist=list()\n",
    "epochloss=0\n",
    "running_loss=0\n",
    "for epoch in range(epochs):\n",
    "    print(\"Entering Epoch: \",epoch)\n",
    "    for dirty,clean,label in tqdm((trainloader)):\n",
    "        dirty=dirty.view(dirty.size(0),-1).type(torch.FloatTensor)\n",
    "        clean=clean.view(clean.size(0),-1).type(torch.FloatTensor)\n",
    "        dirty,clean=dirty.to(device),clean.to(device)\n",
    "\n",
    "\n",
    "\n",
    "        #-----------------Forward Pass----------------------\n",
    "        output=model(dirty)\n",
    "        loss=criterion(output,clean)\n",
    "        #-----------------Backward Pass---------------------\n",
    "        optimizer.zero_grad()\n",
    "        loss.backward()\n",
    "        optimizer.step()\n",
    "\n",
    "        running_loss+=loss.item()\n",
    "        epochloss+=loss.item()\n",
    "    #-----------------Log-------------------------------\n",
    "    losslist.append(running_loss/l)\n",
    "    running_loss=0\n",
    "    print(\"======> epoch: {}/{}, Loss:{}\".format(epoch,epochs,loss.item()))"
   ]
  },
  {
   "cell_type": "code",
   "execution_count": 86,
   "id": "d6ae0250",
   "metadata": {},
   "outputs": [
    {
     "data": {
      "text/plain": [
       "[<matplotlib.lines.Line2D at 0x7fb962bbbf40>]"
      ]
     },
     "execution_count": 86,
     "metadata": {},
     "output_type": "execute_result"
    },
    {
     "data": {
      "image/png": "[encoded data removed]",
      "text/plain": [
       "<Figure size 432x288 with 1 Axes>"
      ]
     },
     "metadata": {
      "needs_background": "light"
     },
     "output_type": "display_data"
    }
   ],
   "source": [
    "plt.plot(range(len(losslist)),losslist)"
   ]
  },
  {
   "cell_type": "code",
   "execution_count": 88,
   "id": "5e5c20fe",
   "metadata": {},
   "outputs": [
    {
     "data": {
      "image/png": "[encoded data removed]",
      "text/plain": [
       "<Figure size 1440x1440 with 18 Axes>"
      ]
     },
     "metadata": {
      "needs_background": "light"
     },
     "output_type": "display_data"
    }
   ],
   "source": [
    "\"\"\"Here, we try to visualize some of the results.\n",
    "  We randomly generate 6 numbers in between 1 and 10k , run them through the model,\n",
    "  and show the results with comparisons\n",
    "  \n",
    " \"\"\"\n",
    "\n",
    "\n",
    "\n",
    "\n",
    "f,axes= plt.subplots(6,3,figsize=(20,20))\n",
    "axes[0,0].set_title(\"Original Image\")\n",
    "axes[0,1].set_title(\"Dirty Image\")\n",
    "axes[0,2].set_title(\"Cleaned Image\")\n",
    "\n",
    "test_imgs=np.random.randint(0,xtest.shape[0],size=6)\n",
    "for idx in range((6)):\n",
    "    dirty=testset[test_imgs[idx]][0]\n",
    "    clean=testset[test_imgs[idx]][1]\n",
    "    label=testset[test_imgs[idx]][2]\n",
    "    dirty=dirty.view(dirty.size(0),-1).type(torch.FloatTensor)\n",
    "    dirty=dirty.to(device)\n",
    "    output=model(dirty)\n",
    "\n",
    "    output=output.view(1,49,18)\n",
    "    output=output.permute(1,2,0).squeeze(2)\n",
    "    output=output.detach().cpu().numpy()\n",
    "\n",
    "    dirty=dirty.view(1,49,18)\n",
    "    dirty=dirty.permute(1,2,0).squeeze(2)\n",
    "    dirty=dirty.detach().cpu().numpy()\n",
    "\n",
    "    clean=clean.permute(1,2,0).squeeze(2)\n",
    "    clean=clean.detach().cpu().numpy()\n",
    "\n",
    "    axes[idx,0].imshow(clean,cmap=\"gray\")\n",
    "    axes[idx,1].imshow(dirty,cmap=\"gray\")\n",
    "    axes[idx,2].imshow(output,cmap=\"gray\")\n",
    "  "
   ]
  },
  {
   "cell_type": "code",
   "execution_count": null,
   "id": "94dde2fe",
   "metadata": {},
   "outputs": [],
   "source": []
  },
  {
   "cell_type": "code",
   "execution_count": null,
   "id": "2ac2f743",
   "metadata": {},
   "outputs": [],
   "source": []
  },
  {
   "cell_type": "code",
   "execution_count": null,
   "id": "14b65638",
   "metadata": {},
   "outputs": [],
   "source": []
  },
  {
   "cell_type": "code",
   "execution_count": 41,
   "id": "58e32779",
   "metadata": {},
   "outputs": [],
   "source": [
    "import numpy as np\n",
    "from scipy.optimize import minimize\n",
    "from scipy.linalg import cho_factor, cho_solve\n",
    "\n",
    "\n",
    "def params_unwrap(param_vec, shapes, sizes):\n",
    "    \"\"\"Helper routine for minimize_list\"\"\"\n",
    "    args = []\n",
    "    pos = 0\n",
    "    for i in range(len(shapes)):\n",
    "        sz = sizes[i]\n",
    "        args.append(param_vec[pos:pos+sz].reshape(shapes[i]))\n",
    "        pos += sz\n",
    "    return args\n",
    "\n",
    "\n",
    "def params_wrap(param_list):\n",
    "    \"\"\"Helper routine for minimize_list\"\"\"\n",
    "    param_list = [np.array(x) for x in param_list]\n",
    "    shapes = [x.shape for x in param_list]\n",
    "    sizes = [x.size for x in param_list]\n",
    "    param_vec = np.zeros(sum(sizes))\n",
    "    pos = 0\n",
    "    for param in param_list:\n",
    "        sz = param.size\n",
    "        param_vec[pos:pos+sz] = param.ravel()\n",
    "        pos += sz\n",
    "    unwrap = lambda pvec: params_unwrap(pvec, shapes, sizes)\n",
    "    return param_vec, unwrap\n",
    "\n",
    "\n",
    "def minimize_list(cost, init_list, args):\n",
    "    \"\"\"Optimize a list of arrays (wrapper of scipy.optimize.minimize)\n",
    "    The input function \"cost\" should take a list of parameters,\n",
    "    followed by any extra arguments:\n",
    "        cost(init_list, *args)\n",
    "    should return the cost of the initial condition, and a list in the same\n",
    "    format as init_list giving gradients of the cost wrt the parameters.\n",
    "    The options to the optimizer have been hard-coded. You may wish\n",
    "    to change disp to True to get more diagnostics. You may want to\n",
    "    decrease maxiter while debugging. Although please report all results\n",
    "    in Q2-5 using maxiter=500.\n",
    "    The Matlab code comes with a different optimizer, so won't give the same\n",
    "    results.\n",
    "    \"\"\"\n",
    "    opt = {'maxiter': 500, 'disp': False}\n",
    "    init, unwrap = params_wrap(init_list)\n",
    "    def wrap_cost(vec, *args):\n",
    "        E, params_bar = cost(unwrap(vec), *args)\n",
    "        vec_bar, _ = params_wrap(params_bar)\n",
    "        return E, vec_bar\n",
    "    res = minimize(wrap_cost, init, args, 'L-BFGS-B', jac=True, options=opt)\n",
    "    return unwrap(res.x)\n",
    "\n",
    "\n",
    "def linreg_cost(params, X, yy, alpha):\n",
    "    \"\"\"Regularized least squares cost function and gradients\n",
    "    Can be optimized with minimize_list -- see fit_linreg_gradopt for a\n",
    "    demonstration.\n",
    "    Inputs:\n",
    "    params: tuple (ww, bb): weights ww (D,), bias bb scalar\n",
    "         X: N,D design matrix of input features\n",
    "        yy: N,  real-valued targets\n",
    "     alpha: regularization constant\n",
    "    Outputs: (E, [ww_bar, bb_bar]), cost and gradients\n",
    "    \"\"\"\n",
    "    # Unpack parameters from list\n",
    "    ww, bb = params\n",
    "\n",
    "    # forward computation of error\n",
    "    ff = np.dot(X, ww) + bb\n",
    "    res = ff - yy\n",
    "    E = np.dot(res, res) + alpha*np.dot(ww, ww)\n",
    "\n",
    "    # reverse computation of gradients\n",
    "    ff_bar = 2*res\n",
    "    bb_bar = np.sum(ff_bar)\n",
    "    ww_bar = np.dot(X.T, ff_bar) + 2*alpha*ww\n",
    "\n",
    "    return E, [ww_bar, bb_bar]\n",
    "\n",
    "\n",
    "def fit_linreg_gradopt(X, yy, alpha):\n",
    "    \"\"\"\n",
    "    fit a regularized linear regression model with gradient opt\n",
    "         ww, bb = fit_linreg_gradopt(X, yy, alpha)\n",
    "     Find weights and bias by using a gradient-based optimizer\n",
    "     (minimize_list) to improve the regularized least squares cost:\n",
    "       np.sum(((np.dot(X,ww) + bb) - yy)**2) + alpha*np.dot(ww,ww)\n",
    "     Inputs:\n",
    "             X N,D design matrix of input features\n",
    "            yy N,  real-valued targets\n",
    "         alpha     scalar regularization constant\n",
    "     Outputs:\n",
    "            ww D,  fitted weights\n",
    "            bb     scalar fitted bias\n",
    "    \"\"\"\n",
    "    D = X.shape[1]\n",
    "    args = (X, yy, alpha)\n",
    "    init = (np.zeros(D), np.array(0))\n",
    "    ww, bb = minimize_list(linreg_cost, init, args)\n",
    "    return ww, bb\n",
    "\n",
    "\n",
    "def logreg_cost(params, X, yy, alpha):\n",
    "    \"\"\"Regularized logistic regression cost function and gradients\n",
    "    Can be optimized with minimize_list -- see fit_linreg_gradopt for a\n",
    "    demonstration of fitting a similar function.\n",
    "    Inputs:\n",
    "    params: tuple (ww, bb): weights ww (D,), bias bb scalar\n",
    "         X: N,D design matrix of input features\n",
    "        yy: N,  real-valued targets\n",
    "     alpha: regularization constant\n",
    "    Outputs: (E, [ww_bar, bb_bar]), cost and gradients\n",
    "    \"\"\"\n",
    "    # Unpack parameters from list\n",
    "    ww, bb = params\n",
    "\n",
    "    # Force targets to be +/- 1\n",
    "    yy = 2*(yy==1) - 1\n",
    "\n",
    "    # forward computation of error\n",
    "    aa = yy*(np.dot(X, ww) + bb)\n",
    "    sigma = 1/(1 + np.exp(-aa))\n",
    "    E = -np.sum(np.log(sigma)) + alpha*np.dot(ww, ww)\n",
    "\n",
    "    # reverse computation of gradients\n",
    "    aa_bar = sigma - 1\n",
    "    bb_bar = np.dot(aa_bar, yy)\n",
    "    ww_bar = np.dot(X.T, yy*aa_bar) + 2*alpha*ww\n",
    "\n",
    "    return E, (ww_bar, bb_bar)\n",
    "\n",
    "\n",
    "def nn_cost(params, X, yy=None, alpha=None):\n",
    "    \"\"\"NN_COST simple neural network cost function and gradients, or predictions\n",
    "           E, params_bar = nn_cost([ww, bb, V, bk], X, yy, alpha)\n",
    "                    pred = nn_cost([ww, bb, V, bk], X)\n",
    "     Cost function E can be minimized with minimize_list\n",
    "     Inputs:\n",
    "             params (ww, bb, V, bk), where:\n",
    "                    --------------------------------\n",
    "                        ww K,  hidden-output weights\n",
    "                        bb     scalar output bias\n",
    "                         V K,D hidden-input weights\n",
    "                        bk K,  hidden biases\n",
    "                    --------------------------------\n",
    "                  X N,D input design matrix\n",
    "                 yy N,  regression targets\n",
    "              alpha     scalar regularization for weights\n",
    "     Outputs:\n",
    "                     E  sum of squares error\n",
    "            params_bar  gradients wrt params, same format as params\n",
    "     OR\n",
    "               pred N,  predictions if only params and X are given as inputs\n",
    "    \"\"\"\n",
    "    # Unpack parameters from list\n",
    "    ww, bb, V, bk = params\n",
    "\n",
    "    # Forwards computation of cost\n",
    "    A = np.dot(X, V.T) + bk[None,:] # N,K\n",
    "    P = 1 / (1 + np.exp(-A)) # N,K\n",
    "    F = np.dot(P, ww) + bb # N,\n",
    "    if yy is None:\n",
    "        # user wants prediction rather than training signal:\n",
    "        return F\n",
    "    res = F - yy # N,\n",
    "    E = np.dot(res, res) + alpha*(np.sum(V*V) + np.dot(ww,ww)) # 1x1\n",
    "\n",
    "    # Reverse computation of gradients\n",
    "    F_bar = 2*res # N,\n",
    "    ww_bar = np.dot(P.T, F_bar) + 2*alpha*ww # K,\n",
    "    bb_bar = np.sum(F_bar) # scalar\n",
    "    P_bar = np.dot(F_bar[:,None], ww[None,:]) # N,\n",
    "    A_bar = P_bar * P * (1 - P) # N,\n",
    "    V_bar = np.dot(A_bar.T, X) + 2*alpha*V # K,\n",
    "    bk_bar = np.sum(A_bar, 0)\n",
    "\n",
    "    return E, (ww_bar, bb_bar, V_bar, bk_bar)\n",
    "\n",
    "\n",
    "def rbf_fn(X1, X2):\n",
    "    \"\"\"Helper routine for gp_post_par\"\"\"\n",
    "    return np.exp((np.dot(X1,(2*X2.T))-np.sum(X1*X1,1)[:,None]) - np.sum(X2*X2,1)[None,:])\n",
    "\n",
    "\n",
    "def gauss_kernel_fn(X1, X2, ell, sigma_f):\n",
    "    \"\"\"Helper routine for gp_post_par\"\"\"\n",
    "    return sigma_f**2 * rbf_fn(X1/(np.sqrt(2)*ell), X2/(np.sqrt(2)*ell))\n",
    "\n",
    "\n",
    "def gp_post_par(X_rest, X_obs, yy, sigma_y=0.01, ell=5.0, sigma_f=0.01):\n",
    "    \"\"\"GP_POST_PAR means and covariances of a posterior Gaussian process\n",
    "         rest_cond_mu, rest_cond_cov = gp_post_par(X_rest, X_obs, yy)\n",
    "         rest_cond_mu, rest_cond_cov = gp_post_par(X_rest, X_obs, yy, sigma_y, ell, sigma_f)\n",
    "     Calculate the means and covariances at all test locations of the posterior Gaussian\n",
    "     process conditioned on the observations yy at observed locations X_obs.\n",
    "     Inputs:\n",
    "                 X_rest GP test locations\n",
    "                  X_obs locations of observations\n",
    "                     yy observed values\n",
    "                sigma_y observation noise standard deviation\n",
    "                    ell kernel function length scale\n",
    "                sigma_f kernel function standard deviation\n",
    "     Outputs:\n",
    "           rest_cond_mu mean at each location in X_rest\n",
    "          rest_cond_cov covariance matrix between function values at all test locations\n",
    "    \"\"\"\n",
    "    X_rest = X_rest[:, None]\n",
    "    X_obs = X_obs[:, None]\n",
    "    K_rest = gauss_kernel_fn(X_rest, X_rest, ell, sigma_f)\n",
    "    K_rest_obs = gauss_kernel_fn(X_rest, X_obs, ell, sigma_f)\n",
    "    K_obs = gauss_kernel_fn(X_obs, X_obs, ell, sigma_f)\n",
    "    M = K_obs + sigma_y**2 * np.eye(yy.size)\n",
    "    M_cho, M_low = cho_factor(M)\n",
    "    rest_cond_mu = np.dot(K_rest_obs, cho_solve((M_cho, M_low), yy))\n",
    "    rest_cond_cov = K_rest - np.dot(K_rest_obs, cho_solve((M_cho, M_low), K_rest_obs.T))\n",
    "\n",
    "    return rest_cond_mu, rest_cond_cov"
   ]
  },
  {
   "cell_type": "code",
   "execution_count": 51,
   "id": "d81bc8bb",
   "metadata": {},
   "outputs": [],
   "source": [
    "def rmse(preds, labels):\n",
    "    assert(preds.shape[0] == labels.shape[0])\n",
    "    return np.sqrt(np.mean((labels - preds)**2))\n",
    "\n",
    "def nn_rand_weights(xx, yy, alpha):\n",
    "    inp_dim, h1_dim, out_dim = xx.shape[1], 20, 1\n",
    "    \n",
    "    V = init_rand_weights(h1_dim, inp_dim)\n",
    "    bk = init_rand_weights(h1_dim, 1)\n",
    "    ww = init_rand_weights(h1_dim, out_dim)\n",
    "    bb = init_rand_weights(1, 1)\n",
    "\n",
    "    return fit_neural_net((ww, bb, V, bk), (xx, yy, alpha))\n",
    "\n",
    "def nn_q3_weights(xx, yy, alpha):\n",
    "    return fit_neural_net(q3_weights(xx, yy, alpha), (xx, yy, alpha))\n",
    "\n",
    "def fit_neural_net(init, args):\n",
    "    return minimize_list(nn_cost, init, args)\n",
    "\n",
    "def init_rand_weights(dim1, dim2):\n",
    "    np.random.seed(123)\n",
    "    lower, upper = -(1.0 / np.sqrt(dim2)), (1.0 / np.sqrt(dim2))\n",
    "    nums = np.random.normal(0, 0.1, (dim1, dim2))\n",
    "    \n",
    "    if dim2 == 1:\n",
    "        output = (lower + nums*(upper-lower)).reshape(dim1)\n",
    "        if dim1 == 1:\n",
    "            output = output[0]\n",
    "    else:\n",
    "        output = lower + nums*(upper-lower)\n",
    "        \n",
    "    return output"
   ]
  },
  {
   "cell_type": "code",
   "execution_count": 56,
   "id": "d66edaec",
   "metadata": {
    "collapsed": true,
    "scrolled": true
   },
   "outputs": [],
   "source": [
    "from scipy.stats import norm\n",
    "\n",
    "def train_nn_reg(alpha):\n",
    "    w = nn_rand_weights(X_train, y_train, alpha)\n",
    "    return nn_rmse(w, X_val, y_val)\n",
    "\n",
    "def nn_rmse(w, xx, yy):\n",
    "    return rmse(nn_cost(w, xx), yy)\n",
    "\n",
    "def alphas_performance(alphas):\n",
    "    alpha_preds = []\n",
    "    for a in alphas:\n",
    "        alpha_preds.append(train_nn_reg(a))   \n",
    "    return np.asarray(alpha_preds)\n",
    "\n",
    "def PI(alpha_rest, alpha_obs, ys):   \n",
    "    gpp_mu, gpp_cov = gp_post_par(alpha_rest, alpha_obs, ys)\n",
    "    return norm.cdf(np.divide(gpp_mu - np.max(ys),np.sqrt(np.diag(gpp_cov))))\n",
    "\n",
    "def calc_ys(alpha_obs):\n",
    "    #return np.log(0.2700261059757441) - \n",
    "    return np.log(alphas_performance(alpha_obs))\n",
    "\n",
    "def get_best_alpha(alpha_range):\n",
    "    iterations, num_samples = 5, 3\n",
    "    \n",
    "    alpha_obs = [alpha_range[int((j/(num_samples-1))*(alpha_range.size-1))] for j in range(num_samples)]\n",
    "    ys_obs = calc_ys(np.array(alpha_obs)).tolist()\n",
    "    best_alphas = []\n",
    "  \n",
    "    for i in range(iterations):  \n",
    "        cdf = PI(alpha_range, np.asarray(alpha_obs, dtype=float), np.asarray(ys_obs, dtype=float))\n",
    "        \n",
    "        best_alpha_idxs = np.where(cdf == np.max(cdf))[0]\n",
    "        probs = [cdf[i] for i in best_alpha_idxs]\n",
    "        best_alpha_idx = np.random.choice(best_alpha_idxs, 1, p=probs/np.sum(probs))\n",
    "        best_alpha = alpha_range[best_alpha_idx]\n",
    "        \n",
    "        # If this alpha has already been observed then we try the next best one\n",
    "        while best_alpha in alpha_obs:\n",
    "            cdf[best_alpha_idx] = 0\n",
    "            best_alpha_idxs = np.where(cdf == np.max(cdf))[0]\n",
    "            probs = [cdf[i] for i in best_alpha_idxs]\n",
    "            best_alpha_idx = np.random.choice(best_alpha_idxs, 1, p=probs/np.sum(probs))\n",
    "            best_alpha = alpha_range[best_alpha_idx]\n",
    "        \n",
    "        y = calc_ys(np.asarray(best_alpha, dtype=float))\n",
    "        \n",
    "        best_alphas.append(best_alpha[0])\n",
    "        ys_obs.append(y[0])\n",
    "        alpha_obs.append(best_alpha[0])\n",
    "        \n",
    "    val_scores = np.zeros(iterations)\n",
    "    for i, a in enumerate(best_alphas):\n",
    "        val_scores[i] = train_nn_reg(a)\n",
    "\n",
    "    best_alpha = best_alphas[np.where(val_scores == np.min(val_scores))[0][0]]\n",
    "    w = nn_rand_weights(X_train, y_train, best_alpha)\n",
    "        \n",
    "    return best_alpha, np.min(val_scores), nn_rmse(w, X_test, y_test)"
   ]
  },
  {
   "cell_type": "code",
   "execution_count": 57,
   "id": "b641ec49",
   "metadata": {},
   "outputs": [
    {
     "name": "stdout",
     "output_type": "stream",
     "text": [
      "Best alpha=11.34, val_RMSE=0.2848999436610508, test_RMSE=0.2839215619017199\n"
     ]
    }
   ],
   "source": [
    "alpha_range = np.arange(0,50,0.02)\n",
    "best_alpha, val_rmse, test_rmse = get_best_alpha(alpha_range)\n",
    "\n",
    "print(f\"Best alpha={best_alpha}, val_RMSE={val_rmse}, test_RMSE={test_rmse}\")"
   ]
  },
  {
   "cell_type": "code",
   "execution_count": null,
   "id": "8cece19b",
   "metadata": {},
   "outputs": [],
   "source": []
  },
  {
   "cell_type": "code",
   "execution_count": 31,
   "id": "957416cf",
   "metadata": {},
   "outputs": [
    {
     "ename": "ModuleNotFoundError",
     "evalue": "No module named 'keras'",
     "output_type": "error",
     "traceback": [
      "\u001b[0;31m---------------------------------------------------------------------------\u001b[0m",
      "\u001b[0;31mModuleNotFoundError\u001b[0m                       Traceback (most recent call last)",
      "\u001b[0;32m/tmp/ipykernel_10762/339193668.py\u001b[0m in \u001b[0;36m<module>\u001b[0;34m\u001b[0m\n\u001b[1;32m      1\u001b[0m \u001b[0;31m#from tensorflow.keras.models import Sequential\u001b[0m\u001b[0;34m\u001b[0m\u001b[0;34m\u001b[0m\u001b[0m\n\u001b[0;32m----> 2\u001b[0;31m \u001b[0;32mfrom\u001b[0m \u001b[0mkeras\u001b[0m\u001b[0;34m.\u001b[0m\u001b[0mlayers\u001b[0m \u001b[0;32mimport\u001b[0m \u001b[0mDense\u001b[0m\u001b[0;34m,\u001b[0m\u001b[0mConv2D\u001b[0m\u001b[0;34m,\u001b[0m\u001b[0mMaxPooling2D\u001b[0m\u001b[0;34m,\u001b[0m\u001b[0mUpSampling2D\u001b[0m\u001b[0;34m\u001b[0m\u001b[0;34m\u001b[0m\u001b[0m\n\u001b[0m\u001b[1;32m      3\u001b[0m \u001b[0;32mfrom\u001b[0m \u001b[0mkeras\u001b[0m \u001b[0;32mimport\u001b[0m \u001b[0mInput\u001b[0m\u001b[0;34m,\u001b[0m \u001b[0mModel\u001b[0m\u001b[0;34m\u001b[0m\u001b[0;34m\u001b[0m\u001b[0m\n",
      "\u001b[0;31mModuleNotFoundError\u001b[0m: No module named 'keras'"
     ]
    }
   ],
   "source": [
    "#from tensorflow.keras.models import Sequential\n",
    "from keras.layers import Dense,Conv2D,MaxPooling2D,UpSampling2D\n",
    "from keras import Input, Model"
   ]
  },
  {
   "cell_type": "code",
   "execution_count": 9,
   "id": "9139c14d",
   "metadata": {},
   "outputs": [
    {
     "name": "stderr",
     "output_type": "stream",
     "text": [
      "2022-02-16 16:46:30.293263: I tensorflow/compiler/jit/xla_cpu_device.cc:41] Not creating XLA devices, tf_xla_enable_xla_devices not set\n",
      "2022-02-16 16:46:30.293752: I tensorflow/stream_executor/platform/default/dso_loader.cc:49] Successfully opened dynamic library libcuda.so.1\n",
      "2022-02-16 16:46:30.334140: I tensorflow/stream_executor/cuda/cuda_gpu_executor.cc:941] successful NUMA node read from SysFS had negative value (-1), but there must be at least one NUMA node, so returning NUMA node zero\n",
      "2022-02-16 16:46:30.334230: I tensorflow/core/common_runtime/gpu/gpu_device.cc:1720] Found device 0 with properties: \n",
      "pciBusID: 0000:01:00.0 name: NVIDIA GeForce RTX 3080 computeCapability: 8.6\n",
      "coreClock: 1.71GHz coreCount: 68 deviceMemorySize: 9.77GiB deviceMemoryBandwidth: 707.88GiB/s\n",
      "2022-02-16 16:46:30.334244: I tensorflow/stream_executor/platform/default/dso_loader.cc:49] Successfully opened dynamic library libcudart.so.10.1\n",
      "2022-02-16 16:46:30.335251: I tensorflow/stream_executor/platform/default/dso_loader.cc:49] Successfully opened dynamic library libcublas.so.10\n",
      "2022-02-16 16:46:30.335273: I tensorflow/stream_executor/plat"
     ]
    },
    {
     "data": {
      "text/plain": [
       "[PhysicalDevice(name='/physical_device:CPU:0', device_type='CPU'),\n",
       " PhysicalDevice(name='/physical_device:GPU:0', device_type='GPU')]"
      ]
     },
     "execution_count": 9,
     "metadata": {},
     "output_type": "execute_result"
    },
    {
     "name": "stderr",
     "output_type": "stream",
     "text": [
      "form/default/dso_loader.cc:49] Successfully opened dynamic library libcublasLt.so.10\n",
      "2022-02-16 16:46:30.336183: I tensorflow/stream_executor/platform/default/dso_loader.cc:49] Successfully opened dynamic library libcufft.so.10\n",
      "2022-02-16 16:46:30.336317: I tensorflow/stream_executor/platform/default/dso_loader.cc:49] Successfully opened dynamic library libcurand.so.10\n",
      "2022-02-16 16:46:30.337299: I tensorflow/stream_executor/platform/default/dso_loader.cc:49] Successfully opened dynamic library libcusolver.so.10\n",
      "2022-02-16 16:46:30.337845: I tensorflow/stream_executor/platform/default/dso_loader.cc:49] Successfully opened dynamic library libcusparse.so.10\n",
      "2022-02-16 16:46:30.339942: I tensorflow/stream_executor/platform/default/dso_loader.cc:49] Successfully opened dynamic library libcudnn.so.7\n",
      "2022-02-16 16:46:30.339999: I tensorflow/stream_executor/cuda/cuda_gpu_executor.cc:941] successful NUMA node read from SysFS had negative value (-1), but there must be at least one NUMA node, so returning NUMA node zero\n",
      "2022-02-16 16:46:30.340107: I tensorflow/stream_executor/cuda/cuda_gpu_executor.cc:941] successful NUMA node read from SysFS had negative value (-1), but there must be at least one NUMA node, so returning NUMA node zero\n",
      "2022-02-16 16:46:30.340170: I tensorflow/core/common_runtime/gpu/gpu_device.cc:1862] Adding visible gpu devices: 0\n"
     ]
    }
   ],
   "source": [
    "import tensorflow as tf\n",
    "tf.config.get_visible_devices()"
   ]
  },
  {
   "cell_type": "code",
   "execution_count": 49,
   "id": "1d105760",
   "metadata": {},
   "outputs": [],
   "source": [
    "r,c = X_train.shape[0], X_train.shape[1]\n",
    "\n",
    "encoding_dim = 29\n",
    "input_data = Input(shape=(c,))\n",
    "# encoded representation of input\n",
    "encoded = Dense(encoding_dim, activation='relu')(input_data)\n",
    "# decoded representation of code \n",
    "decoded = Dense(c, activation='sigmoid')(encoded)\n",
    "# Model which take input image and shows decoded images\n",
    "autoencoder = Model(input_data, decoded)"
   ]
  },
  {
   "cell_type": "code",
   "execution_count": 50,
   "id": "debffb20",
   "metadata": {},
   "outputs": [],
   "source": [
    "# This model shows encoded images\n",
    "encoder = Model(input_data, encoded)\n",
    "# Creating a decoder model\n",
    "encoded_input = Input(shape=(encoding_dim,))\n",
    "# last layer of the autoencoder model\n",
    "decoder_layer = autoencoder.layers[-1]\n",
    "# decoder model\n",
    "decoder = Model(encoded_input, decoder_layer(encoded_input))"
   ]
  },
  {
   "cell_type": "code",
   "execution_count": 51,
   "id": "174024f8",
   "metadata": {},
   "outputs": [],
   "source": [
    "autoencoder.compile(optimizer='adam', loss='binary_crossentropy')"
   ]
  },
  {
   "cell_type": "code",
   "execution_count": 52,
   "id": "3a859744",
   "metadata": {},
   "outputs": [
    {
     "name": "stdout",
     "output_type": "stream",
     "text": [
      "Epoch 1/10\n",
      "68/68 [==============================] - 0s 2ms/step - loss: 0.6903 - val_loss: 0.6804\n",
      "Epoch 2/10\n",
      "68/68 [==============================] - 0s 2ms/step - loss: 0.6797 - val_loss: 0.6781\n",
      "Epoch 3/10\n",
      "68/68 [==============================] - 0s 2ms/step - loss: 0.6779 - val_loss: 0.6769\n",
      "Epoch 4/10\n",
      "68/68 [==============================] - 0s 2ms/step - loss: 0.6768 - val_loss: 0.6761\n",
      "Epoch 5/10\n",
      "68/68 [==============================] - 0s 2ms/step - loss: 0.6762 - val_loss: 0.6757\n",
      "Epoch 6/10\n",
      "68/68 [==============================] - 0s 2ms/step - loss: 0.6757 - val_loss: 0.6753\n",
      "Epoch 7/10\n",
      "68/68 [==============================] - 0s 2ms/step - loss: 0.6754 - val_loss: 0.6750\n",
      "Epoch 8/10\n",
      "68/68 [==============================] - 0s 2ms/step - loss: 0.6751 - val_loss: 0.6747\n",
      "Epoch 9/10\n",
      "68/68 [==============================] - 0s 2ms/step - loss: 0.6748 - val_loss: 0.6744\n",
      "Epoch 10/10\n",
      "68/68 [==============================] - 0s 2ms/step - loss: 0.6745 - val_loss: 0.6742\n"
     ]
    }
   ],
   "source": [
    "with tf.device('/gpu:0'):\n",
    "    autoencoder.fit(X_train, X_train,\n",
    "                    epochs=10,\n",
    "                    batch_size=256,\n",
    "                    validation_data=(X_val, X_val))"
   ]
  },
  {
   "cell_type": "code",
   "execution_count": 32,
   "id": "e1201480",
   "metadata": {},
   "outputs": [],
   "source": [
    "#x = x_test[0,:].reshape(1,-1)\n",
    "#print(x.shape)\n",
    "encoded_d = encoder.predict(x_test)#[0,:])#.reshape(None,c))\n",
    "decoded_d = decoder.predict(encoded_d)#test[0,:].reshape(None,c))"
   ]
  },
  {
   "cell_type": "code",
   "execution_count": 33,
   "id": "44d9087a",
   "metadata": {},
   "outputs": [
    {
     "data": {
      "image/png": "[encoded data removed]",
      "text/plain": [
       "<Figure size 1440x288 with 20 Axes>"
      ]
     },
     "metadata": {
      "needs_background": "light"
     },
     "output_type": "display_data"
    }
   ],
   "source": [
    "plt.figure(figsize=(20, 4))\n",
    "for i in range(10):\n",
    "    # Display original\n",
    "    ax = plt.subplot(2, 10, i + 1)\n",
    "    plt.imshow(x_test[i].reshape(49, 18))\n",
    "    plt.gray()\n",
    "    ax.get_xaxis().set_visible(False)\n",
    "    ax.get_yaxis().set_visible(False)\n",
    "    # Display reconstruction\n",
    "    ax = plt.subplot(2, 10, i + 1 + 10)\n",
    "    plt.imshow(decoded_d[i].reshape(49, 18))\n",
    "    plt.gray()\n",
    "    ax.get_xaxis().set_visible(False)\n",
    "    ax.get_yaxis().set_visible(False)\n",
    "plt.show()"
   ]
  },
  {
   "cell_type": "code",
   "execution_count": 53,
   "id": "241ab0b1",
   "metadata": {},
   "outputs": [],
   "source": [
    "with tf.device('/gpu:0'):\n",
    "    nx_train = decoder.predict(encoder.predict(X_train))\n",
    "    nx_val = decoder.predict(encoder.predict(X_val))\n",
    "    nx_test = decoder.predict(encoder.predict(X_test))"
   ]
  },
  {
   "cell_type": "code",
   "execution_count": null,
   "id": "ce6cd034",
   "metadata": {},
   "outputs": [],
   "source": []
  },
  {
   "cell_type": "code",
   "execution_count": 14,
   "id": "b8ccd842",
   "metadata": {},
   "outputs": [
    {
     "name": "stdout",
     "output_type": "stream",
     "text": [
      "Model: \"model\"\n",
      "_________________________________________________________________\n",
      "Layer (type)                 Output Shape              Param #   \n",
      "=================================================================\n",
      "input_1 (InputLayer)         [(None, 882, 1, 1)]       0         \n",
      "_________________________________________________________________\n",
      "conv2d (Conv2D)              (None, 882, 1, 4)         40        \n",
      "_________________________________________________________________\n",
      "max_pooling2d (MaxPooling2D) (None, 441, 1, 4)         0         \n",
      "_________________________________________________________________\n",
      "conv2d_1 (Conv2D)            (None, 441, 1, 8)         296       \n",
      "_________________________________________________________________\n",
      "max_pooling2d_1 (MaxPooling2 (None, 441, 1, 8)         0         \n",
      "_________________________________________________________________\n",
      "conv2d_2 (Conv2D)            (None, 441, 1, 8)         584       \n",
      "_________________________________________________________________\n",
      "up_sampling2d (UpSampling2D) (None, 882, 1, 8)         0         \n",
      "_________________________________________________________________\n",
      "conv2d_3 (Conv2D)            (None, 882, 1, 4)         292       \n",
      "_________________________________________________________________\n",
      "up_sampling2d_1 (UpSampling2 (None, 882, 1, 4)         0         \n",
      "_________________________________________________________________\n",
      "conv2d_4 (Conv2D)            (None, 882, 1, 1)         37        \n",
      "=================================================================\n",
      "Total params: 1,249\n",
      "Trainable params: 1,249\n",
      "Non-trainable params: 0\n",
      "_________________________________________________________________\n"
     ]
    }
   ],
   "source": [
    "with tf.device('/gpu:0'):\n",
    "    x = Input(shape=(882,1,1)) \n",
    "\n",
    "    # Encoder\n",
    "    conv1_1 = Conv2D(4, (3, 3), activation='relu', padding='same')(x)\n",
    "    pool1 = MaxPooling2D((2, 1), padding='same')(conv1_1)\n",
    "    conv1_2 = Conv2D(8, (3, 3), activation='relu', padding='same')(pool1)\n",
    "    pool2 = MaxPooling2D((1, 1), padding='same')(conv1_2)\n",
    "\n",
    "    conv2_2 = Conv2D(8, (3, 3), activation='relu', padding='same')(pool2)\n",
    "    up2 = UpSampling2D((2, 1))(conv2_2)\n",
    "    conv2_3 = Conv2D(4, (3, 3), activation='sigmoid', padding='same')(up2) #<--- ADD PADDING HERE\n",
    "    up3 = UpSampling2D((1, 1))(conv2_3)\n",
    "    r = Conv2D(1, (3, 3), activation='sigmoid', padding='same')(up3)\n",
    "\n",
    "    model = Model(inputs=x, outputs=r)\n",
    "    model.compile(optimizer='adadelta', loss='binary_crossentropy', metrics=['accuracy'])\n",
    "    model.summary()"
   ]
  },
  {
   "cell_type": "code",
   "execution_count": null,
   "id": "009cc1a8",
   "metadata": {},
   "outputs": [],
   "source": [
    "with tf.device('/gpu:0'):\n",
    "    print(\"yes\")\n",
    "    model.fit(X_train, X_train,\n",
    "                    epochs=15,\n",
    "                    batch_size=128,\n",
    "                    validation_data=(X_val, X_val))"
   ]
  },
  {
   "cell_type": "code",
   "execution_count": null,
   "id": "78613d26",
   "metadata": {},
   "outputs": [],
   "source": []
  },
  {
   "cell_type": "code",
   "execution_count": 129,
   "id": "df6ac1b1",
   "metadata": {},
   "outputs": [
    {
     "name": "stdout",
     "output_type": "stream",
     "text": [
      "Model: \"sequential_15\"\n",
      "_________________________________________________________________\n",
      "Layer (type)                 Output Shape              Param #   \n",
      "=================================================================\n",
      "conv2d_67 (Conv2D)           (None, 49, 18, 30)        300       \n",
      "_________________________________________________________________\n",
      "max_pooling2d_29 (MaxPooling (None, 49, 9, 30)         0         \n",
      "_________________________________________________________________\n",
      "conv2d_68 (Conv2D)           (None, 49, 9, 15)         4065      \n",
      "_________________________________________________________________\n",
      "max_pooling2d_30 (MaxPooling (None, 49, 9, 15)         0         \n",
      "_________________________________________________________________\n",
      "conv2d_69 (Conv2D)           (None, 49, 9, 15)         2040      \n",
      "_________________________________________________________________\n",
      "up_sampling2d_24 (UpSampling (None, 49, 18, 15)        0         \n",
      "_________________________________________________________________\n",
      "conv2d_70 (Conv2D)           (None, 49, 18, 30)        4080      \n",
      "_________________________________________________________________\n",
      "up_sampling2d_25 (UpSampling (None, 49, 18, 30)        0         \n",
      "_________________________________________________________________\n",
      "conv2d_71 (Conv2D)           (None, 49, 18, 1)         271       \n",
      "=================================================================\n",
      "Total params: 10,756\n",
      "Trainable params: 10,756\n",
      "Non-trainable params: 0\n",
      "_________________________________________________________________\n"
     ]
    }
   ],
   "source": [
    "model = Sequential()\n",
    "# encoder network\n",
    "model.add(Conv2D(30, 3, activation= 'relu', padding='same', input_shape = (49,18, 1)))\n",
    "model.add(MaxPooling2D((1,2), padding= 'same'))\n",
    "model.add(Conv2D(15, 3, activation= 'relu', padding='same'))\n",
    "model.add(MaxPooling2D((1,1), padding= 'same'))\n",
    "#decoder network\n",
    "model.add(Conv2D(15, 3, activation= 'relu', padding='same'))\n",
    "model.add(UpSampling2D((1, 2)))\n",
    "model.add(Conv2D(30, 3, activation= 'relu', padding='same'))\n",
    "model.add(UpSampling2D((1,1)))\n",
    "model.add(Conv2D(1,3,activation='sigmoid', padding= 'same')) # output layer\n",
    "model.compile(optimizer= 'adam', loss = 'binary_crossentropy')\n",
    "model.summary()"
   ]
  },
  {
   "cell_type": "code",
   "execution_count": 128,
   "id": "e0762291",
   "metadata": {},
   "outputs": [
    {
     "name": "stdout",
     "output_type": "stream",
     "text": [
      "Epoch 1/15\n",
      "WARNING:tensorflow:Model was constructed with shape (None, 49, 18, 1) for input KerasTensor(type_spec=TensorSpec(shape=(None, 49, 18, 1), dtype=tf.float32, name='conv2d_62_input'), name='conv2d_62_input', description=\"created by layer 'conv2d_62_input'\"), but it was called on an input with incompatible shape (None, 882, 1, 1).\n"
     ]
    },
    {
     "ename": "ValueError",
     "evalue": "in user code:\n\n    /home/hwixley/miniconda3/envs/tf/lib/python3.9/site-packages/tensorflow/python/keras/engine/training.py:805 train_function  *\n        return step_function(self, iterator)\n    /home/hwixley/miniconda3/envs/tf/lib/python3.9/site-packages/tensorflow/python/keras/engine/training.py:795 step_function  **\n        outputs = model.distribute_strategy.run(run_step, args=(data,))\n    /home/hwixley/miniconda3/envs/tf/lib/python3.9/site-packages/tensorflow/python/distribute/distribute_lib.py:1259 run\n        return self._extended.call_for_each_replica(fn, args=args, kwargs=kwargs)\n    /home/hwixley/miniconda3/envs/tf/lib/python3.9/site-packages/tensorflow/python/distribute/distribute_lib.py:2730 call_for_each_replica\n        return self._call_for_each_replica(fn, args, kwargs)\n    /home/hwixley/miniconda3/envs/tf/lib/python3.9/site-packages/tensorflow/python/distribute/distribute_lib.py:3417 _call_for_each_replica\n        return fn(*args, **kwargs)\n    /home/hwixley/miniconda3/envs/tf/lib/python3.9/site-packages/tensorflow/python/keras/engine/training.py:788 run_step  **\n        outputs = model.train_step(data)\n    /home/hwixley/miniconda3/envs/tf/lib/python3.9/site-packages/tensorflow/python/keras/engine/training.py:755 train_step\n        loss = self.compiled_loss(\n    /home/hwixley/miniconda3/envs/tf/lib/python3.9/site-packages/tensorflow/python/keras/engine/compile_utils.py:203 __call__\n        loss_value = loss_obj(y_t, y_p, sample_weight=sw)\n    /home/hwixley/miniconda3/envs/tf/lib/python3.9/site-packages/tensorflow/python/keras/losses.py:152 __call__\n        losses = call_fn(y_true, y_pred)\n    /home/hwixley/miniconda3/envs/tf/lib/python3.9/site-packages/tensorflow/python/keras/losses.py:256 call  **\n        return ag_fn(y_true, y_pred, **self._fn_kwargs)\n    /home/hwixley/miniconda3/envs/tf/lib/python3.9/site-packages/tensorflow/python/util/dispatch.py:201 wrapper\n        return target(*args, **kwargs)\n    /home/hwixley/miniconda3/envs/tf/lib/python3.9/site-packages/tensorflow/python/keras/losses.py:1608 binary_crossentropy\n        K.binary_crossentropy(y_true, y_pred, from_logits=from_logits), axis=-1)\n    /home/hwixley/miniconda3/envs/tf/lib/python3.9/site-packages/tensorflow/python/util/dispatch.py:201 wrapper\n        return target(*args, **kwargs)\n    /home/hwixley/miniconda3/envs/tf/lib/python3.9/site-packages/tensorflow/python/keras/backend.py:4979 binary_crossentropy\n        return nn.sigmoid_cross_entropy_with_logits(labels=target, logits=output)\n    /home/hwixley/miniconda3/envs/tf/lib/python3.9/site-packages/tensorflow/python/util/dispatch.py:201 wrapper\n        return target(*args, **kwargs)\n    /home/hwixley/miniconda3/envs/tf/lib/python3.9/site-packages/tensorflow/python/ops/nn_impl.py:173 sigmoid_cross_entropy_with_logits\n        raise ValueError(\"logits and labels must have the same shape (%s vs %s)\" %\n\n    ValueError: logits and labels must have the same shape ((None, 882, 2, 30) vs (None, 882, 1, 1))\n",
     "output_type": "error",
     "traceback": [
      "\u001b[0;31m---------------------------------------------------------------------------\u001b[0m",
      "\u001b[0;31mValueError\u001b[0m                                Traceback (most recent call last)",
      "\u001b[0;32m/tmp/ipykernel_36543/1466192715.py\u001b[0m in \u001b[0;36m<module>\u001b[0;34m\u001b[0m\n\u001b[1;32m      1\u001b[0m \u001b[0;32mwith\u001b[0m \u001b[0mtf\u001b[0m\u001b[0;34m.\u001b[0m\u001b[0mdevice\u001b[0m\u001b[0;34m(\u001b[0m\u001b[0;34m'/gpu:0'\u001b[0m\u001b[0;34m)\u001b[0m\u001b[0;34m:\u001b[0m\u001b[0;34m\u001b[0m\u001b[0;34m\u001b[0m\u001b[0m\n\u001b[0;32m----> 2\u001b[0;31m     model.fit(X_train, X_train,\n\u001b[0m\u001b[1;32m      3\u001b[0m                     \u001b[0mepochs\u001b[0m\u001b[0;34m=\u001b[0m\u001b[0;36m15\u001b[0m\u001b[0;34m,\u001b[0m\u001b[0;34m\u001b[0m\u001b[0;34m\u001b[0m\u001b[0m\n\u001b[1;32m      4\u001b[0m                     \u001b[0mbatch_size\u001b[0m\u001b[0;34m=\u001b[0m\u001b[0;36m128\u001b[0m\u001b[0;34m,\u001b[0m\u001b[0;34m\u001b[0m\u001b[0;34m\u001b[0m\u001b[0m\n\u001b[1;32m      5\u001b[0m                     validation_data=(X_val, X_val))\n",
      "\u001b[0;32m~/miniconda3/envs/tf/lib/python3.9/site-packages/tensorflow/python/keras/engine/training.py\u001b[0m in \u001b[0;36mfit\u001b[0;34m(self, x, y, batch_size, epochs, verbose, callbacks, validation_split, validation_data, shuffle, class_weight, sample_weight, initial_epoch, steps_per_epoch, validation_steps, validation_batch_size, validation_freq, max_queue_size, workers, use_multiprocessing)\u001b[0m\n\u001b[1;32m   1098\u001b[0m                 _r=1):\n\u001b[1;32m   1099\u001b[0m               \u001b[0mcallbacks\u001b[0m\u001b[0;34m.\u001b[0m\u001b[0mon_train_batch_begin\u001b[0m\u001b[0;34m(\u001b[0m\u001b[0mstep\u001b[0m\u001b[0;34m)\u001b[0m\u001b[0;34m\u001b[0m\u001b[0;34m\u001b[0m\u001b[0m\n\u001b[0;32m-> 1100\u001b[0;31m               \u001b[0mtmp_logs\u001b[0m \u001b[0;34m=\u001b[0m \u001b[0mself\u001b[0m\u001b[0;34m.\u001b[0m\u001b[0mtrain_function\u001b[0m\u001b[0;34m(\u001b[0m\u001b[0miterator\u001b[0m\u001b[0;34m)\u001b[0m\u001b[0;34m\u001b[0m\u001b[0;34m\u001b[0m\u001b[0m\n\u001b[0m\u001b[1;32m   1101\u001b[0m               \u001b[0;32mif\u001b[0m \u001b[0mdata_handler\u001b[0m\u001b[0;34m.\u001b[0m\u001b[0mshould_sync\u001b[0m\u001b[0;34m:\u001b[0m\u001b[0;34m\u001b[0m\u001b[0;34m\u001b[0m\u001b[0m\n\u001b[1;32m   1102\u001b[0m                 \u001b[0mcontext\u001b[0m\u001b[0;34m.\u001b[0m\u001b[0masync_wait\u001b[0m\u001b[0;34m(\u001b[0m\u001b[0;34m)\u001b[0m\u001b[0;34m\u001b[0m\u001b[0;34m\u001b[0m\u001b[0m\n",
      "\u001b[0;32m~/miniconda3/envs/tf/lib/python3.9/site-packages/tensorflow/python/eager/def_function.py\u001b[0m in \u001b[0;36m__call__\u001b[0;34m(self, *args, **kwds)\u001b[0m\n\u001b[1;32m    826\u001b[0m     \u001b[0mtracing_count\u001b[0m \u001b[0;34m=\u001b[0m \u001b[0mself\u001b[0m\u001b[0;34m.\u001b[0m\u001b[0mexperimental_get_tracing_count\u001b[0m\u001b[0;34m(\u001b[0m\u001b[0;34m)\u001b[0m\u001b[0;34m\u001b[0m\u001b[0;34m\u001b[0m\u001b[0m\n\u001b[1;32m    827\u001b[0m     \u001b[0;32mwith\u001b[0m \u001b[0mtrace\u001b[0m\u001b[0;34m.\u001b[0m\u001b[0mTrace\u001b[0m\u001b[0;34m(\u001b[0m\u001b[0mself\u001b[0m\u001b[0;34m.\u001b[0m\u001b[0m_name\u001b[0m\u001b[0;34m)\u001b[0m \u001b[0;32mas\u001b[0m \u001b[0mtm\u001b[0m\u001b[0;34m:\u001b[0m\u001b[0;34m\u001b[0m\u001b[0;34m\u001b[0m\u001b[0m\n\u001b[0;32m--> 828\u001b[0;31m       \u001b[0mresult\u001b[0m \u001b[0;34m=\u001b[0m \u001b[0mself\u001b[0m\u001b[0;34m.\u001b[0m\u001b[0m_call\u001b[0m\u001b[0;34m(\u001b[0m\u001b[0;34m*\u001b[0m\u001b[0margs\u001b[0m\u001b[0;34m,\u001b[0m \u001b[0;34m**\u001b[0m\u001b[0mkwds\u001b[0m\u001b[0;34m)\u001b[0m\u001b[0;34m\u001b[0m\u001b[0;34m\u001b[0m\u001b[0m\n\u001b[0m\u001b[1;32m    829\u001b[0m       \u001b[0mcompiler\u001b[0m \u001b[0;34m=\u001b[0m \u001b[0;34m\"xla\"\u001b[0m \u001b[0;32mif\u001b[0m \u001b[0mself\u001b[0m\u001b[0;34m.\u001b[0m\u001b[0m_experimental_compile\u001b[0m \u001b[0;32melse\u001b[0m \u001b[0;34m\"nonXla\"\u001b[0m\u001b[0;34m\u001b[0m\u001b[0;34m\u001b[0m\u001b[0m\n\u001b[1;32m    830\u001b[0m       \u001b[0mnew_tracing_count\u001b[0m \u001b[0;34m=\u001b[0m \u001b[0mself\u001b[0m\u001b[0;34m.\u001b[0m\u001b[0mexperimental_get_tracing_count\u001b[0m\u001b[0;34m(\u001b[0m\u001b[0;34m)\u001b[0m\u001b[0;34m\u001b[0m\u001b[0;34m\u001b[0m\u001b[0m\n",
      "\u001b[0;32m~/miniconda3/envs/tf/lib/python3.9/site-packages/tensorflow/python/eager/def_function.py\u001b[0m in \u001b[0;36m_call\u001b[0;34m(self, *args, **kwds)\u001b[0m\n\u001b[1;32m    869\u001b[0m       \u001b[0;31m# This is the first call of __call__, so we have to initialize.\u001b[0m\u001b[0;34m\u001b[0m\u001b[0;34m\u001b[0m\u001b[0m\n\u001b[1;32m    870\u001b[0m       \u001b[0minitializers\u001b[0m \u001b[0;34m=\u001b[0m \u001b[0;34m[\u001b[0m\u001b[0;34m]\u001b[0m\u001b[0;34m\u001b[0m\u001b[0;34m\u001b[0m\u001b[0m\n\u001b[0;32m--> 871\u001b[0;31m       \u001b[0mself\u001b[0m\u001b[0;34m.\u001b[0m\u001b[0m_initialize\u001b[0m\u001b[0;34m(\u001b[0m\u001b[0margs\u001b[0m\u001b[0;34m,\u001b[0m \u001b[0mkwds\u001b[0m\u001b[0;34m,\u001b[0m \u001b[0madd_initializers_to\u001b[0m\u001b[0;34m=\u001b[0m\u001b[0minitializers\u001b[0m\u001b[0;34m)\u001b[0m\u001b[0;34m\u001b[0m\u001b[0;34m\u001b[0m\u001b[0m\n\u001b[0m\u001b[1;32m    872\u001b[0m     \u001b[0;32mfinally\u001b[0m\u001b[0;34m:\u001b[0m\u001b[0;34m\u001b[0m\u001b[0;34m\u001b[0m\u001b[0m\n\u001b[1;32m    873\u001b[0m       \u001b[0;31m# At this point we know that the initialization is complete (or less\u001b[0m\u001b[0;34m\u001b[0m\u001b[0;34m\u001b[0m\u001b[0m\n",
      "\u001b[0;32m~/miniconda3/envs/tf/lib/python3.9/site-packages/tensorflow/python/eager/def_function.py\u001b[0m in \u001b[0;36m_initialize\u001b[0;34m(self, args, kwds, add_initializers_to)\u001b[0m\n\u001b[1;32m    723\u001b[0m     \u001b[0mself\u001b[0m\u001b[0;34m.\u001b[0m\u001b[0m_graph_deleter\u001b[0m \u001b[0;34m=\u001b[0m \u001b[0mFunctionDeleter\u001b[0m\u001b[0;34m(\u001b[0m\u001b[0mself\u001b[0m\u001b[0;34m.\u001b[0m\u001b[0m_lifted_initializer_graph\u001b[0m\u001b[0;34m)\u001b[0m\u001b[0;34m\u001b[0m\u001b[0;34m\u001b[0m\u001b[0m\n\u001b[1;32m    724\u001b[0m     self._concrete_stateful_fn = (\n\u001b[0;32m--> 725\u001b[0;31m         self._stateful_fn._get_concrete_function_internal_garbage_collected(  # pylint: disable=protected-access\n\u001b[0m\u001b[1;32m    726\u001b[0m             *args, **kwds))\n\u001b[1;32m    727\u001b[0m \u001b[0;34m\u001b[0m\u001b[0m\n",
      "\u001b[0;32m~/miniconda3/envs/tf/lib/python3.9/site-packages/tensorflow/python/eager/function.py\u001b[0m in \u001b[0;36m_get_concrete_function_internal_garbage_collected\u001b[0;34m(self, *args, **kwargs)\u001b[0m\n\u001b[1;32m   2967\u001b[0m       \u001b[0margs\u001b[0m\u001b[0;34m,\u001b[0m \u001b[0mkwargs\u001b[0m \u001b[0;34m=\u001b[0m \u001b[0;32mNone\u001b[0m\u001b[0;34m,\u001b[0m \u001b[0;32mNone\u001b[0m\u001b[0;34m\u001b[0m\u001b[0;34m\u001b[0m\u001b[0m\n\u001b[1;32m   2968\u001b[0m     \u001b[0;32mwith\u001b[0m \u001b[0mself\u001b[0m\u001b[0;34m.\u001b[0m\u001b[0m_lock\u001b[0m\u001b[0;34m:\u001b[0m\u001b[0;34m\u001b[0m\u001b[0;34m\u001b[0m\u001b[0m\n\u001b[0;32m-> 2969\u001b[0;31m       \u001b[0mgraph_function\u001b[0m\u001b[0;34m,\u001b[0m \u001b[0m_\u001b[0m \u001b[0;34m=\u001b[0m \u001b[0mself\u001b[0m\u001b[0;34m.\u001b[0m\u001b[0m_maybe_define_function\u001b[0m\u001b[0;34m(\u001b[0m\u001b[0margs\u001b[0m\u001b[0;34m,\u001b[0m \u001b[0mkwargs\u001b[0m\u001b[0;34m)\u001b[0m\u001b[0;34m\u001b[0m\u001b[0;34m\u001b[0m\u001b[0m\n\u001b[0m\u001b[1;32m   2970\u001b[0m     \u001b[0;32mreturn\u001b[0m \u001b[0mgraph_function\u001b[0m\u001b[0;34m\u001b[0m\u001b[0;34m\u001b[0m\u001b[0m\n\u001b[1;32m   2971\u001b[0m \u001b[0;34m\u001b[0m\u001b[0m\n",
      "\u001b[0;32m~/miniconda3/envs/tf/lib/python3.9/site-packages/tensorflow/python/eager/function.py\u001b[0m in \u001b[0;36m_maybe_define_function\u001b[0;34m(self, args, kwargs)\u001b[0m\n\u001b[1;32m   3359\u001b[0m \u001b[0;34m\u001b[0m\u001b[0m\n\u001b[1;32m   3360\u001b[0m           \u001b[0mself\u001b[0m\u001b[0;34m.\u001b[0m\u001b[0m_function_cache\u001b[0m\u001b[0;34m.\u001b[0m\u001b[0mmissed\u001b[0m\u001b[0;34m.\u001b[0m\u001b[0madd\u001b[0m\u001b[0;34m(\u001b[0m\u001b[0mcall_context_key\u001b[0m\u001b[0;34m)\u001b[0m\u001b[0;34m\u001b[0m\u001b[0;34m\u001b[0m\u001b[0m\n\u001b[0;32m-> 3361\u001b[0;31m           \u001b[0mgraph_function\u001b[0m \u001b[0;34m=\u001b[0m \u001b[0mself\u001b[0m\u001b[0;34m.\u001b[0m\u001b[0m_create_graph_function\u001b[0m\u001b[0;34m(\u001b[0m\u001b[0margs\u001b[0m\u001b[0;34m,\u001b[0m \u001b[0mkwargs\u001b[0m\u001b[0;34m)\u001b[0m\u001b[0;34m\u001b[0m\u001b[0;34m\u001b[0m\u001b[0m\n\u001b[0m\u001b[1;32m   3362\u001b[0m           \u001b[0mself\u001b[0m\u001b[0;34m.\u001b[0m\u001b[0m_function_cache\u001b[0m\u001b[0;34m.\u001b[0m\u001b[0mprimary\u001b[0m\u001b[0;34m[\u001b[0m\u001b[0mcache_key\u001b[0m\u001b[0;34m]\u001b[0m \u001b[0;34m=\u001b[0m \u001b[0mgraph_function\u001b[0m\u001b[0;34m\u001b[0m\u001b[0;34m\u001b[0m\u001b[0m\n\u001b[1;32m   3363\u001b[0m \u001b[0;34m\u001b[0m\u001b[0m\n",
      "\u001b[0;32m~/miniconda3/envs/tf/lib/python3.9/site-packages/tensorflow/python/eager/function.py\u001b[0m in \u001b[0;36m_create_graph_function\u001b[0;34m(self, args, kwargs, override_flat_arg_shapes)\u001b[0m\n\u001b[1;32m   3194\u001b[0m     \u001b[0marg_names\u001b[0m \u001b[0;34m=\u001b[0m \u001b[0mbase_arg_names\u001b[0m \u001b[0;34m+\u001b[0m \u001b[0mmissing_arg_names\u001b[0m\u001b[0;34m\u001b[0m\u001b[0;34m\u001b[0m\u001b[0m\n\u001b[1;32m   3195\u001b[0m     graph_function = ConcreteFunction(\n\u001b[0;32m-> 3196\u001b[0;31m         func_graph_module.func_graph_from_py_func(\n\u001b[0m\u001b[1;32m   3197\u001b[0m             \u001b[0mself\u001b[0m\u001b[0;34m.\u001b[0m\u001b[0m_name\u001b[0m\u001b[0;34m,\u001b[0m\u001b[0;34m\u001b[0m\u001b[0;34m\u001b[0m\u001b[0m\n\u001b[1;32m   3198\u001b[0m             \u001b[0mself\u001b[0m\u001b[0;34m.\u001b[0m\u001b[0m_python_function\u001b[0m\u001b[0;34m,\u001b[0m\u001b[0;34m\u001b[0m\u001b[0;34m\u001b[0m\u001b[0m\n",
      "\u001b[0;32m~/miniconda3/envs/tf/lib/python3.9/site-packages/tensorflow/python/framework/func_graph.py\u001b[0m in \u001b[0;36mfunc_graph_from_py_func\u001b[0;34m(name, python_func, args, kwargs, signature, func_graph, autograph, autograph_options, add_control_dependencies, arg_names, op_return_value, collections, capture_by_value, override_flat_arg_shapes)\u001b[0m\n\u001b[1;32m    988\u001b[0m         \u001b[0m_\u001b[0m\u001b[0;34m,\u001b[0m \u001b[0moriginal_func\u001b[0m \u001b[0;34m=\u001b[0m \u001b[0mtf_decorator\u001b[0m\u001b[0;34m.\u001b[0m\u001b[0munwrap\u001b[0m\u001b[0;34m(\u001b[0m\u001b[0mpython_func\u001b[0m\u001b[0;34m)\u001b[0m\u001b[0;34m\u001b[0m\u001b[0;34m\u001b[0m\u001b[0m\n\u001b[1;32m    989\u001b[0m \u001b[0;34m\u001b[0m\u001b[0m\n\u001b[0;32m--> 990\u001b[0;31m       \u001b[0mfunc_outputs\u001b[0m \u001b[0;34m=\u001b[0m \u001b[0mpython_func\u001b[0m\u001b[0;34m(\u001b[0m\u001b[0;34m*\u001b[0m\u001b[0mfunc_args\u001b[0m\u001b[0;34m,\u001b[0m \u001b[0;34m**\u001b[0m\u001b[0mfunc_kwargs\u001b[0m\u001b[0;34m)\u001b[0m\u001b[0;34m\u001b[0m\u001b[0;34m\u001b[0m\u001b[0m\n\u001b[0m\u001b[1;32m    991\u001b[0m \u001b[0;34m\u001b[0m\u001b[0m\n\u001b[1;32m    992\u001b[0m       \u001b[0;31m# invariant: `func_outputs` contains only Tensors, CompositeTensors,\u001b[0m\u001b[0;34m\u001b[0m\u001b[0;34m\u001b[0m\u001b[0m\n",
      "\u001b[0;32m~/miniconda3/envs/tf/lib/python3.9/site-packages/tensorflow/python/eager/def_function.py\u001b[0m in \u001b[0;36mwrapped_fn\u001b[0;34m(*args, **kwds)\u001b[0m\n\u001b[1;32m    632\u001b[0m             \u001b[0mxla_context\u001b[0m\u001b[0;34m.\u001b[0m\u001b[0mExit\u001b[0m\u001b[0;34m(\u001b[0m\u001b[0;34m)\u001b[0m\u001b[0;34m\u001b[0m\u001b[0;34m\u001b[0m\u001b[0m\n\u001b[1;32m    633\u001b[0m         \u001b[0;32melse\u001b[0m\u001b[0;34m:\u001b[0m\u001b[0;34m\u001b[0m\u001b[0;34m\u001b[0m\u001b[0m\n\u001b[0;32m--> 634\u001b[0;31m           \u001b[0mout\u001b[0m \u001b[0;34m=\u001b[0m \u001b[0mweak_wrapped_fn\u001b[0m\u001b[0;34m(\u001b[0m\u001b[0;34m)\u001b[0m\u001b[0;34m.\u001b[0m\u001b[0m__wrapped__\u001b[0m\u001b[0;34m(\u001b[0m\u001b[0;34m*\u001b[0m\u001b[0margs\u001b[0m\u001b[0;34m,\u001b[0m \u001b[0;34m**\u001b[0m\u001b[0mkwds\u001b[0m\u001b[0;34m)\u001b[0m\u001b[0;34m\u001b[0m\u001b[0;34m\u001b[0m\u001b[0m\n\u001b[0m\u001b[1;32m    635\u001b[0m         \u001b[0;32mreturn\u001b[0m \u001b[0mout\u001b[0m\u001b[0;34m\u001b[0m\u001b[0;34m\u001b[0m\u001b[0m\n\u001b[1;32m    636\u001b[0m \u001b[0;34m\u001b[0m\u001b[0m\n",
      "\u001b[0;32m~/miniconda3/envs/tf/lib/python3.9/site-packages/tensorflow/python/framework/func_graph.py\u001b[0m in \u001b[0;36mwrapper\u001b[0;34m(*args, **kwargs)\u001b[0m\n\u001b[1;32m    975\u001b[0m           \u001b[0;32mexcept\u001b[0m \u001b[0mException\u001b[0m \u001b[0;32mas\u001b[0m \u001b[0me\u001b[0m\u001b[0;34m:\u001b[0m  \u001b[0;31m# pylint:disable=broad-except\u001b[0m\u001b[0;34m\u001b[0m\u001b[0;34m\u001b[0m\u001b[0m\n\u001b[1;32m    976\u001b[0m             \u001b[0;32mif\u001b[0m \u001b[0mhasattr\u001b[0m\u001b[0;34m(\u001b[0m\u001b[0me\u001b[0m\u001b[0;34m,\u001b[0m \u001b[0;34m\"ag_error_metadata\"\u001b[0m\u001b[0;34m)\u001b[0m\u001b[0;34m:\u001b[0m\u001b[0;34m\u001b[0m\u001b[0;34m\u001b[0m\u001b[0m\n\u001b[0;32m--> 977\u001b[0;31m               \u001b[0;32mraise\u001b[0m \u001b[0me\u001b[0m\u001b[0;34m.\u001b[0m\u001b[0mag_error_metadata\u001b[0m\u001b[0;34m.\u001b[0m\u001b[0mto_exception\u001b[0m\u001b[0;34m(\u001b[0m\u001b[0me\u001b[0m\u001b[0;34m)\u001b[0m\u001b[0;34m\u001b[0m\u001b[0;34m\u001b[0m\u001b[0m\n\u001b[0m\u001b[1;32m    978\u001b[0m             \u001b[0;32melse\u001b[0m\u001b[0;34m:\u001b[0m\u001b[0;34m\u001b[0m\u001b[0;34m\u001b[0m\u001b[0m\n\u001b[1;32m    979\u001b[0m               \u001b[0;32mraise\u001b[0m\u001b[0;34m\u001b[0m\u001b[0;34m\u001b[0m\u001b[0m\n",
      "\u001b[0;31mValueError\u001b[0m: in user code:\n\n    /home/hwixley/miniconda3/envs/tf/lib/python3.9/site-packages/tensorflow/python/keras/engine/training.py:805 train_function  *\n        return step_function(self, iterator)\n    /home/hwixley/miniconda3/envs/tf/lib/python3.9/site-packages/tensorflow/python/keras/engine/training.py:795 step_function  **\n        outputs = model.distribute_strategy.run(run_step, args=(data,))\n    /home/hwixley/miniconda3/envs/tf/lib/python3.9/site-packages/tensorflow/python/distribute/distribute_lib.py:1259 run\n        return self._extended.call_for_each_replica(fn, args=args, kwargs=kwargs)\n    /home/hwixley/miniconda3/envs/tf/lib/python3.9/site-packages/tensorflow/python/distribute/distribute_lib.py:2730 call_for_each_replica\n        return self._call_for_each_replica(fn, args, kwargs)\n    /home/hwixley/miniconda3/envs/tf/lib/python3.9/site-packages/tensorflow/python/distribute/distribute_lib.py:3417 _call_for_each_replica\n        return fn(*args, **kwargs)\n    /home/hwixley/miniconda3/envs/tf/lib/python3.9/site-packages/tensorflow/python/keras/engine/training.py:788 run_step  **\n        outputs = model.train_step(data)\n    /home/hwixley/miniconda3/envs/tf/lib/python3.9/site-packages/tensorflow/python/keras/engine/training.py:755 train_step\n        loss = self.compiled_loss(\n    /home/hwixley/miniconda3/envs/tf/lib/python3.9/site-packages/tensorflow/python/keras/engine/compile_utils.py:203 __call__\n        loss_value = loss_obj(y_t, y_p, sample_weight=sw)\n    /home/hwixley/miniconda3/envs/tf/lib/python3.9/site-packages/tensorflow/python/keras/losses.py:152 __call__\n        losses = call_fn(y_true, y_pred)\n    /home/hwixley/miniconda3/envs/tf/lib/python3.9/site-packages/tensorflow/python/keras/losses.py:256 call  **\n        return ag_fn(y_true, y_pred, **self._fn_kwargs)\n    /home/hwixley/miniconda3/envs/tf/lib/python3.9/site-packages/tensorflow/python/util/dispatch.py:201 wrapper\n        return target(*args, **kwargs)\n    /home/hwixley/miniconda3/envs/tf/lib/python3.9/site-packages/tensorflow/python/keras/losses.py:1608 binary_crossentropy\n        K.binary_crossentropy(y_true, y_pred, from_logits=from_logits), axis=-1)\n    /home/hwixley/miniconda3/envs/tf/lib/python3.9/site-packages/tensorflow/python/util/dispatch.py:201 wrapper\n        return target(*args, **kwargs)\n    /home/hwixley/miniconda3/envs/tf/lib/python3.9/site-packages/tensorflow/python/keras/backend.py:4979 binary_crossentropy\n        return nn.sigmoid_cross_entropy_with_logits(labels=target, logits=output)\n    /home/hwixley/miniconda3/envs/tf/lib/python3.9/site-packages/tensorflow/python/util/dispatch.py:201 wrapper\n        return target(*args, **kwargs)\n    /home/hwixley/miniconda3/envs/tf/lib/python3.9/site-packages/tensorflow/python/ops/nn_impl.py:173 sigmoid_cross_entropy_with_logits\n        raise ValueError(\"logits and labels must have the same shape (%s vs %s)\" %\n\n    ValueError: logits and labels must have the same shape ((None, 882, 2, 30) vs (None, 882, 1, 1))\n"
     ]
    }
   ],
   "source": [
    "with tf.device('/gpu:0'):\n",
    "    model.fit(X_train, X_train,\n",
    "                    epochs=15,\n",
    "                    batch_size=128,\n",
    "                    validation_data=(X_val, X_val))"
   ]
  },
  {
   "cell_type": "code",
   "execution_count": 112,
   "id": "1bad29da",
   "metadata": {},
   "outputs": [
    {
     "data": {
      "text/plain": [
       "TensorShape([17370, 882, 1, 1])"
      ]
     },
     "execution_count": 112,
     "metadata": {},
     "output_type": "execute_result"
    }
   ],
   "source": [
    "X_train.shape"
   ]
  },
  {
   "cell_type": "code",
   "execution_count": 111,
   "id": "47bd2f75",
   "metadata": {},
   "outputs": [
    {
     "data": {
      "text/plain": [
       "TensorShape([5791])"
      ]
     },
     "execution_count": 111,
     "metadata": {},
     "output_type": "execute_result"
    }
   ],
   "source": [
    "y_val.shape"
   ]
  },
  {
   "cell_type": "code",
   "execution_count": 54,
   "id": "8d4e2cc2",
   "metadata": {},
   "outputs": [],
   "source": [
    "def plot_time(data):\n",
    "    plt.plot(np.arange(0.1, 1.1, 0.1), data)\n",
    "    plt.ylim(-1.1,1.1)\n",
    "    \n",
    "def plot_recording(data):\n",
    "    plt.clf()\n",
    "    idxs = [i*88 for i in range(10)]\n",
    "    ecg = [data[j:j+13] for j in idxs]\n",
    "    plot_time(ecg)\n",
    "    p_acc_x = [data[j+13:j+33] for j in idxs]\n",
    "    plot_time(p_acc_x)\n",
    "    p_acc_y = [data[j+33:j+53] for j in idxs]\n",
    "    plot_time(p_acc_y)\n",
    "    p_acc_z = [data[j+53:j+73] for j in idxs]\n",
    "    plot_time(p_acc_z)\n",
    "    acc_x = [data[j+73] for j in idxs]\n",
    "    plot_time(acc_x)\n",
    "    acc_y = [data[j+74] for j in idxs]\n",
    "    plot_time(acc_y)\n",
    "    acc_z = [data[j+75] for j in idxs]\n",
    "    plot_time(acc_z)\n",
    "    gyr_x = [data[j+76] for j in idxs]\n",
    "    plot_time(gyr_x)\n",
    "    gyr_y = [data[j+77] for j in idxs]\n",
    "    plot_time(gyr_y)\n",
    "    gyr_z = [data[j+78] for j in idxs]\n",
    "    plot_time(gyr_z)\n",
    "    gra_x = [data[j+79] for j in idxs]\n",
    "    plot_time(gra_x)\n",
    "    gra_y = [data[j+80] for j in idxs]\n",
    "    plot_time(gra_y)\n",
    "    gra_z = [data[j+81] for j in idxs]\n",
    "    plot_time(gra_z)\n",
    "    mag_x = [data[j+82] for j in idxs]\n",
    "    plot_time(mag_x)\n",
    "    mag_y = [data[j+83] for j in idxs]\n",
    "    plot_time(mag_y)\n",
    "    mag_z = [data[j+84] for j in idxs]\n",
    "    plot_time(mag_z)\n",
    "    att_roll = [data[j+85] for j in idxs]\n",
    "    plot_time(att_roll)\n",
    "    att_pitch = [data[j+86] for j in idxs]\n",
    "    plot_time(att_pitch)\n",
    "    att_yaw = [data[j+87] for j in idxs]\n",
    "    plot_time(att_yaw)\n",
    "    plt.show()"
   ]
  },
  {
   "cell_type": "code",
   "execution_count": 55,
   "id": "7789bcc2",
   "metadata": {},
   "outputs": [
    {
     "data": {
      "image/png": "[encoded data removed]",
      "text/plain": [
       "<Figure size 432x288 with 1 Axes>"
      ]
     },
     "metadata": {
      "needs_background": "light"
     },
     "output_type": "display_data"
    }
   ],
   "source": [
    "plot_recording(X_train[0,:])"
   ]
  },
  {
   "cell_type": "code",
   "execution_count": 56,
   "id": "c7c829ba",
   "metadata": {},
   "outputs": [
    {
     "data": {
      "image/png": "[encoded data removed]",
      "text/plain": [
       "<Figure size 432x288 with 1 Axes>"
      ]
     },
     "metadata": {
      "needs_background": "light"
     },
     "output_type": "display_data"
    }
   ],
   "source": [
    "plot_recording(nx_train[0,:])"
   ]
  },
  {
   "cell_type": "code",
   "execution_count": null,
   "id": "5b8b5a2a",
   "metadata": {},
   "outputs": [],
   "source": []
  },
  {
   "cell_type": "code",
   "execution_count": 23,
   "id": "91bca821",
   "metadata": {},
   "outputs": [],
   "source": [
    "from sklearn import metrics\n",
    "from sklearn.metrics import confusion_matrix\n",
    "\n",
    "def postMetrics(true, preds, fname):\n",
    "    print(\"MSE: \" + str(metrics.mean_squared_error(true, y_pred)))\n",
    "    print(\"Accuracy: \" + str(metrics.accuracy_score(true, y_pred)))\n",
    "    print(confusion_matrix(true, y_pred))\n",
    "    print()"
   ]
  },
  {
   "cell_type": "code",
   "execution_count": 24,
   "id": "2dd65129",
   "metadata": {},
   "outputs": [
    {
     "name": "stderr",
     "output_type": "stream",
     "text": [
      "/home/hwixley/miniconda3/envs/tf/lib/python3.9/site-packages/sklearn/neural_network/_multilayer_perceptron.py:699: UserWarning: Training interrupted by user.\n",
      "  warnings.warn(\"Training interrupted by user.\")\n"
     ]
    },
    {
     "data": {
      "text/plain": [
       "MLPClassifier(hidden_layer_sizes=(500, 400, 500), random_state=42)"
      ]
     },
     "execution_count": 24,
     "metadata": {},
     "output_type": "execute_result"
    }
   ],
   "source": [
    "from sklearn.neural_network import MLPClassifier\n",
    "nn_size = (500,400,500)\n",
    "clf = MLPClassifier(hidden_layer_sizes=nn_size, random_state=42)\n",
    "clf.fit(nx_train, y_train)"
   ]
  },
  {
   "cell_type": "code",
   "execution_count": 41,
   "id": "5c9dc4e6",
   "metadata": {},
   "outputs": [
    {
     "name": "stdout",
     "output_type": "stream",
     "text": [
      "MSE: 0.1264030391987567\n",
      "Accuracy: 0.8735969608012433\n",
      "[[4786  174]\n",
      " [ 558  273]]\n",
      "\n",
      "MSE: 0.12450353997582456\n",
      "Accuracy: 0.8754964600241755\n",
      "[[4796  180]\n",
      " [ 541  274]]\n",
      "\n"
     ]
    }
   ],
   "source": [
    "y_pred = clf.predict(nx_val)\n",
    "\n",
    "postMetrics(y_val, y_pred, f\"mlp-{nn_size}-val\")\n",
    "\n",
    "\n",
    "y_pred = clf.predict(nx_test)\n",
    "\n",
    "postMetrics(y_test, y_pred, f\"mlp-{nn_size}-test\")"
   ]
  },
  {
   "cell_type": "code",
   "execution_count": 54,
   "id": "56ad5e1f",
   "metadata": {},
   "outputs": [
    {
     "data": {
      "text/plain": [
       "588.0"
      ]
     },
     "execution_count": 54,
     "metadata": {},
     "output_type": "execute_result"
    }
   ],
   "source": [
    "2*882/3"
   ]
  },
  {
   "cell_type": "code",
   "execution_count": null,
   "id": "007a6e4e",
   "metadata": {},
   "outputs": [],
   "source": [
    "from sklearn.neural_network import MLPClassifier\n",
    "nn_size = (500,400,500)\n",
    "clf = MLPClassifier(hidden_layer_sizes=nn_size, random_state=42)\n",
    "clf.fit(X_train, y_train)"
   ]
  },
  {
   "cell_type": "code",
   "execution_count": 44,
   "id": "5885adf6",
   "metadata": {},
   "outputs": [
    {
     "name": "stdout",
     "output_type": "stream",
     "text": [
      "MSE: 0.10999827318252461\n",
      "Accuracy: 0.8900017268174754\n",
      "[[4656  304]\n",
      " [ 333  498]]\n",
      "\n",
      "MSE: 0.10585391124158176\n",
      "Accuracy: 0.8941460887584183\n",
      "[[4674  302]\n",
      " [ 311  504]]\n",
      "\n"
     ]
    }
   ],
   "source": [
    "y_pred = clf.predict(X_val)\n",
    "\n",
    "postMetrics(y_val, y_pred, f\"mlp-{nn_size}-val\")\n",
    "\n",
    "\n",
    "y_pred = clf.predict(X_test)\n",
    "\n",
    "postMetrics(y_test, y_pred, f\"mlp-{nn_size}-test\")"
   ]
  },
  {
   "cell_type": "code",
   "execution_count": null,
   "id": "172fd6c3",
   "metadata": {},
   "outputs": [],
   "source": []
  }
 ],
 "metadata": {
  "kernelspec": {
   "display_name": "Python 3 (ipykernel)",
   "language": "python",
   "name": "python3"
  },
  "language_info": {
   "codemirror_mode": {
    "name": "ipython",
    "version": 3
   },
   "file_extension": ".py",
   "mimetype": "text/x-python",
   "name": "python",
   "nbconvert_exporter": "python",
   "pygments_lexer": "ipython3",
   "version": "3.9.7"
  }
 },
 "nbformat": 4,
 "nbformat_minor": 5
}
