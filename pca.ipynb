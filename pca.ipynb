{
 "cells": [
  {
   "cell_type": "code",
   "execution_count": 34,
   "id": "dfc3b724",
   "metadata": {},
   "outputs": [],
   "source": [
    "from sklearn.decomposition import PCA\n",
    "import numpy as np\n",
    "import os\n",
    "import math"
   ]
  },
  {
   "cell_type": "code",
   "execution_count": 35,
   "id": "d7e4c673",
   "metadata": {},
   "outputs": [],
   "source": [
    "db = \"db14/window-size-10/lag2/all-features/\"\n",
    "data_type = \"\"\n",
    "\n",
    "def loadNpy(filename):\n",
    "    with open(os.getcwd() + \"/train-val-test/\"+ filename, \"rb\") as f: return np.load(f)\n",
    "    \n",
    "def savePickle(data, filename):\n",
    "    with open(os.getcwd() + \"/train-val-test/\" + filename, \"wb\") as f: np.save(f, data)"
   ]
  },
  {
   "cell_type": "code",
   "execution_count": 36,
   "id": "8d29e4b1",
   "metadata": {},
   "outputs": [],
   "source": [
    "X_train, X_val, X_test = loadNpy(db + f\"X{data_type}_train.npy\"), loadNpy(db + f\"X{data_type}_val.npy\"), loadNpy(db + f\"X{data_type}_test.npy\")\n",
    "y_train, y_val, y_test = loadNpy(db + f\"y{data_type}_train.npy\"), loadNpy(db + f\"y{data_type}_val.npy\"), loadNpy(db + f\"y{data_type}_test.npy\")"
   ]
  },
  {
   "cell_type": "code",
   "execution_count": 37,
   "id": "9dae6fda",
   "metadata": {},
   "outputs": [
    {
     "name": "stdout",
     "output_type": "stream",
     "text": [
      "17370\n",
      "892\n"
     ]
    }
   ],
   "source": [
    "r,c = X_train.shape\n",
    "\n",
    "print(r)\n",
    "print(c)"
   ]
  },
  {
   "cell_type": "code",
   "execution_count": 55,
   "id": "9f19f594",
   "metadata": {},
   "outputs": [
    {
     "name": "stdout",
     "output_type": "stream",
     "text": [
      "28\n"
     ]
    }
   ],
   "source": [
    "size = 28#math.floor(np.sqrt(c))\n",
    "print(size)"
   ]
  },
  {
   "cell_type": "code",
   "execution_count": 56,
   "id": "a21699dd",
   "metadata": {},
   "outputs": [
    {
     "data": {
      "text/plain": [
       "9.333333333333334"
      ]
     },
     "execution_count": 56,
     "metadata": {},
     "output_type": "execute_result"
    }
   ],
   "source": [
    "28/3"
   ]
  },
  {
   "cell_type": "markdown",
   "id": "92000986",
   "metadata": {},
   "source": [
    "## PCA"
   ]
  },
  {
   "cell_type": "code",
   "execution_count": 57,
   "id": "6bae4ace",
   "metadata": {},
   "outputs": [],
   "source": [
    "pca = PCA(n_components=size**2)\n",
    "pca.fit(X_train)\n",
    "\n",
    "nx_train = pca.transform(X_train)\n",
    "nx_val = pca.transform(X_val)\n",
    "nx_test = pca.transform(X_test)"
   ]
  },
  {
   "cell_type": "code",
   "execution_count": 58,
   "id": "e60e39eb",
   "metadata": {},
   "outputs": [
    {
     "data": {
      "text/plain": [
       "(17370, 784)"
      ]
     },
     "execution_count": 58,
     "metadata": {},
     "output_type": "execute_result"
    }
   ],
   "source": [
    "nx_train.shape"
   ]
  },
  {
   "cell_type": "code",
   "execution_count": 59,
   "id": "8af29ad0",
   "metadata": {},
   "outputs": [],
   "source": [
    "NX_train = np.zeros((r, 1, size, size))\n",
    "for i in range(r):\n",
    "    NX_train[i,:,:] = nx_train[i,:].reshape(1, size, size)\n",
    "\n",
    "NX_val = np.zeros((nx_val.shape[0], 1, size, size))\n",
    "for j in range(nx_val.shape[0]):\n",
    "    NX_val[j,:,:] = nx_val[j,:].reshape(1, size, size)\n",
    "    \n",
    "NX_test = np.zeros((nx_test.shape[0], 1, size, size))\n",
    "for k in range(nx_test.shape[0]):\n",
    "    NX_test[k,:,:] = nx_test[k,:].reshape(1, size, size)"
   ]
  },
  {
   "cell_type": "code",
   "execution_count": 60,
   "id": "860b8e02",
   "metadata": {},
   "outputs": [
    {
     "data": {
      "text/plain": [
       "(17370, 1, 28, 28)"
      ]
     },
     "execution_count": 60,
     "metadata": {},
     "output_type": "execute_result"
    }
   ],
   "source": [
    "NX_train.shape"
   ]
  },
  {
   "cell_type": "code",
   "execution_count": null,
   "id": "a0dd3fd6",
   "metadata": {},
   "outputs": [],
   "source": []
  },
  {
   "cell_type": "code",
   "execution_count": 61,
   "id": "24a70428",
   "metadata": {},
   "outputs": [],
   "source": [
    "savePickle(NX_train, f\"{db}pca-X_train.npy\")\n",
    "savePickle(NX_test, f\"{db}pca-X_test.npy\")\n",
    "savePickle(NX_val, f\"{db}pca-X_val.npy\")"
   ]
  },
  {
   "cell_type": "code",
   "execution_count": null,
   "id": "84af0b00",
   "metadata": {},
   "outputs": [],
   "source": []
  }
 ],
 "metadata": {
  "kernelspec": {
   "display_name": "Python 3 (ipykernel)",
   "language": "python",
   "name": "python3"
  },
  "language_info": {
   "codemirror_mode": {
    "name": "ipython",
    "version": 3
   },
   "file_extension": ".py",
   "mimetype": "text/x-python",
   "name": "python",
   "nbconvert_exporter": "python",
   "pygments_lexer": "ipython3",
   "version": "3.9.7"
  }
 },
 "nbformat": 4,
 "nbformat_minor": 5
}
