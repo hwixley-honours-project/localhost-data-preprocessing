{
 "cells": [
  {
   "cell_type": "code",
   "execution_count": 1,
   "id": "e0ee70ba",
   "metadata": {},
   "outputs": [],
   "source": [
    "import os\n",
    "import numpy as np\n",
    "from matplotlib import pyplot as plt\n",
    "import pickle"
   ]
  },
  {
   "cell_type": "code",
   "execution_count": 2,
   "id": "0a7316f9",
   "metadata": {},
   "outputs": [],
   "source": [
    "class Recording:\n",
    "    def __init__(self, meta):\n",
    "        self._id = meta._id\n",
    "        self.subject_id = meta.subject_id\n",
    "        self.phone_placement = meta.phone_placement\n",
    "        self.recording_duration = meta.recording_duration\n",
    "        self.chunk_ids = meta.chunk_ids\n",
    "        self.labels = []\n",
    "        self.p_ecg = []\n",
    "        self.p_hr = []\n",
    "        self.p_contact = []\n",
    "        self.p_acc_x = []\n",
    "        self.p_acc_y = []\n",
    "        self.p_acc_z = []\n",
    "        self.acc_x = []\n",
    "        self.acc_y = []\n",
    "        self.acc_z = []\n",
    "        self.gyr_x = []\n",
    "        self.gyr_y = []\n",
    "        self.gyr_z = []\n",
    "        self.gra_x = []\n",
    "        self.gra_y = []\n",
    "        self.gra_z = []\n",
    "        self.mag_x = []\n",
    "        self.mag_y = []\n",
    "        self.mag_z = []\n",
    "        self.att_roll = []\n",
    "        self.att_pitch = []\n",
    "        self.att_yaw = []\n",
    "        self.delta_heading = []\n",
    "        \n",
    "        print(self._id)\n",
    "        r_chunks = rec_chunks[self._id]\n",
    "        for c in r_chunks:\n",
    "            print(c._id)\n",
    "        print()\n",
    "        ordered_chunk_ids = {}\n",
    "        \n",
    "        for chunk in r_chunks:\n",
    "            ordered_chunk_ids[chunk.chunk_index] = chunk\n",
    "            \n",
    "        for i in range(1,len(r_chunks)-1):\n",
    "            chunk = chunks[ordered_chunk_ids[i]._id]\n",
    "            \n",
    "            assert(i == chunk.chunk_index)\n",
    "            \n",
    "            self.labels += chunk.labels\n",
    "            self.p_ecg += chunk.p_ecg\n",
    "            self.p_hr += chunk.p_hr\n",
    "            self.p_contact += chunk.p_contact\n",
    "            self.p_acc_x += chunk.p_acc_x\n",
    "            self.p_acc_y += chunk.p_acc_y\n",
    "            self.p_acc_z += chunk.p_acc_z\n",
    "            self.acc_x += chunk.acc_x\n",
    "            self.acc_y += chunk.acc_y\n",
    "            self.acc_z += chunk.acc_z\n",
    "            self.gyr_x += chunk.gyr_x\n",
    "            self.gyr_y += chunk.gyr_y\n",
    "            self.gyr_z += chunk.gyr_z\n",
    "            self.gra_x += chunk.gra_x\n",
    "            self.gra_y += chunk.gra_y\n",
    "            self.gra_z += chunk.gra_z\n",
    "            self.mag_x += chunk.mag_x\n",
    "            self.mag_y += chunk.mag_y\n",
    "            self.mag_z += chunk.mag_z\n",
    "            self.att_roll += chunk.att_roll\n",
    "            self.att_pitch += chunk.att_pitch\n",
    "            self.att_yaw += chunk.att_yaw\n",
    "            self.delta_heading += chunk.delta_heading\n",
    "            \n",
    "    def getData(self, idx):\n",
    "        "
   ]
  },
  {
   "cell_type": "code",
   "execution_count": null,
   "id": "69b1777a",
   "metadata": {},
   "outputs": [],
   "source": [
    "class IntervalData:\n",
    "    def __init__(self, rec, idx):\n",
    "        self.label = rec.labels[idx]\n",
    "        self.p_ecg = rec.p_ecg[idx*13 : idx*13 + 12]\n",
    "        self.p_acc_x = rec.p_acc_x[idx*20 : idx*20 + 19]\n",
    "        self.p_acc_y = rec.p_acc_y[idx*20 : idx*20 + 19]\n",
    "        self.p_acc_y = rec.p_acc_z[idx*20 : idx*20 + 19]\n",
    "        self.acc_x = rec.acc_x[idx]\n",
    "        self.acc_y = rec.acc_y[idx]\n",
    "        self.acc_z = rec.acc_z[idx]\n",
    "        self.gyr_x = rec.gyr_x[idx]\n",
    "        self.gyr_y = rec.gyr_y[idx]\n",
    "        self.gyr_z = rec.gyr_z[idx]\n",
    "        self.gra_x = rec.gra_x[idx]\n",
    "        self.gra_y = rec.gra_y[idx]\n",
    "        self.gra_z = rec.gra_z[idx]\n",
    "        self.mag_x = rec.mag_x[idx]\n",
    "        self.mag_y = rec.mag_y[idx]\n",
    "        self.mag_z = rec.mag_z[idx]\n",
    "        self.att_roll = rec.att_roll[idx]\n",
    "        self.att_pitch = rec.att_pitch[idx]\n",
    "        self.att_yaw = rec.att_yaw[idx]\n",
    "        self.delta_heading = rec.delta_heading[idx]\n",
    "        \n",
    "    def flatten(self):\n",
    "        size = 17*1 + 13*1 + 20*3\n",
    "        output = np.zeros((size, 1))\n",
    "        \n",
    "        output[0:13] = self.p_ecg\n",
    "        output[]\n",
    "        \n",
    "        "
   ]
  },
  {
   "cell_type": "code",
   "execution_count": 10,
   "id": "aed36560",
   "metadata": {},
   "outputs": [
    {
     "data": {
      "text/plain": [
       "array([[1.],\n",
       "       [1.],\n",
       "       [1.],\n",
       "       [1.],\n",
       "       [1.],\n",
       "       [1.],\n",
       "       [1.],\n",
       "       [1.],\n",
       "       [1.],\n",
       "       [1.],\n",
       "       [1.],\n",
       "       [1.],\n",
       "       [1.],\n",
       "       [2.],\n",
       "       [0.],\n",
       "       [0.],\n",
       "       [0.],\n",
       "       [0.],\n",
       "       [0.],\n",
       "       [0.]])"
      ]
     },
     "execution_count": 10,
     "metadata": {},
     "output_type": "execute_result"
    }
   ],
   "source": [
    "a = np.zeros((20,1))\n",
    "a[0:13] = np.array([1]*13).reshape(-1,1)\n",
    "a[13:14] = [2]\n",
    "a"
   ]
  },
  {
   "cell_type": "markdown",
   "id": "5de3febe",
   "metadata": {},
   "source": [
    "# Read Pickle Data"
   ]
  },
  {
   "cell_type": "code",
   "execution_count": 3,
   "id": "155f119a",
   "metadata": {},
   "outputs": [
    {
     "name": "stdout",
     "output_type": "stream",
     "text": [
      "849B275E-A5B1-4A03-A374-CCFA44F34960\n",
      "AD642CAB-2FE2-4B02-B7E7-0BC7695B6D04\n"
     ]
    }
   ],
   "source": [
    "ddir = os.getcwd() + \"/pickles/db13\"\n",
    "files = os.listdir(ddir)\n",
    "recordings = []\n",
    "\n",
    "for f in files:\n",
    "    reader = open(ddir + \"/\" + f, \"rb\")\n",
    "    rec = pickle.load(reader)\n",
    "    print(rec._id)\n",
    "    recordings.append(rec)"
   ]
  },
  {
   "cell_type": "code",
   "execution_count": null,
   "id": "16530921",
   "metadata": {},
   "outputs": [],
   "source": []
  }
 ],
 "metadata": {
  "kernelspec": {
   "display_name": "Python 3 (ipykernel)",
   "language": "python",
   "name": "python3"
  },
  "language_info": {
   "codemirror_mode": {
    "name": "ipython",
    "version": 3
   },
   "file_extension": ".py",
   "mimetype": "text/x-python",
   "name": "python",
   "nbconvert_exporter": "python",
   "pygments_lexer": "ipython3",
   "version": "3.7.11"
  }
 },
 "nbformat": 4,
 "nbformat_minor": 5
}
