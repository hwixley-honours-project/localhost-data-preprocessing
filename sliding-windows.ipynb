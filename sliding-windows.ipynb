{
 "cells": [
  {
   "cell_type": "code",
   "execution_count": 1,
   "id": "e1eb7b7a",
   "metadata": {},
   "outputs": [],
   "source": [
    "import os\n",
    "import numpy as np\n",
    "from matplotlib import pyplot as plt\n",
    "import pickle"
   ]
  },
  {
   "cell_type": "code",
   "execution_count": 14,
   "id": "27d60f9a",
   "metadata": {},
   "outputs": [],
   "source": [
    "def savePickle(data, filename):\n",
    "    with open(os.getcwd() + \"/train-val-test/\" + filename, \"wb\") as f: np.save(f, data)"
   ]
  },
  {
   "cell_type": "code",
   "execution_count": 3,
   "id": "f43f2035",
   "metadata": {},
   "outputs": [],
   "source": [
    "class User:\n",
    "    def __init__(self, json_doc):\n",
    "        self.subject_id = json_doc[\"subject_id\"]\n",
    "        self.name = json_doc[\"name\"]\n",
    "        self.yob = json_doc[\"yob\"]\n",
    "        self.height = json_doc[\"height\"]\n",
    "        self.weight = json_doc[\"weight\"]\n",
    "        self.is_female = json_doc[\"is_female\"]\n",
    "        self.medical_conditions = json_doc[\"medical_conditions\"]"
   ]
  },
  {
   "cell_type": "code",
   "execution_count": 4,
   "id": "8608ec84",
   "metadata": {},
   "outputs": [],
   "source": [
    "if os.path.exists(os.getcwd() + \"/pickles/db14/users.p\"):\n",
    "    users = pickle.load(open(os.getcwd() + \"/pickles/db14/users.p\", \"rb\"))"
   ]
  },
  {
   "cell_type": "code",
   "execution_count": 5,
   "id": "441b0144",
   "metadata": {},
   "outputs": [],
   "source": [
    "class Recording:\n",
    "    def __init__(self, meta):\n",
    "        self._id = meta._id\n",
    "        self.subject_id = meta.subject_id\n",
    "        self.phone_placement = meta.phone_placement\n",
    "        self.recording_duration = meta.recording_duration\n",
    "        self.chunk_ids = meta.chunk_ids\n",
    "        self.labels = []\n",
    "        self.p_ecg = []\n",
    "        self.p_hr = []\n",
    "        self.p_contact = []\n",
    "        self.p_acc_x = []\n",
    "        self.p_acc_y = []\n",
    "        self.p_acc_z = []\n",
    "        self.acc_x = []\n",
    "        self.acc_y = []\n",
    "        self.acc_z = []\n",
    "        self.gyr_x = []\n",
    "        self.gyr_y = []\n",
    "        self.gyr_z = []\n",
    "        self.gra_x = []\n",
    "        self.gra_y = []\n",
    "        self.gra_z = []\n",
    "        self.mag_x = []\n",
    "        self.mag_y = []\n",
    "        self.mag_z = []\n",
    "        self.att_roll = []\n",
    "        self.att_pitch = []\n",
    "        self.att_yaw = []\n",
    "        self.delta_heading = []\n",
    "        self.height = users[self.subject_id].height\n",
    "        self.weight = users[self.subject_id].weight\n",
    "        \n",
    "        print(self._id)\n",
    "        r_chunks = rec_chunks[self._id]\n",
    "        for c in r_chunks:\n",
    "            print(c._id)\n",
    "        print()\n",
    "        ordered_chunk_ids = {}\n",
    "        \n",
    "        for chunk in r_chunks:\n",
    "            ordered_chunk_ids[chunk.chunk_index] = chunk\n",
    "            \n",
    "        for i in range(1,len(r_chunks)-1):\n",
    "            chunk = chunks[ordered_chunk_ids[i]._id]\n",
    "            \n",
    "            assert(i == chunk.chunk_index)\n",
    "            \n",
    "            self.labels += chunk.labels\n",
    "            self.p_ecg += chunk.p_ecg\n",
    "            self.p_hr += chunk.p_hr\n",
    "            self.p_contact += chunk.p_contact\n",
    "            self.p_acc_x += chunk.p_acc_x\n",
    "            self.p_acc_y += chunk.p_acc_y\n",
    "            self.p_acc_z += chunk.p_acc_z\n",
    "            self.acc_x += chunk.acc_x\n",
    "            self.acc_y += chunk.acc_y\n",
    "            self.acc_z += chunk.acc_z\n",
    "            self.gyr_x += chunk.gyr_x\n",
    "            self.gyr_y += chunk.gyr_y\n",
    "            self.gyr_z += chunk.gyr_z\n",
    "            self.gra_x += chunk.gra_x\n",
    "            self.gra_y += chunk.gra_y\n",
    "            self.gra_z += chunk.gra_z\n",
    "            self.mag_x += chunk.mag_x\n",
    "            self.mag_y += chunk.mag_y\n",
    "            self.mag_z += chunk.mag_z\n",
    "            self.att_roll += chunk.att_roll\n",
    "            self.att_pitch += chunk.att_pitch\n",
    "            self.att_yaw += chunk.att_yaw\n",
    "            self.delta_heading += chunk.delta_heading\n",
    "            \n",
    "    def getIntervals(self, lag):\n",
    "        output = np.zeros((len(self.labels), 92))\n",
    "        returnIdx = -1\n",
    "        \n",
    "        for i in range(len(self.labels)):\n",
    "            data = IntervalData(self, i).flatten()\n",
    "            if data.shape[0] == 92:\n",
    "                output[i,:] = data\n",
    "            else:\n",
    "                returnIdx = i\n",
    "                break\n",
    "        \n",
    "        if returnIdx != -1:\n",
    "            new_output = output[:returnIdx,:]\n",
    "            \n",
    "            return new_output[:-lag,:-1], new_output[lag:,-1]\n",
    "        \n",
    "        else:\n",
    "            return output[:-lag,:-1], output[lag:,-1]"
   ]
  },
  {
   "cell_type": "code",
   "execution_count": 6,
   "id": "1d5f9441",
   "metadata": {},
   "outputs": [],
   "source": [
    "class IntervalData:\n",
    "    def __init__(self, rec, idx):\n",
    "        self.label = [rec.labels[idx]]\n",
    "        self.p_ecg = rec.p_ecg[idx*13 : idx*13 + 13]\n",
    "        self.p_acc_x = rec.p_acc_x[idx*20 : idx*20 + 20]\n",
    "        self.p_acc_y = rec.p_acc_y[idx*20 : idx*20 + 20]\n",
    "        self.p_acc_z = rec.p_acc_z[idx*20 : idx*20 + 20]\n",
    "        self.height = rec.height\n",
    "        self.weight = rec.weight\n",
    "        if idx < len(rec.acc_x):\n",
    "            self.acc_x = [rec.acc_x[idx]]\n",
    "            self.acc_y = [rec.acc_y[idx]]\n",
    "            self.acc_z = [rec.acc_z[idx]]\n",
    "            self.gyr_x = [rec.gyr_x[idx]]\n",
    "            self.gyr_y = [rec.gyr_y[idx]]\n",
    "            self.gyr_z = [rec.gyr_z[idx]]\n",
    "            self.gra_x = [rec.gra_x[idx]]\n",
    "            self.gra_y = [rec.gra_y[idx]]\n",
    "            self.gra_z = [rec.gra_z[idx]]\n",
    "            self.mag_x = [rec.mag_x[idx]]\n",
    "            self.mag_y = [rec.mag_y[idx]]\n",
    "            self.mag_z = [rec.mag_z[idx]]\n",
    "            self.att_roll = [rec.att_roll[idx]]\n",
    "            self.att_pitch = [rec.att_pitch[idx]]\n",
    "            self.att_yaw = [rec.att_yaw[idx]]\n",
    "            self.delta_heading = [rec.delta_heading[idx]]\n",
    "        else:\n",
    "            self.acc_x = []\n",
    "            self.acc_y = []\n",
    "            self.acc_z = []\n",
    "            self.gyr_x = []\n",
    "            self.gyr_y = []\n",
    "            self.gyr_z = []\n",
    "            self.gra_x = []\n",
    "            self.gra_y = []\n",
    "            self.gra_z = []\n",
    "            self.mag_x = []\n",
    "            self.mag_y = []\n",
    "            self.mag_z = []\n",
    "            self.att_roll = []\n",
    "            self.att_pitch = []\n",
    "            self.att_yaw = []\n",
    "            self.delta_heading = []\n",
    "        \n",
    "    def flatten(self):\n",
    "        #size = 17*1 + 13*1 + 20*3\n",
    "        output = np.zeros((92))\n",
    "        \n",
    "        if len(self.p_ecg) == 13:\n",
    "            output[0:13] = np.array(self.p_ecg)\n",
    "        else:\n",
    "            return np.zeros((0))\n",
    "        if len(self.p_acc_x) == 20:\n",
    "            output[13:33] = np.array(self.p_acc_x)\n",
    "            output[33:53] = np.array(self.p_acc_y)\n",
    "            output[53:73] = np.array(self.p_acc_z)\n",
    "        else:\n",
    "            return np.zeros((0))\n",
    "        if len(self.acc_x) == 1:\n",
    "            output[73] = self.acc_x[0]\n",
    "            output[74] = self.acc_y[0]\n",
    "            output[75] = self.acc_z[0]\n",
    "            output[76] = self.gyr_x[0]\n",
    "            output[77] = self.gyr_y[0]\n",
    "            output[78] = self.gyr_z[0]\n",
    "            output[79] = self.gra_x[0]\n",
    "            output[80] = self.gra_y[0]\n",
    "            output[81] = self.gra_z[0]\n",
    "            output[82] = self.mag_x[0]\n",
    "            output[83] = self.mag_y[0]\n",
    "            output[84] = self.mag_z[0]\n",
    "            output[85] = self.att_roll[0]\n",
    "            output[86] = self.att_pitch[0]\n",
    "            output[87] = self.att_yaw[0]\n",
    "            output[88] = self.delta_heading[0]\n",
    "            output[89] = self.height\n",
    "            output[90] = self.weight\n",
    "            output[91] = self.label[0]\n",
    "        else:\n",
    "            return np.zeros((0))\n",
    "        \n",
    "        return output\n",
    "        "
   ]
  },
  {
   "cell_type": "markdown",
   "id": "8300121f",
   "metadata": {},
   "source": [
    "# Read Pickle Data"
   ]
  },
  {
   "cell_type": "code",
   "execution_count": 7,
   "id": "dc79bbc0",
   "metadata": {},
   "outputs": [],
   "source": [
    "db = \"14\""
   ]
  },
  {
   "cell_type": "code",
   "execution_count": 8,
   "id": "83b5a190",
   "metadata": {},
   "outputs": [
    {
     "name": "stdout",
     "output_type": "stream",
     "text": [
      "AEA56528-8D55-49B1-B0DC-A5CCB861850E\n",
      "894DB681-F91D-4568-A027-EA97D234F274\n",
      "00160B9F-7725-41D0-BF42-40679D1FF8C0\n",
      "1909DCBF-C4B6-4535-9996-5519C03C1C7A\n",
      "E4ED61E8-E9DD-41F8-9E15-F9054C0DAE84\n",
      "A43647D0-72C1-4547-89B5-AE7198EBD909\n",
      "D47BF108-145A-48CE-B05C-A8D57F539CD3\n",
      "08F36872-722B-4140-8CB8-ACA17C34358E\n",
      "B6B2C985-1C0A-4FC7-9E8C-E2F05887E57B\n",
      "3B1567A4-5750-4AAA-B9D5-71C8C6674B24\n",
      "4D5F47D2-E7D2-4D15-8081-F7BAE8BBCC94\n",
      "DC15019A-2F4D-4583-B886-1C9ABC01E40A\n",
      "24E5BE1A-F04C-40B3-8ADB-AF8922DADD7A\n",
      "6C6F17B7-7225-4124-95D1-B214D7BCC00C\n",
      "47AE8975-9C88-4B3F-88AB-4899C7FF3DBF\n",
      "7332DDD8-486C-4C33-99CE-00EB01669F9A\n",
      "716D3350-7A76-4F77-BFD8-D0D563B8D3E0\n",
      "001C6F5A-901D-4CD8-8EF9-B8E0AF0548CB\n",
      "1B4C354E-3CAE-4986-B325-9486F3E664BC\n",
      "987E552F-86BA-43D7-AB46-1864A3FD01E0\n",
      "64A2056B-BC1C-4E6F-A641-43DF216EA153\n",
      "40181EF2-1A30-4C0B-81D2-9773E158F5C0\n",
      "C7782005-0FF7-4F34-B10D-F8BA655BA7B6\n",
      "666F15F0-2E75-43BB-8DAD-8CD223375F07\n",
      "36D1280E-8412-4747-959D-63078BE2EAF3\n"
     ]
    }
   ],
   "source": [
    "ddir = os.getcwd() + \"/pickles/db14\"\n",
    "files = os.listdir(ddir)\n",
    "recordings = []\n",
    "\n",
    "for f in files:\n",
    "    if not \"users.p\" in f:\n",
    "        reader = open(ddir + \"/\" + f, \"rb\")\n",
    "        rec = pickle.load(reader)\n",
    "        print(rec._id)\n",
    "        recordings.append(rec)"
   ]
  },
  {
   "cell_type": "markdown",
   "id": "34389225",
   "metadata": {},
   "source": [
    "# Parse Data Into Intervals"
   ]
  },
  {
   "cell_type": "code",
   "execution_count": 9,
   "id": "8b36d023",
   "metadata": {},
   "outputs": [
    {
     "name": "stdout",
     "output_type": "stream",
     "text": [
      "AEA56528-8D55-49B1-B0DC-A5CCB861850E\n",
      "894DB681-F91D-4568-A027-EA97D234F274\n",
      "00160B9F-7725-41D0-BF42-40679D1FF8C0\n",
      "1909DCBF-C4B6-4535-9996-5519C03C1C7A\n",
      "E4ED61E8-E9DD-41F8-9E15-F9054C0DAE84\n",
      "A43647D0-72C1-4547-89B5-AE7198EBD909\n",
      "D47BF108-145A-48CE-B05C-A8D57F539CD3\n",
      "08F36872-722B-4140-8CB8-ACA17C34358E\n",
      "B6B2C985-1C0A-4FC7-9E8C-E2F05887E57B\n",
      "3B1567A4-5750-4AAA-B9D5-71C8C6674B24\n",
      "4D5F47D2-E7D2-4D15-8081-F7BAE8BBCC94\n",
      "DC15019A-2F4D-4583-B886-1C9ABC01E40A\n",
      "24E5BE1A-F04C-40B3-8ADB-AF8922DADD7A\n",
      "6C6F17B7-7225-4124-95D1-B214D7BCC00C\n",
      "47AE8975-9C88-4B3F-88AB-4899C7FF3DBF\n",
      "7332DDD8-486C-4C33-99CE-00EB01669F9A\n",
      "716D3350-7A76-4F77-BFD8-D0D563B8D3E0\n",
      "001C6F5A-901D-4CD8-8EF9-B8E0AF0548CB\n",
      "1B4C354E-3CAE-4986-B325-9486F3E664BC\n",
      "987E552F-86BA-43D7-AB46-1864A3FD01E0\n",
      "64A2056B-BC1C-4E6F-A641-43DF216EA153\n",
      "40181EF2-1A30-4C0B-81D2-9773E158F5C0\n",
      "C7782005-0FF7-4F34-B10D-F8BA655BA7B6\n",
      "666F15F0-2E75-43BB-8DAD-8CD223375F07\n",
      "36D1280E-8412-4747-959D-63078BE2EAF3\n"
     ]
    }
   ],
   "source": [
    "lag = \"2\"\n",
    "\n",
    "intvls = []\n",
    "for r in recordings:\n",
    "    print(r._id)\n",
    "    intvls.append(r.getIntervals(int(lag)))"
   ]
  },
  {
   "cell_type": "markdown",
   "id": "4614123f",
   "metadata": {},
   "source": [
    "# Shift and scale X data"
   ]
  },
  {
   "cell_type": "code",
   "execution_count": 75,
   "id": "4fb4c1a2",
   "metadata": {},
   "outputs": [],
   "source": [
    "x_mu = np.zeros((91))\n",
    "rows = 0\n",
    "\n",
    "for i, xy in enumerate(intvls):\n",
    "    x_mu += np.sum(xy[0], axis=0)\n",
    "    rows += xy[0].shape[0]\n",
    "    \n",
    "x_mu = x_mu/rows"
   ]
  },
  {
   "cell_type": "code",
   "execution_count": 17,
   "id": "bd332db7",
   "metadata": {},
   "outputs": [],
   "source": [
    "x_mu = np.zeros((91))\n",
    "x_std = np.zeros((91))\n",
    "rows = 0\n",
    "\n",
    "for i, xy in enumerate(intvls):\n",
    "    x_mu += np.sum(xy[0], axis=0)\n",
    "    x_std += np.std(xy[0], axis=0)\n",
    "    rows += xy[0].shape[0]\n",
    "    \n",
    "x_mu = x_mu/rows\n",
    "x_std = x_std/rows"
   ]
  },
  {
   "cell_type": "code",
   "execution_count": 13,
   "id": "4b9e3c41",
   "metadata": {},
   "outputs": [],
   "source": [
    "save_dir = f\"db{db}/window-size-{num_windows}/lag{lag}/\""
   ]
  },
  {
   "cell_type": "code",
   "execution_count": 16,
   "id": "18a8bb00",
   "metadata": {},
   "outputs": [],
   "source": [
    "x_min = np.zeros((91)) + 10000\n",
    "x_max = np.zeros((91))\n",
    "\n",
    "for i, xy in enumerate(intvls):\n",
    "    xmin = np.min(xy[0], axis=0)\n",
    "    for j, x in enumerate(xmin):\n",
    "        if x < x_min[j]:\n",
    "            x_min[j] = x\n",
    "    \n",
    "    xmax = np.max(xy[0], axis=0)\n",
    "    for k, x in enumerate(xmax):\n",
    "        if x > x_max[k]:\n",
    "            x_max[k] = x\n",
    "\n",
    "savePickle(x_min, f\"{save_dir}x_min.npy\")\n",
    "savePickle(x_max, f\"{save_dir}x_max.npy\")"
   ]
  },
  {
   "cell_type": "markdown",
   "id": "25d2d365",
   "metadata": {},
   "source": [
    "# Sliding Windows"
   ]
  },
  {
   "cell_type": "code",
   "execution_count": 11,
   "id": "dca0011a",
   "metadata": {},
   "outputs": [],
   "source": [
    "num_windows = 10"
   ]
  },
  {
   "cell_type": "code",
   "execution_count": 61,
   "id": "d30e049a",
   "metadata": {},
   "outputs": [],
   "source": [
    "import more_itertools as mit\n",
    "\n",
    "def window(seq, n=10):\n",
    "    return np.array([list(mit.flatten(s)) for s in mit.windowed(seq, n)])\n",
    "\n",
    "def window_1d(seq, n=10):\n",
    "    return np.lib.stride_tricks.sliding_window_view(seq, window_shape = n)"
   ]
  },
  {
   "cell_type": "code",
   "execution_count": 12,
   "id": "bfa9a606",
   "metadata": {},
   "outputs": [
    {
     "name": "stdout",
     "output_type": "stream",
     "text": [
      "(697, 91)\n",
      "(697,)\n"
     ]
    },
    {
     "ename": "NameError",
     "evalue": "name 'window' is not defined",
     "output_type": "error",
     "traceback": [
      "\u001b[0;31m---------------------------------------------------------------------------\u001b[0m",
      "\u001b[0;31mNameError\u001b[0m                                 Traceback (most recent call last)",
      "\u001b[0;32m/tmp/ipykernel_5923/609654927.py\u001b[0m in \u001b[0;36m<module>\u001b[0;34m\u001b[0m\n\u001b[1;32m      7\u001b[0m     \u001b[0mprint\u001b[0m\u001b[0;34m(\u001b[0m\u001b[0my\u001b[0m\u001b[0;34m.\u001b[0m\u001b[0mshape\u001b[0m\u001b[0;34m)\u001b[0m\u001b[0;34m\u001b[0m\u001b[0;34m\u001b[0m\u001b[0m\n\u001b[1;32m      8\u001b[0m     \u001b[0;31m#xs.append(window((x - x_mu)/x_std, num_windows))\u001b[0m\u001b[0;34m\u001b[0m\u001b[0;34m\u001b[0m\u001b[0;34m\u001b[0m\u001b[0m\n\u001b[0;32m----> 9\u001b[0;31m     \u001b[0mxs\u001b[0m\u001b[0;34m.\u001b[0m\u001b[0mappend\u001b[0m\u001b[0;34m(\u001b[0m\u001b[0mwindow\u001b[0m\u001b[0;34m(\u001b[0m\u001b[0;34m(\u001b[0m\u001b[0mx\u001b[0m \u001b[0;34m-\u001b[0m \u001b[0mx_min\u001b[0m\u001b[0;34m)\u001b[0m\u001b[0;34m/\u001b[0m\u001b[0;34m(\u001b[0m\u001b[0mx_max\u001b[0m \u001b[0;34m-\u001b[0m \u001b[0mx_min\u001b[0m\u001b[0;34m)\u001b[0m\u001b[0;34m,\u001b[0m \u001b[0mnum_windows\u001b[0m\u001b[0;34m)\u001b[0m\u001b[0;34m)\u001b[0m\u001b[0;34m\u001b[0m\u001b[0;34m\u001b[0m\u001b[0m\n\u001b[0m\u001b[1;32m     10\u001b[0m     \u001b[0mys_w\u001b[0m\u001b[0;34m.\u001b[0m\u001b[0mappend\u001b[0m\u001b[0;34m(\u001b[0m\u001b[0mwindow_1d\u001b[0m\u001b[0;34m(\u001b[0m\u001b[0my\u001b[0m\u001b[0;34m,\u001b[0m \u001b[0mnum_windows\u001b[0m\u001b[0;34m)\u001b[0m\u001b[0;34m)\u001b[0m\u001b[0;34m\u001b[0m\u001b[0;34m\u001b[0m\u001b[0m\n\u001b[1;32m     11\u001b[0m     \u001b[0mys\u001b[0m\u001b[0;34m.\u001b[0m\u001b[0mappend\u001b[0m\u001b[0;34m(\u001b[0m\u001b[0mys_w\u001b[0m\u001b[0;34m[\u001b[0m\u001b[0;34m-\u001b[0m\u001b[0;36m1\u001b[0m\u001b[0;34m]\u001b[0m\u001b[0;34m[\u001b[0m\u001b[0;34m:\u001b[0m\u001b[0;34m,\u001b[0m\u001b[0;36m0\u001b[0m\u001b[0;34m]\u001b[0m\u001b[0;34m)\u001b[0m\u001b[0;34m\u001b[0m\u001b[0;34m\u001b[0m\u001b[0m\n",
      "\u001b[0;31mNameError\u001b[0m: name 'window' is not defined"
     ]
    }
   ],
   "source": [
    "ys = []\n",
    "ys_w = []\n",
    "xs = []\n",
    "\n",
    "for x,y in intvls:\n",
    "    print(x.shape)\n",
    "    print(y.shape)\n",
    "    #xs.append(window((x - x_mu)/x_std, num_windows))\n",
    "    xs.append(window((x - x_min)/(x_max - x_min), num_windows))\n",
    "    ys_w.append(window_1d(y, num_windows))\n",
    "    ys.append(ys_w[-1][:,0])\n",
    "    print(xs[-1].shape)\n",
    "    print(ys_w[-1].shape)\n",
    "    print(ys[-1].shape)\n",
    "    print()"
   ]
  },
  {
   "cell_type": "markdown",
   "id": "f8b8e1b0",
   "metadata": {},
   "source": [
    "## Merge windows"
   ]
  },
  {
   "cell_type": "code",
   "execution_count": 63,
   "id": "2f4e027d",
   "metadata": {},
   "outputs": [
    {
     "name": "stdout",
     "output_type": "stream",
     "text": [
      "28952\n"
     ]
    }
   ],
   "source": [
    "num_rows = np.sum([x.shape[0] for x in xs])\n",
    "print(num_rows)"
   ]
  },
  {
   "cell_type": "code",
   "execution_count": 64,
   "id": "8ac24c48",
   "metadata": {},
   "outputs": [],
   "source": [
    "xx = np.zeros((num_rows, num_windows*91))\n",
    "yy = np.zeros((num_rows))\n",
    "\n",
    "offset = 0\n",
    "for i in range(len(xs)):\n",
    "    assert(xs[i].shape[0] == ys[i].shape[0])\n",
    "    \n",
    "    xx[offset : offset+xs[i].shape[0], :] = xs[i]\n",
    "    yy[offset : offset+xs[i].shape[0]] = ys[i]\n",
    "    offset += xs[i].shape[0]"
   ]
  },
  {
   "cell_type": "code",
   "execution_count": 65,
   "id": "f0bc4e57",
   "metadata": {},
   "outputs": [],
   "source": [
    "yy_re = np.zeros((num_rows))\n",
    "\n",
    "offset = 0\n",
    "for i in range(len(xs)):\n",
    "    assert(xs[i].shape[0] == ys_w[i].shape[0])\n",
    "    \n",
    "    for j in range(xs[i].shape[0]):\n",
    "        yy_re[offset+j] = np.sum([(2*ys_w[i][j,k])**(num_windows-k) for k in range(num_windows)])\n",
    "        \n",
    "    offset += xs[i].shape[0]\n",
    "    \n",
    "yy_re = yy_re - np.mean(yy_re)\n",
    "yy_re = yy_re / np.std(yy_re)"
   ]
  },
  {
   "cell_type": "code",
   "execution_count": 66,
   "id": "1b31dd05",
   "metadata": {},
   "outputs": [],
   "source": [
    "yy_rs = np.zeros((num_rows))\n",
    "\n",
    "offset = 0\n",
    "for i in range(len(xs)):\n",
    "    assert(xs[i].shape[0] == ys_w[i].shape[0])\n",
    "    yy_rs[offset : offset+xs[i].shape[0]] = np.sum(ys_w[i], axis=1)\n",
    "    offset += xs[i].shape[0]\n",
    "    \n",
    "yy_rs = yy_rs - np.mean(yy_rs)\n",
    "yy_rs = yy_rs / np.std(yy_rs)"
   ]
  },
  {
   "cell_type": "code",
   "execution_count": 67,
   "id": "fc699502",
   "metadata": {},
   "outputs": [],
   "source": [
    "from sklearn.model_selection import train_test_split\n",
    "\n",
    "X_tmp, X_test, y_tmp, y_test = train_test_split(xx, yy, test_size=0.2, train_size=0.8, random_state=42, shuffle=True)\n",
    "X_train, X_val, y_train, y_val = train_test_split(X_tmp, y_tmp, test_size=0.25, train_size=0.75, random_state=42, shuffle=True)"
   ]
  },
  {
   "cell_type": "code",
   "execution_count": 68,
   "id": "ba549d0f",
   "metadata": {},
   "outputs": [],
   "source": [
    "save_dir = f\"db{db}/window-size-{num_windows}/lag{lag}/\""
   ]
  },
  {
   "cell_type": "code",
   "execution_count": 69,
   "id": "5ec2462b",
   "metadata": {},
   "outputs": [],
   "source": [
    "savePickle(X_train, f\"{save_dir}X_train.npy\")\n",
    "savePickle(X_test, f\"{save_dir}X_test.npy\")\n",
    "savePickle(X_val, f\"{save_dir}X_val.npy\")\n",
    "savePickle(y_train, f\"{save_dir}y_train.npy\")\n",
    "savePickle(y_test, f\"{save_dir}y_test.npy\")\n",
    "savePickle(y_val, f\"{save_dir}y_val.npy\")"
   ]
  },
  {
   "cell_type": "code",
   "execution_count": 70,
   "id": "e6781657",
   "metadata": {},
   "outputs": [],
   "source": [
    "Xre_tmp, Xre_test, yre_tmp, yre_test = train_test_split(xx, yy_re, test_size=0.2, train_size=0.8, random_state=42, shuffle=True)\n",
    "Xre_train, Xre_val, yre_train, yre_val = train_test_split(Xre_tmp, yre_tmp, test_size=0.25, train_size=0.75, random_state=42, shuffle=True)"
   ]
  },
  {
   "cell_type": "code",
   "execution_count": 71,
   "id": "c19c65c8",
   "metadata": {},
   "outputs": [],
   "source": [
    "savePickle(Xre_train, f\"{save_dir}Xre_train.npy\")\n",
    "savePickle(Xre_test, f\"{save_dir}Xre_test.npy\")\n",
    "savePickle(Xre_val, f\"{save_dir}Xre_val.npy\")\n",
    "savePickle(yre_train, f\"{save_dir}yre_train.npy\")\n",
    "savePickle(yre_test, f\"{save_dir}yre_test.npy\")\n",
    "savePickle(yre_val, f\"{save_dir}yre_val.npy\")"
   ]
  },
  {
   "cell_type": "code",
   "execution_count": 72,
   "id": "f57337a3",
   "metadata": {},
   "outputs": [],
   "source": [
    "Xrs_tmp, Xrs_test, yrs_tmp, yrs_test = train_test_split(xx, yy_rs, test_size=0.2, train_size=0.8, random_state=42, shuffle=True)\n",
    "Xrs_train, Xrs_val, yrs_train, yrs_val = train_test_split(Xrs_tmp, yrs_tmp, test_size=0.25, train_size=0.75, random_state=42, shuffle=True)"
   ]
  },
  {
   "cell_type": "code",
   "execution_count": 73,
   "id": "2a7517cf",
   "metadata": {},
   "outputs": [],
   "source": [
    "savePickle(Xrs_train, f\"{save_dir}Xrs_train.npy\")\n",
    "savePickle(Xrs_test, f\"{save_dir}Xrs_test.npy\")\n",
    "savePickle(Xrs_val, f\"{save_dir}Xrs_val.npy\")\n",
    "savePickle(yrs_train, f\"{save_dir}yrs_train.npy\")\n",
    "savePickle(yrs_test, f\"{save_dir}yrs_test.npy\")\n",
    "savePickle(yrs_val, f\"{save_dir}yrs_val.npy\")"
   ]
  },
  {
   "cell_type": "code",
   "execution_count": null,
   "id": "e5f2fe62",
   "metadata": {},
   "outputs": [],
   "source": []
  },
  {
   "cell_type": "code",
   "execution_count": null,
   "id": "4eb1b703",
   "metadata": {},
   "outputs": [],
   "source": []
  }
 ],
 "metadata": {
  "kernelspec": {
   "display_name": "Python 3 (ipykernel)",
   "language": "python",
   "name": "python3"
  },
  "language_info": {
   "codemirror_mode": {
    "name": "ipython",
    "version": 3
   },
   "file_extension": ".py",
   "mimetype": "text/x-python",
   "name": "python",
   "nbconvert_exporter": "python",
   "pygments_lexer": "ipython3",
   "version": "3.7.11"
  }
 },
 "nbformat": 4,
 "nbformat_minor": 5
}
