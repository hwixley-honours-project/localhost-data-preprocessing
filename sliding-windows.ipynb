{
 "cells": [
  {
   "cell_type": "code",
   "execution_count": 1,
   "id": "e1eb7b7a",
   "metadata": {},
   "outputs": [],
   "source": [
    "import os\n",
    "import numpy as np\n",
    "from matplotlib import pyplot as plt\n",
    "import pickle"
   ]
  },
  {
   "cell_type": "code",
   "execution_count": 32,
   "id": "441b0144",
   "metadata": {},
   "outputs": [],
   "source": [
    "class Recording:\n",
    "    def __init__(self, meta):\n",
    "        self._id = meta._id\n",
    "        self.subject_id = meta.subject_id\n",
    "        self.phone_placement = meta.phone_placement\n",
    "        self.recording_duration = meta.recording_duration\n",
    "        self.chunk_ids = meta.chunk_ids\n",
    "        self.labels = []\n",
    "        self.p_ecg = []\n",
    "        self.p_hr = []\n",
    "        self.p_contact = []\n",
    "        self.p_acc_x = []\n",
    "        self.p_acc_y = []\n",
    "        self.p_acc_z = []\n",
    "        self.acc_x = []\n",
    "        self.acc_y = []\n",
    "        self.acc_z = []\n",
    "        self.gyr_x = []\n",
    "        self.gyr_y = []\n",
    "        self.gyr_z = []\n",
    "        self.gra_x = []\n",
    "        self.gra_y = []\n",
    "        self.gra_z = []\n",
    "        self.mag_x = []\n",
    "        self.mag_y = []\n",
    "        self.mag_z = []\n",
    "        self.att_roll = []\n",
    "        self.att_pitch = []\n",
    "        self.att_yaw = []\n",
    "        self.delta_heading = []\n",
    "        \n",
    "        print(self._id)\n",
    "        r_chunks = rec_chunks[self._id]\n",
    "        for c in r_chunks:\n",
    "            print(c._id)\n",
    "        print()\n",
    "        ordered_chunk_ids = {}\n",
    "        \n",
    "        for chunk in r_chunks:\n",
    "            ordered_chunk_ids[chunk.chunk_index] = chunk\n",
    "            \n",
    "        for i in range(1,len(r_chunks)-1):\n",
    "            chunk = chunks[ordered_chunk_ids[i]._id]\n",
    "            \n",
    "            assert(i == chunk.chunk_index)\n",
    "            \n",
    "            self.labels += chunk.labels\n",
    "            self.p_ecg += chunk.p_ecg\n",
    "            self.p_hr += chunk.p_hr\n",
    "            self.p_contact += chunk.p_contact\n",
    "            self.p_acc_x += chunk.p_acc_x\n",
    "            self.p_acc_y += chunk.p_acc_y\n",
    "            self.p_acc_z += chunk.p_acc_z\n",
    "            self.acc_x += chunk.acc_x\n",
    "            self.acc_y += chunk.acc_y\n",
    "            self.acc_z += chunk.acc_z\n",
    "            self.gyr_x += chunk.gyr_x\n",
    "            self.gyr_y += chunk.gyr_y\n",
    "            self.gyr_z += chunk.gyr_z\n",
    "            self.gra_x += chunk.gra_x\n",
    "            self.gra_y += chunk.gra_y\n",
    "            self.gra_z += chunk.gra_z\n",
    "            self.mag_x += chunk.mag_x\n",
    "            self.mag_y += chunk.mag_y\n",
    "            self.mag_z += chunk.mag_z\n",
    "            self.att_roll += chunk.att_roll\n",
    "            self.att_pitch += chunk.att_pitch\n",
    "            self.att_yaw += chunk.att_yaw\n",
    "            self.delta_heading += chunk.delta_heading\n",
    "            \n",
    "    def getIntervals(self):\n",
    "        output = np.zeros((len(self.labels), 90))\n",
    "        \n",
    "        for i in range(len(self.labels)):\n",
    "            output[i,:] = IntervalData(self, i).flatten()\n",
    "        \n",
    "        return output[:,:-1], output[:,-1]"
   ]
  },
  {
   "cell_type": "code",
   "execution_count": 33,
   "id": "1d5f9441",
   "metadata": {},
   "outputs": [],
   "source": [
    "class IntervalData:\n",
    "    def __init__(self, rec, idx):\n",
    "        self.label = rec.labels[idx]\n",
    "        self.p_ecg = rec.p_ecg[idx*13 : idx*13 + 13]\n",
    "        self.p_acc_x = rec.p_acc_x[idx*20 : idx*20 + 20]\n",
    "        self.p_acc_y = rec.p_acc_y[idx*20 : idx*20 + 20]\n",
    "        self.p_acc_z = rec.p_acc_z[idx*20 : idx*20 + 20]\n",
    "        self.acc_x = rec.acc_x[idx]\n",
    "        self.acc_y = rec.acc_y[idx]\n",
    "        self.acc_z = rec.acc_z[idx]\n",
    "        self.gyr_x = rec.gyr_x[idx]\n",
    "        self.gyr_y = rec.gyr_y[idx]\n",
    "        self.gyr_z = rec.gyr_z[idx]\n",
    "        self.gra_x = rec.gra_x[idx]\n",
    "        self.gra_y = rec.gra_y[idx]\n",
    "        self.gra_z = rec.gra_z[idx]\n",
    "        self.mag_x = rec.mag_x[idx]\n",
    "        self.mag_y = rec.mag_y[idx]\n",
    "        self.mag_z = rec.mag_z[idx]\n",
    "        self.att_roll = rec.att_roll[idx]\n",
    "        self.att_pitch = rec.att_pitch[idx]\n",
    "        self.att_yaw = rec.att_yaw[idx]\n",
    "        self.delta_heading = rec.delta_heading[idx]\n",
    "        \n",
    "    def flatten(self):\n",
    "        #size = 17*1 + 13*1 + 20*3\n",
    "        output = np.zeros((90))\n",
    "        \n",
    "        output[0:13] = np.array(self.p_ecg)\n",
    "        output[13:33] = np.array(self.p_acc_x)\n",
    "        output[33:53] = np.array(self.p_acc_y)\n",
    "        output[53:73] = np.array(self.p_acc_z)\n",
    "        output[73] = self.acc_x\n",
    "        output[74] = self.acc_y\n",
    "        output[75] = self.acc_z\n",
    "        output[76] = self.gyr_x\n",
    "        output[77] = self.gyr_y\n",
    "        output[78] = self.gyr_z\n",
    "        output[79] = self.gra_x\n",
    "        output[80] = self.gra_y\n",
    "        output[81] = self.gra_z\n",
    "        output[82] = self.mag_x\n",
    "        output[83] = self.mag_y\n",
    "        output[84] = self.mag_z\n",
    "        output[85] = self.att_roll\n",
    "        output[86] = self.att_pitch\n",
    "        output[87] = self.att_yaw\n",
    "        output[88] = self.delta_heading\n",
    "        output[89] = self.label\n",
    "        \n",
    "        return output\n",
    "        "
   ]
  },
  {
   "cell_type": "markdown",
   "id": "8300121f",
   "metadata": {},
   "source": [
    "# Read Pickle Data"
   ]
  },
  {
   "cell_type": "code",
   "execution_count": 34,
   "id": "83b5a190",
   "metadata": {},
   "outputs": [
    {
     "name": "stdout",
     "output_type": "stream",
     "text": [
      "849B275E-A5B1-4A03-A374-CCFA44F34960\n",
      "AD642CAB-2FE2-4B02-B7E7-0BC7695B6D04\n"
     ]
    }
   ],
   "source": [
    "ddir = os.getcwd() + \"/pickles/db13\"\n",
    "files = os.listdir(ddir)\n",
    "recordings = []\n",
    "\n",
    "for f in files:\n",
    "    reader = open(ddir + \"/\" + f, \"rb\")\n",
    "    rec = pickle.load(reader)\n",
    "    print(rec._id)\n",
    "    recordings.append(rec)"
   ]
  },
  {
   "cell_type": "markdown",
   "id": "34389225",
   "metadata": {},
   "source": [
    "# Parse Data Into Intervals"
   ]
  },
  {
   "cell_type": "code",
   "execution_count": 35,
   "id": "8b36d023",
   "metadata": {},
   "outputs": [],
   "source": [
    "intvls = [r.getIntervals() for r in recordings]"
   ]
  },
  {
   "cell_type": "markdown",
   "id": "25d2d365",
   "metadata": {},
   "source": [
    "# Sliding Windows"
   ]
  },
  {
   "cell_type": "code",
   "execution_count": 44,
   "id": "d30e049a",
   "metadata": {},
   "outputs": [],
   "source": [
    "import more_itertools as mit\n",
    "\n",
    "def window(seq, n=10):\n",
    "    return np.array([list(mit.flatten(s)) for s in mit.windowed(seq, n)])\n",
    "\n",
    "def window_1d(seq, n=10):\n",
    "    return np.lib.stride_tricks.sliding_window_view(seq, window_shape = n)"
   ]
  },
  {
   "cell_type": "code",
   "execution_count": 50,
   "id": "bfa9a606",
   "metadata": {},
   "outputs": [
    {
     "name": "stdout",
     "output_type": "stream",
     "text": [
      "(200, 89)\n",
      "(200,)\n",
      "(191, 890)\n",
      "(191, 10)\n",
      "\n",
      "(200, 89)\n",
      "(200,)\n",
      "(191, 890)\n",
      "(191, 10)\n",
      "\n"
     ]
    }
   ],
   "source": [
    "ys = []\n",
    "xs = []\n",
    "\n",
    "for x,y in intvls:\n",
    "    print(x.shape)\n",
    "    print(y.shape)\n",
    "    xs.append(window(x))\n",
    "    ys.append(window_1d(y))\n",
    "    print(xs[-1].shape)\n",
    "    print(ys[-1].shape)\n",
    "    print()"
   ]
  },
  {
   "cell_type": "markdown",
   "id": "59ba6159",
   "metadata": {},
   "source": [
    "## Merge windows"
   ]
  },
  {
   "cell_type": "code",
   "execution_count": 119,
   "id": "3c65b8f7",
   "metadata": {},
   "outputs": [
    {
     "name": "stdout",
     "output_type": "stream",
     "text": [
      "382\n"
     ]
    }
   ],
   "source": [
    "num_rows = np.sum([x.shape[0] for x in xs])\n",
    "print(num_rows)"
   ]
  },
  {
   "cell_type": "code",
   "execution_count": 120,
   "id": "0c074c75",
   "metadata": {},
   "outputs": [],
   "source": [
    "xx_c = np.zeros((num_rows, 10*89))\n",
    "yy_c = np.zeros((num_rows))\n",
    "\n",
    "offset = 0\n",
    "for i in range(len(xs)):\n",
    "    assert(xs[i].shape[0] == ys[i].shape[0])\n",
    "    xx_c[offset : offset+xs[i].shape[0], :] = xs[i]\n",
    "    yy_c[offset : offset+xs[i].shape[0]] = [1 if s >= 1 else 0 for s in np.sum(ys[i], axis=1)]\n",
    "    offset += xs[i].shape[0]"
   ]
  },
  {
   "cell_type": "code",
   "execution_count": 121,
   "id": "d9577d92",
   "metadata": {},
   "outputs": [],
   "source": [
    "xx_r = np.zeros((num_rows, 10*89))\n",
    "yy_r = np.zeros((num_rows))\n",
    "\n",
    "offset = 0\n",
    "for i in range(len(xs)):\n",
    "    assert(xs[i].shape[0] == ys[i].shape[0])\n",
    "    xx_r[offset : offset+xs[i].shape[0], :] = xs[i]\n",
    "    yy_r[offset : offset+xs[i].shape[0]] = [1 if s >= 1 else 0 for s in np.sum(ys[i], axis=1)]\n",
    "    offset += xs[i].shape[0]"
   ]
  },
  {
   "cell_type": "code",
   "execution_count": 128,
   "id": "b425fbf2",
   "metadata": {},
   "outputs": [],
   "source": [
    "from sklearn.model_selection import train_test_split\n",
    "\n",
    "Xc_train, Xc_test, yc_train, yc_test = train_test_split(xx_c, yy_c, test_size=0.33, random_state=42, shuffle=True)\n",
    "Xr_train, Xr_test, yr_train, yr_test = train_test_split(xx_r, yy_r, test_size=0.33, random_state=42, shuffle=True)"
   ]
  },
  {
   "cell_type": "markdown",
   "id": "1654ca06",
   "metadata": {},
   "source": [
    "# Shift and scale"
   ]
  },
  {
   "cell_type": "code",
   "execution_count": null,
   "id": "470a6b9c",
   "metadata": {},
   "outputs": [],
   "source": [
    "new_x = np"
   ]
  },
  {
   "cell_type": "markdown",
   "id": "cea734c1",
   "metadata": {},
   "source": [
    "# Linear Regression test"
   ]
  },
  {
   "cell_type": "code",
   "execution_count": 123,
   "id": "d5bcef0b",
   "metadata": {},
   "outputs": [],
   "source": [
    "from sklearn.linear_model import LinearRegression\n",
    "from sklearn import metrics"
   ]
  },
  {
   "cell_type": "code",
   "execution_count": 129,
   "id": "7e9b5b22",
   "metadata": {},
   "outputs": [],
   "source": [
    "lr = LinearRegression()"
   ]
  },
  {
   "cell_type": "markdown",
   "id": "934eeeee",
   "metadata": {},
   "source": [
    "### Regression"
   ]
  },
  {
   "cell_type": "code",
   "execution_count": 130,
   "id": "1c822787",
   "metadata": {},
   "outputs": [
    {
     "name": "stdout",
     "output_type": "stream",
     "text": [
      "0.46954492963387634\n"
     ]
    }
   ],
   "source": [
    "lr.fit(Xr_train, yr_train)\n",
    "\n",
    "# Predict\n",
    "y_pred = [1 if p >= 1 else 0 for p in lr.predict(Xr_test)]\n",
    "y_actual = [1 if y >= 1 else 0 for y in yr_test]\n",
    "\n",
    "# RMSE\n",
    "print(np.sqrt(metrics.mean_squared_error(y_actual, y_pred)))"
   ]
  },
  {
   "cell_type": "markdown",
   "id": "c4a28208",
   "metadata": {},
   "source": [
    "### Classification"
   ]
  },
  {
   "cell_type": "code",
   "execution_count": 131,
   "id": "5efff73e",
   "metadata": {},
   "outputs": [
    {
     "name": "stdout",
     "output_type": "stream",
     "text": [
      "1.5299194366824502\n"
     ]
    }
   ],
   "source": [
    "lr.fit(Xc_train, yc_train)\n",
    "\n",
    "# Predict\n",
    "y_pred = lr.predict(Xc_test)\n",
    "\n",
    "# RMSE\n",
    "print(np.sqrt(metrics.mean_squared_error(yc_test, y_pred)))"
   ]
  },
  {
   "cell_type": "markdown",
   "id": "ed831a05",
   "metadata": {},
   "source": [
    "# SVM test"
   ]
  },
  {
   "cell_type": "code",
   "execution_count": 127,
   "id": "d1f07dc2",
   "metadata": {},
   "outputs": [],
   "source": [
    "from sklearn import svm"
   ]
  },
  {
   "cell_type": "markdown",
   "id": "ff7fcead",
   "metadata": {},
   "source": [
    "### Regression"
   ]
  },
  {
   "cell_type": "code",
   "execution_count": 132,
   "id": "21cefeea",
   "metadata": {},
   "outputs": [
    {
     "name": "stdout",
     "output_type": "stream",
     "text": [
      "0.31331489943014873\n"
     ]
    }
   ],
   "source": [
    "regr = svm.SVR()\n",
    "regr.fit(Xr_train, yr_train)\n",
    "\n",
    "y_pred = regr.predict(Xr_test)\n",
    "\n",
    "# RMSE\n",
    "print(np.sqrt(metrics.mean_squared_error(yr_test, y_pred)))"
   ]
  },
  {
   "cell_type": "markdown",
   "id": "7cadf44f",
   "metadata": {},
   "source": [
    "### Classification"
   ]
  },
  {
   "cell_type": "code",
   "execution_count": 133,
   "id": "66033973",
   "metadata": {},
   "outputs": [
    {
     "name": "stdout",
     "output_type": "stream",
     "text": [
      "0.37647348308289513\n"
     ]
    }
   ],
   "source": [
    "clf = svm.SVC()\n",
    "clf.fit(Xc_train, yc_train)\n",
    "\n",
    "y_pred = clf.predict(Xc_test)\n",
    "\n",
    "print(np.sqrt(metrics.mean_squared_error(yc_test, y_pred)))"
   ]
  },
  {
   "cell_type": "code",
   "execution_count": null,
   "id": "50769c47",
   "metadata": {},
   "outputs": [],
   "source": []
  }
 ],
 "metadata": {
  "kernelspec": {
   "display_name": "Python 3 (ipykernel)",
   "language": "python",
   "name": "python3"
  },
  "language_info": {
   "codemirror_mode": {
    "name": "ipython",
    "version": 3
   },
   "file_extension": ".py",
   "mimetype": "text/x-python",
   "name": "python",
   "nbconvert_exporter": "python",
   "pygments_lexer": "ipython3",
   "version": "3.7.11"
  }
 },
 "nbformat": 4,
 "nbformat_minor": 5
}
