{
 "cells": [
  {
   "cell_type": "code",
   "execution_count": 18,
   "id": "b1c671ab",
   "metadata": {},
   "outputs": [],
   "source": [
    "import tensorflow as tf\n",
    "import os\n",
    "import numpy as np\n",
    "from sklearn.metrics import confusion_matrix\n",
    "from tqdm import tqdm\n",
    "import math"
   ]
  },
  {
   "cell_type": "code",
   "execution_count": 2,
   "id": "3e6238a3",
   "metadata": {},
   "outputs": [],
   "source": [
    "DIR = os.getcwd() + \"/train-val-test/db14/window-size-10/lag2/all-features/\""
   ]
  },
  {
   "cell_type": "code",
   "execution_count": 33,
   "id": "07085d3c",
   "metadata": {},
   "outputs": [],
   "source": [
    "X_train = np.load(DIR + \"pca-X_train.npy\")\n",
    "y_train = np.load(DIR + \"y_train.npy\")\n",
    "X_val = np.load(DIR + \"pca-X_val.npy\")\n",
    "y_val = np.load(DIR + \"y_val.npy\")\n",
    "X_test = np.load(DIR + \"pca-X_test.npy\")\n",
    "y_test = np.load(DIR + \"y_test.npy\")"
   ]
  },
  {
   "cell_type": "code",
   "execution_count": 27,
   "id": "83d0caeb",
   "metadata": {},
   "outputs": [
    {
     "data": {
      "text/plain": [
       "(5791, 1, 28, 28)"
      ]
     },
     "execution_count": 27,
     "metadata": {},
     "output_type": "execute_result"
    }
   ],
   "source": [
    "X_train.shape"
   ]
  },
  {
   "cell_type": "code",
   "execution_count": null,
   "id": "abbb0825",
   "metadata": {},
   "outputs": [],
   "source": [
    "with tf.device(\"/gpu:0\"):\n",
    "    X_test = tf.convert_to_tensor(X_test)\n",
    "    y_test = tf.convert_to_tensor(y_test)"
   ]
  },
  {
   "cell_type": "code",
   "execution_count": 28,
   "id": "db8502ec",
   "metadata": {},
   "outputs": [],
   "source": [
    "# Load TFLite model and allocate tensors.\n",
    "interpreter = tf.lite.Interpreter(model_path=os.getcwd() + \"/cnn-tf/saved_model.tflite\")\n",
    "interpreter.allocate_tensors()\n",
    "\n",
    "# Get input and output tensors.\n",
    "input_details = interpreter.get_input_details()\n",
    "output_details = interpreter.get_output_details()"
   ]
  },
  {
   "cell_type": "code",
   "execution_count": 29,
   "id": "d5f69fa8",
   "metadata": {},
   "outputs": [
    {
     "data": {
      "text/plain": [
       "[{'name': 'serving_default_actual_input:0',\n",
       "  'index': 0,\n",
       "  'shape': array([ 1,  1, 28, 28], dtype=int32),\n",
       "  'shape_signature': array([ 1,  1, 28, 28], dtype=int32),\n",
       "  'dtype': numpy.float32,\n",
       "  'quantization': (0.0, 0),\n",
       "  'quantization_parameters': {'scales': array([], dtype=float32),\n",
       "   'zero_points': array([], dtype=int32),\n",
       "   'quantized_dimension': 0},\n",
       "  'sparsity_parameters': {}}]"
      ]
     },
     "execution_count": 29,
     "metadata": {},
     "output_type": "execute_result"
    }
   ],
   "source": [
    "input_details"
   ]
  },
  {
   "cell_type": "code",
   "execution_count": 42,
   "id": "033a50db",
   "metadata": {},
   "outputs": [],
   "source": [
    "def eval_cnn(data, labels):\n",
    "    correct = 0\n",
    "    total = 0\n",
    "    preds = []\n",
    "    tp_exp = []\n",
    "\n",
    "    # Test model on random input data.\n",
    "    for i in range(data.shape[0]):\n",
    "        input_shape = input_details[0]['shape']\n",
    "        input_data = np.array(data[i,:,:,:][None,:,:,:], dtype=np.float32) #np.array(np.random.random_sample(input_shape), dtype=np.float32)\n",
    "        interpreter.set_tensor(input_details[0]['index'], input_data)\n",
    "        interpreter.invoke()\n",
    "\n",
    "        # The function `get_tensor()` returns a copy of the tensor data.\n",
    "        # Use `tensor()` in order to get a pointer to the tensor.\n",
    "        output_data = interpreter.get_tensor(output_details[0]['index'])[0]\n",
    "        #print(output_data)\n",
    "        #print(tf.math.argmax(abs(output_data), 1))\n",
    "        #print(tf.math.argmax(abs(output_data), 1))\n",
    "\n",
    "        pred = np.where(output_data == np.max(output_data))[0][0]\n",
    "        #print(pred)\n",
    "        preds.append(pred)\n",
    "        acc = labels[i]\n",
    "        #print(pred)\n",
    "        #print(acc)\n",
    "        if pred < 0.5 and acc > 0.5:\n",
    "            tp_exp.append(output_data)\n",
    "            \n",
    "        #print()\n",
    "        if abs(pred - acc) < 0.1:\n",
    "            correct += 1\n",
    "        total += 1\n",
    "\n",
    "    print(correct/total)\n",
    "    print(confusion_matrix(preds, labels))\n",
    "    print()\n",
    "    return tp_exp"
   ]
  },
  {
   "cell_type": "code",
   "execution_count": 43,
   "id": "5df605d8",
   "metadata": {},
   "outputs": [
    {
     "name": "stdout",
     "output_type": "stream",
     "text": [
      "0.9605066206102476\n",
      "[[14830   590]\n",
      " [   96  1854]]\n",
      "\n",
      "0.9345536176826109\n",
      "[[4873  292]\n",
      " [  87  539]]\n",
      "\n",
      "0.9292004835088931\n",
      "[[4871  305]\n",
      " [ 105  510]]\n",
      "\n"
     ]
    }
   ],
   "source": [
    "tp_exp1 = eval_cnn(X_train, y_train)\n",
    "tp_exp2 = eval_cnn(X_val, y_val)\n",
    "tp_exp3 = eval_cnn(X_test, y_test)"
   ]
  },
  {
   "cell_type": "code",
   "execution_count": 46,
   "id": "365c2a14",
   "metadata": {},
   "outputs": [],
   "source": [
    "raw = tp_exp1 + tp_exp2 + tp_exp3\n",
    "rows, cols = len(raw), 2\n",
    "fps = np.zeros((rows, cols))\n",
    "\n",
    "for i in range(rows):\n",
    "    fps[i,:] = raw[i]"
   ]
  },
  {
   "cell_type": "code",
   "execution_count": 55,
   "id": "0d36fe1f",
   "metadata": {},
   "outputs": [
    {
     "data": {
      "text/plain": [
       "array([ 1.19946013, -1.26591915])"
      ]
     },
     "execution_count": 55,
     "metadata": {},
     "output_type": "execute_result"
    }
   ],
   "source": [
    "np.mean(fps, axis=0)"
   ]
  },
  {
   "cell_type": "code",
   "execution_count": 58,
   "id": "372e36ca",
   "metadata": {},
   "outputs": [
    {
     "data": {
      "text/plain": [
       "array([1.02356965, 1.01366414])"
      ]
     },
     "execution_count": 58,
     "metadata": {},
     "output_type": "execute_result"
    }
   ],
   "source": [
    "np.var(fps, axis=0)"
   ]
  },
  {
   "cell_type": "code",
   "execution_count": 52,
   "id": "c995964f",
   "metadata": {},
   "outputs": [],
   "source": [
    "diffs = fps[:,0] - fps[:,1]"
   ]
  },
  {
   "cell_type": "code",
   "execution_count": 53,
   "id": "b0228028",
   "metadata": {},
   "outputs": [
    {
     "data": {
      "text/plain": [
       "array([0.12700124, 1.94271672, 0.67913949, ..., 8.07743883, 6.63114429,\n",
       "       4.85679579])"
      ]
     },
     "execution_count": 53,
     "metadata": {},
     "output_type": "execute_result"
    }
   ],
   "source": [
    "diffs"
   ]
  },
  {
   "cell_type": "code",
   "execution_count": 54,
   "id": "24d15427",
   "metadata": {},
   "outputs": [
    {
     "name": "stdout",
     "output_type": "stream",
     "text": [
      "2.4653792833515524\n",
      "4.072104846097746\n"
     ]
    }
   ],
   "source": [
    "print(np.mean(diffs))\n",
    "print(np.var(diffs))"
   ]
  },
  {
   "cell_type": "code",
   "execution_count": null,
   "id": "3cb25933",
   "metadata": {},
   "outputs": [],
   "source": []
  }
 ],
 "metadata": {
  "kernelspec": {
   "display_name": "Python 3 (ipykernel)",
   "language": "python",
   "name": "python3"
  },
  "language_info": {
   "codemirror_mode": {
    "name": "ipython",
    "version": 3
   },
   "file_extension": ".py",
   "mimetype": "text/x-python",
   "name": "python",
   "nbconvert_exporter": "python",
   "pygments_lexer": "ipython3",
   "version": "3.9.7"
  }
 },
 "nbformat": 4,
 "nbformat_minor": 5
}
