{
 "cells": [
  {
   "cell_type": "code",
   "execution_count": 1,
   "id": "ac59644b",
   "metadata": {},
   "outputs": [],
   "source": [
    "import numpy as np\n",
    "import matplotlib.pyplot as plt"
   ]
  },
  {
   "cell_type": "markdown",
   "id": "92c5d5e6",
   "metadata": {},
   "source": [
    "# Linear Regression"
   ]
  },
  {
   "cell_type": "code",
   "execution_count": 3,
   "id": "ca4efd7c",
   "metadata": {},
   "outputs": [],
   "source": [
    "from sklearn.linear_model import LinearRegression\n",
    "from sklearn import metrics\n",
    "lr = LinearRegression()"
   ]
  },
  {
   "cell_type": "markdown",
   "id": "40f75be8",
   "metadata": {},
   "source": [
    "### Regression"
   ]
  },
  {
   "cell_type": "code",
   "execution_count": null,
   "id": "6938314f",
   "metadata": {},
   "outputs": [],
   "source": [
    "lr.fit(Xr_train, yr_train)\n",
    "\n",
    "# Predict\n",
    "y_pred = [1 if p >= 1 else 0 for p in lr.predict(Xr_test)]\n",
    "y_actual = [1 if y >= 1 else 0 for y in yr_test]\n",
    "\n",
    "# RMSE\n",
    "print(np.sqrt(metrics.mean_squared_error(y_actual, y_pred)))"
   ]
  },
  {
   "cell_type": "markdown",
   "id": "ab9af348",
   "metadata": {},
   "source": [
    "### Classification"
   ]
  },
  {
   "cell_type": "code",
   "execution_count": null,
   "id": "ab61c571",
   "metadata": {},
   "outputs": [],
   "source": [
    "lr.fit(Xc_train, yc_train)\n",
    "\n",
    "# Predict\n",
    "y_pred = lr.predict(Xc_test)\n",
    "\n",
    "# RMSE\n",
    "print(np.sqrt(metrics.mean_squared_error(yc_test, y_pred)))"
   ]
  },
  {
   "cell_type": "markdown",
   "id": "c00cfb84",
   "metadata": {},
   "source": [
    "# SVM"
   ]
  },
  {
   "cell_type": "code",
   "execution_count": 5,
   "id": "5ff6a987",
   "metadata": {},
   "outputs": [],
   "source": [
    "from sklearn import svm"
   ]
  },
  {
   "cell_type": "markdown",
   "id": "76804ec3",
   "metadata": {},
   "source": [
    "### Regression"
   ]
  },
  {
   "cell_type": "code",
   "execution_count": null,
   "id": "5300be82",
   "metadata": {},
   "outputs": [],
   "source": [
    "regr = svm.SVR()\n",
    "regr.fit(Xr_train, yr_train)\n",
    "\n",
    "y_pred = regr.predict(Xr_test)\n",
    "\n",
    "# RMSE\n",
    "print(np.sqrt(metrics.mean_squared_error(yr_test, y_pred)))"
   ]
  },
  {
   "cell_type": "code",
   "execution_count": null,
   "id": "09850e00",
   "metadata": {},
   "outputs": [],
   "source": [
    "y_pred = [1 if p >= 1 else 0 for p in regr.predict(Xr_test)]\n",
    "y_actual = [1 if y >= 1 else 0 for y in yr_test]\n",
    "\n",
    "print(np.sqrt(metrics.mean_squared_error(y_actual, y_pred)))"
   ]
  },
  {
   "cell_type": "markdown",
   "id": "81252b0a",
   "metadata": {},
   "source": [
    "### Classification"
   ]
  },
  {
   "cell_type": "code",
   "execution_count": null,
   "id": "06b2ad0c",
   "metadata": {},
   "outputs": [],
   "source": [
    "clf = svm.SVC()\n",
    "clf.fit(Xc_train, yc_train)\n",
    "\n",
    "y_pred = clf.predict(Xc_test)\n",
    "\n",
    "print(np.sqrt(metrics.mean_squared_error(yc_test, y_pred)))\n",
    "print(metrics.accuracy_score(yc_test, y_pred))"
   ]
  },
  {
   "cell_type": "markdown",
   "id": "b17c9432",
   "metadata": {},
   "source": [
    "#### Visualizing Test Cases"
   ]
  },
  {
   "cell_type": "code",
   "execution_count": null,
   "id": "1b267f66",
   "metadata": {},
   "outputs": [],
   "source": [
    "j = 5"
   ]
  },
  {
   "cell_type": "code",
   "execution_count": null,
   "id": "4ad0e445",
   "metadata": {},
   "outputs": [],
   "source": [
    "x0 = Xr_test[j,:]\n",
    "y0 = yr_test[j]\n",
    "yp0 = regr.predict(x0.reshape(1,-1))\n",
    "\n",
    "ecg = np.zeros((130))\n",
    "\n",
    "offset = 0\n",
    "for i in range(10):\n",
    "    ecg[i*13:i*13+13] = x0[i*89:i*89 + 13]"
   ]
  },
  {
   "cell_type": "code",
   "execution_count": null,
   "id": "946bb8d8",
   "metadata": {},
   "outputs": [],
   "source": [
    "plt.plot(np.linspace(0,1,130), (ecg-np.mean(ecg))/np.max(np.abs(ecg)))\n",
    "print(yp0)\n",
    "print(y0)"
   ]
  }
 ],
 "metadata": {
  "kernelspec": {
   "display_name": "Python 3 (ipykernel)",
   "language": "python",
   "name": "python3"
  },
  "language_info": {
   "codemirror_mode": {
    "name": "ipython",
    "version": 3
   },
   "file_extension": ".py",
   "mimetype": "text/x-python",
   "name": "python",
   "nbconvert_exporter": "python",
   "pygments_lexer": "ipython3",
   "version": "3.7.11"
  }
 },
 "nbformat": 4,
 "nbformat_minor": 5
}
