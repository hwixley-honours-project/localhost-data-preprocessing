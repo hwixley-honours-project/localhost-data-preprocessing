{
 "cells": [
  {
   "cell_type": "code",
   "execution_count": 3,
   "id": "a5fd4979",
   "metadata": {},
   "outputs": [],
   "source": [
    "import numpy as np\n",
    "import matplotlib.pyplot as plt\n",
    "import os"
   ]
  },
  {
   "cell_type": "code",
   "execution_count": 44,
   "id": "4952298e",
   "metadata": {},
   "outputs": [],
   "source": [
    "def loadNpy(filename):\n",
    "    with open(os.getcwd() + \"/train-val-test/\"+ filename, \"rb\") as f: return np.load(f)\n",
    "    \n",
    "def postMetrics(true, preds, fname):\n",
    "    print(\"MSE: \" + str(metrics.mean_squared_error(true, y_pred)))\n",
    "    print(\"Accuracy: \" + str(metrics.accuracy_score(true, y_pred)))\n",
    "    print(confusion_matrix(true, y_pred))\n",
    "    print()\n",
    "    saveMetrics(true, preds, fname)\n",
    "    \n",
    "def saveMetrics(true, preds, fname):\n",
    "    with open(f\"{os.getcwd()}/train-val-test/{db}{fname}.txt\", \"w\") as f:\n",
    "        cm = confusion_matrix(true, preds)\n",
    "        cm_str = \"[\"\n",
    "        a,b = cm.shape\n",
    "        for i in range(a):\n",
    "            cm_str += \" \"*i + \"[\"\n",
    "            for j in range(b):\n",
    "                cm_str += str(cm[i,j]) \n",
    "                if j != b-1: cm_str += \", \"\n",
    "            cm_str += \"]\"\n",
    "            if i != a-1 : cm_str += \"\\n\"\n",
    "        cm_str += \"]\"\n",
    "        fdata = f\"MSE: {metrics.mean_squared_error(true, preds)}\\nACC: {metrics.accuracy_score(true, preds)}\\n{cm_str}\"\n",
    "        \n",
    "        f.write(fdata)"
   ]
  },
  {
   "cell_type": "code",
   "execution_count": 45,
   "id": "25c468c0",
   "metadata": {},
   "outputs": [],
   "source": [
    "db = \"db14/window-size-10/lag2/\"\n",
    "data_type = \"\""
   ]
  },
  {
   "cell_type": "code",
   "execution_count": 46,
   "id": "33b3f3a9",
   "metadata": {},
   "outputs": [],
   "source": [
    "X_train, X_val, X_test = loadNpy(db + f\"X{data_type}_train.npy\"), loadNpy(db + f\"X{data_type}_val.npy\"), loadNpy(db + f\"X{data_type}_test.npy\")\n",
    "y_train, y_val, y_test = loadNpy(db + f\"y{data_type}_train.npy\"), loadNpy(db + f\"y{data_type}_val.npy\"), loadNpy(db + f\"y{data_type}_test.npy\")"
   ]
  },
  {
   "cell_type": "code",
   "execution_count": 47,
   "id": "13cd99aa",
   "metadata": {},
   "outputs": [],
   "source": [
    "y_train = y_train.astype(int)\n",
    "y_val = y_val.astype(int)\n",
    "y_test = y_test.astype(int)"
   ]
  },
  {
   "cell_type": "markdown",
   "id": "ba52bc9b",
   "metadata": {},
   "source": [
    "# Linear Regression"
   ]
  },
  {
   "cell_type": "code",
   "execution_count": 22,
   "id": "a41b01f4",
   "metadata": {},
   "outputs": [],
   "source": [
    "from sklearn.linear_model import LinearRegression\n",
    "from sklearn import metrics\n",
    "from sklearn.metrics import confusion_matrix\n",
    "lr = LinearRegression()"
   ]
  },
  {
   "cell_type": "markdown",
   "id": "7a012456",
   "metadata": {},
   "source": [
    "### Regression"
   ]
  },
  {
   "cell_type": "code",
   "execution_count": 58,
   "id": "4d8318fc",
   "metadata": {},
   "outputs": [
    {
     "name": "stdout",
     "output_type": "stream",
     "text": [
      "0.46241610340035444\n",
      "0.7861713473160327\n",
      "[[3811  959]\n",
      " [ 244  612]]\n",
      "0.4645254144252993\n",
      "0.7842161393530039\n",
      "[[3797  990]\n",
      " [ 224  615]]\n"
     ]
    }
   ],
   "source": [
    "lr.fit(X_train, y_train)\n",
    "thr = 0\n",
    "\n",
    "y_pred = [1 if p >= thr else 0 for p in lr.predict(X_val)]\n",
    "y_actual = [1 if y >= thr else 0 for y in y_val]\n",
    "\n",
    "postMetrics(y_actual, y_pred)\n",
    "\n",
    "y_pred = [1 if p >= thr else 0 for p in lr.predict(X_test)]\n",
    "y_actual = [1 if y >= thr else 0 for y in y_test]\n",
    "\n",
    "postMetrics(y_actual, y_pred)"
   ]
  },
  {
   "cell_type": "code",
   "execution_count": 59,
   "id": "d17b2a04",
   "metadata": {},
   "outputs": [
    {
     "name": "stdout",
     "output_type": "stream",
     "text": [
      "0.33885694811133416\n",
      "0.8851759687166726\n",
      "[[4635  150]\n",
      " [ 496  345]]\n",
      "0.3375430348726538\n",
      "0.8860646996089584\n",
      "[[4669  140]\n",
      " [ 501  316]]\n"
     ]
    }
   ],
   "source": [
    "lr.fit(X_train, [1 if y >= 0 else 0 for y in y_train])\n",
    "\n",
    "\n",
    "y_pred = [1 if p >= 0.5 else 0 for p in lr.predict(X_val)]\n",
    "y_actual = [1 if y >= 0.5 else 0 for y in y_val]\n",
    "\n",
    "postMetrics(y_actual, y_pred)\n",
    "\n",
    "\n",
    "y_pred = [1 if p >= 0.5 else 0 for p in lr.predict(X_test)]\n",
    "y_actual = [1 if y>= 0.5 else 0 for y in y_test]\n",
    "\n",
    "postMetrics(y_actual, y_pred)"
   ]
  },
  {
   "cell_type": "code",
   "execution_count": 7,
   "id": "7748abfa",
   "metadata": {},
   "outputs": [],
   "source": [
    "y_pred = [1 if p >= thr else 0 for p in lr.predict(X_val)]\n",
    "y_actual = [1 if y >= thr else 0 for y in y_val]"
   ]
  },
  {
   "cell_type": "markdown",
   "id": "8996472b",
   "metadata": {},
   "source": [
    "### Classification"
   ]
  },
  {
   "cell_type": "code",
   "execution_count": 48,
   "id": "272ce876",
   "metadata": {},
   "outputs": [
    {
     "name": "stdout",
     "output_type": "stream",
     "text": [
      "MSE: 0.11522703994537385\n",
      "Accuracy: 0.8847729600546261\n",
      "[[4917  125]\n",
      " [ 550  266]]\n",
      "\n",
      "MSE: 0.1164021164021164\n",
      "Accuracy: 0.8835978835978836\n",
      "[[4881  121]\n",
      " [ 561  296]]\n",
      "\n"
     ]
    }
   ],
   "source": [
    "lr.fit(X_train, y_train)\n",
    "\n",
    "\n",
    "y_pred = [1 if p >= 0.5 else 0 for p in lr.predict(X_val)]\n",
    "\n",
    "postMetrics(y_val, y_pred, \"lr-val\")\n",
    "\n",
    "y_pred = [1 if p >= 0.5 else 0 for p in lr.predict(X_test)]\n",
    "\n",
    "postMetrics(y_test, y_pred, \"lr-test\")"
   ]
  },
  {
   "cell_type": "markdown",
   "id": "447b6f7f",
   "metadata": {},
   "source": [
    "## SVM"
   ]
  },
  {
   "cell_type": "code",
   "execution_count": 10,
   "id": "63d8e09c",
   "metadata": {},
   "outputs": [],
   "source": [
    "from sklearn import svm"
   ]
  },
  {
   "cell_type": "markdown",
   "id": "ecaa05c9",
   "metadata": {},
   "source": [
    "### Regression"
   ]
  },
  {
   "cell_type": "code",
   "execution_count": 61,
   "id": "6cf72772",
   "metadata": {},
   "outputs": [
    {
     "name": "stdout",
     "output_type": "stream",
     "text": [
      "0.3333037076537358\n",
      "0.888908638464273\n",
      "[[4620  165]\n",
      " [ 460  381]]\n",
      "0.3396428562750863\n",
      "0.8846427301813011\n",
      "[[4637  172]\n",
      " [ 477  340]]\n"
     ]
    }
   ],
   "source": [
    "regr = svm.SVR()\n",
    "regr.fit(X_train, y_train)\n",
    "\n",
    "\n",
    "y_pred = [1 if p >= 0.5 else 0 for p in regr.predict(X_val)]\n",
    "y_actual = [1 if y >= 0 else 0 for y in y_val]\n",
    "\n",
    "postMetrics(y_actual, y_pred)\n",
    "\n",
    "y_pred = [1 if p >= 0.5 else 0 for p in regr.predict(X_test)]\n",
    "y_actual = [1 if y >= 0 else 0 for y in y_test]\n",
    "\n",
    "postMetrics(y_actual, y_pred)"
   ]
  },
  {
   "cell_type": "code",
   "execution_count": 64,
   "id": "ebad58e7",
   "metadata": {},
   "outputs": [
    {
     "name": "stdout",
     "output_type": "stream",
     "text": [
      "0.33463426666737645\n",
      "0.8880199075719872\n",
      "[[4652  118]\n",
      " [ 512  344]]\n",
      "0.34354543003154087\n",
      "0.8819765375044436\n",
      "[[4663  124]\n",
      " [ 540  299]]\n"
     ]
    }
   ],
   "source": [
    "clf = svm.SVC()\n",
    "clf.fit(X_train, [1 if y >= 0 else 0 for y in y_train])\n",
    "\n",
    "\n",
    "y_pred = [1 if p >= 0.5 else 0 for p in clf.predict(X_val)]\n",
    "y_actual = [1 if y >= 0 else 0 for y in y_val]\n",
    "\n",
    "postMetrics(y_actual, y_pred)\n",
    "\n",
    "\n",
    "y_pred = [1 if p >= 0.5 else 0 for p in clf.predict(X_test)]\n",
    "y_actual = [1 if y >= 0 else 0 for y in y_test]\n",
    "\n",
    "postMetrics(y_actual, y_pred)"
   ]
  },
  {
   "cell_type": "markdown",
   "id": "8045fd8b",
   "metadata": {},
   "source": [
    "### Classification"
   ]
  },
  {
   "cell_type": "code",
   "execution_count": 86,
   "id": "074260f2",
   "metadata": {},
   "outputs": [
    {
     "name": "stdout",
     "output_type": "stream",
     "text": [
      "0.3291424608605391\n",
      "0.8916652404586685\n",
      "[[4823  216]\n",
      " [ 417  387]]\n",
      "0.3314740776883766\n",
      "0.8901249358206401\n",
      "[[4806  196]\n",
      " [ 446  395]]\n"
     ]
    }
   ],
   "source": [
    "clf = svm.SVC()\n",
    "clf.fit(X_train, y_train)\n",
    "\n",
    "\n",
    "y_pred = clf.predict(X_val)\n",
    "\n",
    "postMetrics(y_val, y_pred, \"svc-val\")\n",
    "\n",
    "\n",
    "y_pred = clf.predict(X_test)\n",
    "\n",
    "postMetrics(y_test, y_pred, \"svc-test\")"
   ]
  },
  {
   "cell_type": "markdown",
   "id": "9ed4b489",
   "metadata": {},
   "source": [
    "#### Visualizing Test Cases"
   ]
  },
  {
   "cell_type": "code",
   "execution_count": 51,
   "id": "6c179785",
   "metadata": {},
   "outputs": [],
   "source": [
    "j = 5"
   ]
  },
  {
   "cell_type": "code",
   "execution_count": 52,
   "id": "a6351701",
   "metadata": {},
   "outputs": [],
   "source": [
    "x0 = X_test[j,:]\n",
    "y0 = y_test[j]\n",
    "yp0 = lr.predict(x0.reshape(1,-1))\n",
    "\n",
    "ecg = np.zeros((130))\n",
    "\n",
    "offset = 0\n",
    "for i in range(10):\n",
    "    ecg[i*13:i*13+13] = x0[i*89:i*89 + 13]"
   ]
  },
  {
   "cell_type": "code",
   "execution_count": 53,
   "id": "614919ba",
   "metadata": {},
   "outputs": [
    {
     "name": "stdout",
     "output_type": "stream",
     "text": [
      "[-0.03383064]\n",
      "0\n"
     ]
    },
    {
     "data": {
      "image/png": "[encoded data removed]",
      "text/plain": [
       "<Figure size 432x288 with 1 Axes>"
      ]
     },
     "metadata": {
      "needs_background": "light"
     },
     "output_type": "display_data"
    }
   ],
   "source": [
    "plt.plot(np.linspace(0,1,130), (ecg-np.mean(ecg))/np.max(np.abs(ecg)))\n",
    "print(yp0)\n",
    "print(y0)"
   ]
  },
  {
   "cell_type": "code",
   "execution_count": null,
   "id": "9bb5a5da",
   "metadata": {},
   "outputs": [],
   "source": []
  },
  {
   "cell_type": "code",
   "execution_count": 87,
   "id": "19e9406a",
   "metadata": {},
   "outputs": [
    {
     "name": "stdout",
     "output_type": "stream",
     "text": [
      "0.6611385840204054\n",
      "0.5628957727194934\n",
      "[[2873 2166]\n",
      " [ 388  416]]\n",
      "0.6698821422799761\n",
      "0.5512579154543898\n",
      "[[2816 2186]\n",
      " [ 436  405]]\n"
     ]
    }
   ],
   "source": [
    "from sklearn.linear_model import SGDClassifier\n",
    "clf = SGDClassifier(max_iter=20000)\n",
    "\n",
    "clf.fit(X_train, y_train)\n",
    "\n",
    "y_pred = clf.predict(X_val)\n",
    "\n",
    "postMetrics(y_val, y_pred, \"sgd-val\")\n",
    "\n",
    "\n",
    "y_pred = clf.predict(X_test)\n",
    "\n",
    "postMetrics(y_test, y_pred, \"sgd-test\")"
   ]
  },
  {
   "cell_type": "code",
   "execution_count": 77,
   "id": "0b9baa6f",
   "metadata": {},
   "outputs": [
    {
     "name": "stdout",
     "output_type": "stream",
     "text": [
      "0.37631345025748086\n",
      "0.8583881871553104\n",
      "[[4825    0]\n",
      " [ 796    0]]\n",
      "0.37678590926370403\n",
      "0.8580323785803238\n",
      "[[4823    0]\n",
      " [ 798    0]]\n"
     ]
    }
   ],
   "source": [
    "from sklearn.gaussian_process import GaussianProcessClassifier\n",
    "clf = GaussianProcessClassifier()\n",
    "\n",
    "clf.fit(X_train, y_train)\n",
    "\n",
    "y_pred = clf.predict(X_val)\n",
    "\n",
    "postMetrics(y_val, y_pred, \"gp-val\")\n",
    "\n",
    "\n",
    "y_pred = clf.predict(X_test)\n",
    "\n",
    "postMetrics(y_test, y_pred, \"gp-test\")"
   ]
  },
  {
   "cell_type": "code",
   "execution_count": 88,
   "id": "0cb3b764",
   "metadata": {},
   "outputs": [
    {
     "name": "stdout",
     "output_type": "stream",
     "text": [
      "0.4093298372040998\n",
      "0.8324490843744652\n",
      "[[4365  674]\n",
      " [ 305  499]]\n",
      "0.39959760694430074\n",
      "0.8403217525243881\n",
      "[[4367  635]\n",
      " [ 298  543]]\n"
     ]
    }
   ],
   "source": [
    "from sklearn.naive_bayes import GaussianNB\n",
    "clf = GaussianNB()\n",
    "\n",
    "clf.fit(X_train, y_train)\n",
    "\n",
    "y_pred = clf.predict(X_val)\n",
    "\n",
    "postMetrics(y_val, y_pred, \"gnb-val\")\n",
    "\n",
    "\n",
    "y_pred = clf.predict(X_test)\n",
    "\n",
    "postMetrics(y_test, y_pred, \"gnb-test\")"
   ]
  },
  {
   "cell_type": "code",
   "execution_count": null,
   "id": "fb0c8dc3",
   "metadata": {},
   "outputs": [],
   "source": [
    "from sklearn.neural_network import MLPClassifier\n",
    "clf = MLPClassifier(hidden_layer_sizes=(800,800,800,800,800))\n",
    "\n",
    "clf.fit(X_train, y_train)\n",
    "\n",
    "y_pred = clf.predict(X_val)\n",
    "\n",
    "postMetrics(y_val, y_pred, \"mlp-val\")\n",
    "\n",
    "\n",
    "y_pred = clf.predict(X_test)\n",
    "\n",
    "postMetrics(y_test, y_pred, \"mlp-test\")"
   ]
  },
  {
   "cell_type": "code",
   "execution_count": 94,
   "id": "b24b3219",
   "metadata": {},
   "outputs": [
    {
     "data": {
      "text/plain": [
       "(17527, 1157)"
      ]
     },
     "execution_count": 94,
     "metadata": {},
     "output_type": "execute_result"
    }
   ],
   "source": [
    "X_train.shape"
   ]
  },
  {
   "cell_type": "code",
   "execution_count": null,
   "id": "9c1f0edb",
   "metadata": {},
   "outputs": [],
   "source": []
  }
 ],
 "metadata": {
  "kernelspec": {
   "display_name": "Python 3 (ipykernel)",
   "language": "python",
   "name": "python3"
  },
  "language_info": {
   "codemirror_mode": {
    "name": "ipython",
    "version": 3
   },
   "file_extension": ".py",
   "mimetype": "text/x-python",
   "name": "python",
   "nbconvert_exporter": "python",
   "pygments_lexer": "ipython3",
   "version": "3.7.11"
  }
 },
 "nbformat": 4,
 "nbformat_minor": 5
}
