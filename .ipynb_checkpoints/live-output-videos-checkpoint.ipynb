{
 "cells": [
  {
   "cell_type": "code",
   "execution_count": 1,
   "id": "de69a1c6",
   "metadata": {},
   "outputs": [],
   "source": [
    "import os\n",
    "import numpy as np\n",
    "import matplotlib.pyplot as plt\n",
    "import matplotlib.pylab as pl\n",
    "#from matplotlib.animation import FuncAnimation\n",
    "#from itertools import count\n",
    "#from IPython.display import HTML\n",
    "from celluloid import Camera\n",
    "from IPython.display import Video"
   ]
  },
  {
   "cell_type": "code",
   "execution_count": 4,
   "id": "71a3c489",
   "metadata": {},
   "outputs": [],
   "source": [
    "def loadNpy(filename):\n",
    "    with open(os.getcwd() + \"/train-val-test/\"+ filename, \"rb\") as f: return np.load(f)"
   ]
  },
  {
   "cell_type": "code",
   "execution_count": 5,
   "id": "83773d73",
   "metadata": {},
   "outputs": [],
   "source": [
    "db = \"db16.2/window-size-10/lag0/polar-features/\"\n",
    "data_type = \"\""
   ]
  },
  {
   "cell_type": "code",
   "execution_count": 6,
   "id": "8b6e9066",
   "metadata": {},
   "outputs": [],
   "source": [
    "X_train, X_val, X_test = loadNpy(db + f\"us-X{data_type}_train.npy\"), loadNpy(db + f\"us-X{data_type}_val.npy\"), loadNpy(db + f\"us-X{data_type}_test.npy\")\n",
    "y_train, y_val, y_test = loadNpy(db + f\"y{data_type}_train.npy\"), loadNpy(db + f\"y{data_type}_val.npy\"), loadNpy(db + f\"y{data_type}_test.npy\")"
   ]
  },
  {
   "cell_type": "code",
   "execution_count": 7,
   "id": "a11c48b2",
   "metadata": {},
   "outputs": [
    {
     "data": {
      "text/plain": [
       "(37674, 784)"
      ]
     },
     "execution_count": 7,
     "metadata": {},
     "output_type": "execute_result"
    }
   ],
   "source": [
    "X_train.shape"
   ]
  },
  {
   "cell_type": "code",
   "execution_count": 8,
   "id": "1d87ba85",
   "metadata": {},
   "outputs": [
    {
     "data": {
      "text/plain": [
       "(37674, 730)"
      ]
     },
     "execution_count": 8,
     "metadata": {},
     "output_type": "execute_result"
    }
   ],
   "source": [
    "samples = X_train[:,:-52]\n",
    "usr_ftrs = samples[:,-2:]\n",
    "data = samples[:,:-2]\n",
    "data.shape"
   ]
  },
  {
   "cell_type": "code",
   "execution_count": 9,
   "id": "b7d72c0c",
   "metadata": {},
   "outputs": [],
   "source": [
    "data = data.reshape(-1, 10, 73)"
   ]
  },
  {
   "cell_type": "code",
   "execution_count": 10,
   "id": "9696db08",
   "metadata": {},
   "outputs": [
    {
     "data": {
      "text/plain": [
       "(37674, 10, 73)"
      ]
     },
     "execution_count": 10,
     "metadata": {},
     "output_type": "execute_result"
    }
   ],
   "source": [
    "data.shape"
   ]
  },
  {
   "cell_type": "code",
   "execution_count": 27,
   "id": "a488a7fa",
   "metadata": {},
   "outputs": [
    {
     "data": {
      "text/plain": [
       "73"
      ]
     },
     "execution_count": 27,
     "metadata": {},
     "output_type": "execute_result"
    }
   ],
   "source": [
    "window_size = int(data.shape[1]/10)\n",
    "window_size"
   ]
  },
  {
   "cell_type": "code",
   "execution_count": 9,
   "id": "bfff0149",
   "metadata": {},
   "outputs": [],
   "source": [
    "%matplotlib notebook"
   ]
  },
  {
   "cell_type": "code",
   "execution_count": 10,
   "id": "3764998a",
   "metadata": {},
   "outputs": [
    {
     "data": {
      "text/plain": [
       "<matplotlib.pyplot._IoffContext at 0x7f28645e9bd0>"
      ]
     },
     "execution_count": 10,
     "metadata": {},
     "output_type": "execute_result"
    }
   ],
   "source": [
    "plt.rcParams[\"animation.html\"] = \"jshtml\"\n",
    "plt.rcParams[\"figure.dpi\"] = 150\n",
    "plt.ioff()"
   ]
  },
  {
   "cell_type": "code",
   "execution_count": null,
   "id": "c51e61f0",
   "metadata": {},
   "outputs": [],
   "source": [
    "fig, ax = plt.subplots()\n",
    "\n",
    "ecg_line, = ax.plot([])\n",
    "\n",
    "x = np.linspace(0, 13)\n",
    "\n",
    "idx = count()\n",
    "\n",
    "def animate(t):\n",
    "    #axs[0].cla()\n",
    "    window = data[t,:,:]\n",
    "    ecg = window[0,:13].flatten()\n",
    "    ecg_line.set_data((x, ecg))\n",
    "    return ecg_line\n",
    "    \n",
    "ani = FuncAnimation(fig, animate, frames=100, interval=5)\n",
    "\n",
    "#fig.tight_layout()\n",
    "#fig.show()\n",
    "\n",
    "video = ani.to_html5_video()\n",
    "html = HTML(video)\n",
    "display.display(html)\n",
    "plt.close()\n",
    "    \n",
    "#HTML(ani.to_html5_video())"
   ]
  },
  {
   "cell_type": "code",
   "execution_count": null,
   "id": "f028f174",
   "metadata": {},
   "outputs": [],
   "source": []
  },
  {
   "cell_type": "code",
   "execution_count": null,
   "id": "f9d98509",
   "metadata": {},
   "outputs": [],
   "source": []
  },
  {
   "cell_type": "code",
   "execution_count": null,
   "id": "46d1b0cd",
   "metadata": {},
   "outputs": [],
   "source": [
    "colours=pl.cm.jet(np.linspace(0,1,500))\n",
    "#Defining a colormap to pass to matplotlib's color parameter,\n",
    "#just for aesthetics\n",
    "\n",
    "def parametric_spiral(t,k=1):\n",
    "    return (t)*np.cos((k*t)),(t)*np.sin((k*t))\n",
    "#Defining the function we'll use\n",
    "t_list=np.linspace(0,100)\n",
    "#The values of t we'll graph over\n",
    "\n",
    "fig, ax = plt.subplots(figsize=(4, 4))\n",
    "#Set up our canvas-- we need to specify our figure size here\n",
    "\n",
    "camera=Camera(fig)#Make a camera of the figure\n",
    "\n",
    "for K in np.linspace(0,np.pi,500):\n",
    "    #Our animation will have each frame be a different value of k from the list above    \n",
    "    ax.plot(*parametric_spiral(t_list,k=K),c=colours[int(500*(np.pi-K)/np.pi)])\n",
    "    #For a given value of k, we'll plot our function with that k-value   \n",
    "    camera.snap()\n",
    "\n",
    "animation=camera.animate();#Make the animation\n",
    "plt.close() #Stop the empty plot from displaying\n",
    "animation.save('spiral_animation.mp4',fps=500/45) #Save the animation-- notes below\n",
    "Video(\"spiral_animation.mp4\") #Show the video you've just saved"
   ]
  },
  {
   "cell_type": "code",
   "execution_count": null,
   "id": "987e570e",
   "metadata": {},
   "outputs": [],
   "source": []
  }
 ],
 "metadata": {
  "kernelspec": {
   "display_name": "Python 3 (ipykernel)",
   "language": "python",
   "name": "python3"
  },
  "language_info": {
   "codemirror_mode": {
    "name": "ipython",
    "version": 3
   },
   "file_extension": ".py",
   "mimetype": "text/x-python",
   "name": "python",
   "nbconvert_exporter": "python",
   "pygments_lexer": "ipython3",
   "version": "3.7.11"
  }
 },
 "nbformat": 4,
 "nbformat_minor": 5
}
