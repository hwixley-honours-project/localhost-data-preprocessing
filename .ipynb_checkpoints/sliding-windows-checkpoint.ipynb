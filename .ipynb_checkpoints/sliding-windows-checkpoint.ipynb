{
 "cells": [
  {
   "cell_type": "code",
   "execution_count": 1,
   "id": "e1eb7b7a",
   "metadata": {},
   "outputs": [],
   "source": [
    "import os\n",
    "import numpy as np\n",
    "from matplotlib import pyplot as plt\n",
    "import pickle"
   ]
  },
  {
   "cell_type": "code",
   "execution_count": 32,
   "id": "441b0144",
   "metadata": {},
   "outputs": [],
   "source": [
    "class Recording:\n",
    "    def __init__(self, meta):\n",
    "        self._id = meta._id\n",
    "        self.subject_id = meta.subject_id\n",
    "        self.phone_placement = meta.phone_placement\n",
    "        self.recording_duration = meta.recording_duration\n",
    "        self.chunk_ids = meta.chunk_ids\n",
    "        self.labels = []\n",
    "        self.p_ecg = []\n",
    "        self.p_hr = []\n",
    "        self.p_contact = []\n",
    "        self.p_acc_x = []\n",
    "        self.p_acc_y = []\n",
    "        self.p_acc_z = []\n",
    "        self.acc_x = []\n",
    "        self.acc_y = []\n",
    "        self.acc_z = []\n",
    "        self.gyr_x = []\n",
    "        self.gyr_y = []\n",
    "        self.gyr_z = []\n",
    "        self.gra_x = []\n",
    "        self.gra_y = []\n",
    "        self.gra_z = []\n",
    "        self.mag_x = []\n",
    "        self.mag_y = []\n",
    "        self.mag_z = []\n",
    "        self.att_roll = []\n",
    "        self.att_pitch = []\n",
    "        self.att_yaw = []\n",
    "        self.delta_heading = []\n",
    "        \n",
    "        print(self._id)\n",
    "        r_chunks = rec_chunks[self._id]\n",
    "        for c in r_chunks:\n",
    "            print(c._id)\n",
    "        print()\n",
    "        ordered_chunk_ids = {}\n",
    "        \n",
    "        for chunk in r_chunks:\n",
    "            ordered_chunk_ids[chunk.chunk_index] = chunk\n",
    "            \n",
    "        for i in range(1,len(r_chunks)-1):\n",
    "            chunk = chunks[ordered_chunk_ids[i]._id]\n",
    "            \n",
    "            assert(i == chunk.chunk_index)\n",
    "            \n",
    "            self.labels += chunk.labels\n",
    "            self.p_ecg += chunk.p_ecg\n",
    "            self.p_hr += chunk.p_hr\n",
    "            self.p_contact += chunk.p_contact\n",
    "            self.p_acc_x += chunk.p_acc_x\n",
    "            self.p_acc_y += chunk.p_acc_y\n",
    "            self.p_acc_z += chunk.p_acc_z\n",
    "            self.acc_x += chunk.acc_x\n",
    "            self.acc_y += chunk.acc_y\n",
    "            self.acc_z += chunk.acc_z\n",
    "            self.gyr_x += chunk.gyr_x\n",
    "            self.gyr_y += chunk.gyr_y\n",
    "            self.gyr_z += chunk.gyr_z\n",
    "            self.gra_x += chunk.gra_x\n",
    "            self.gra_y += chunk.gra_y\n",
    "            self.gra_z += chunk.gra_z\n",
    "            self.mag_x += chunk.mag_x\n",
    "            self.mag_y += chunk.mag_y\n",
    "            self.mag_z += chunk.mag_z\n",
    "            self.att_roll += chunk.att_roll\n",
    "            self.att_pitch += chunk.att_pitch\n",
    "            self.att_yaw += chunk.att_yaw\n",
    "            self.delta_heading += chunk.delta_heading\n",
    "            \n",
    "    def getIntervals(self):\n",
    "        output = np.zeros((len(self.labels), 90))\n",
    "        \n",
    "        for i in range(len(self.labels)):\n",
    "            output[i,:] = IntervalData(self, i).flatten()\n",
    "        \n",
    "        return output[:,:-1], output[:,-1]"
   ]
  },
  {
   "cell_type": "code",
   "execution_count": 33,
   "id": "1d5f9441",
   "metadata": {},
   "outputs": [],
   "source": [
    "class IntervalData:\n",
    "    def __init__(self, rec, idx):\n",
    "        self.label = rec.labels[idx]\n",
    "        self.p_ecg = rec.p_ecg[idx*13 : idx*13 + 13]\n",
    "        self.p_acc_x = rec.p_acc_x[idx*20 : idx*20 + 20]\n",
    "        self.p_acc_y = rec.p_acc_y[idx*20 : idx*20 + 20]\n",
    "        self.p_acc_z = rec.p_acc_z[idx*20 : idx*20 + 20]\n",
    "        self.acc_x = rec.acc_x[idx]\n",
    "        self.acc_y = rec.acc_y[idx]\n",
    "        self.acc_z = rec.acc_z[idx]\n",
    "        self.gyr_x = rec.gyr_x[idx]\n",
    "        self.gyr_y = rec.gyr_y[idx]\n",
    "        self.gyr_z = rec.gyr_z[idx]\n",
    "        self.gra_x = rec.gra_x[idx]\n",
    "        self.gra_y = rec.gra_y[idx]\n",
    "        self.gra_z = rec.gra_z[idx]\n",
    "        self.mag_x = rec.mag_x[idx]\n",
    "        self.mag_y = rec.mag_y[idx]\n",
    "        self.mag_z = rec.mag_z[idx]\n",
    "        self.att_roll = rec.att_roll[idx]\n",
    "        self.att_pitch = rec.att_pitch[idx]\n",
    "        self.att_yaw = rec.att_yaw[idx]\n",
    "        self.delta_heading = rec.delta_heading[idx]\n",
    "        \n",
    "    def flatten(self):\n",
    "        #size = 17*1 + 13*1 + 20*3\n",
    "        output = np.zeros((90))\n",
    "        \n",
    "        output[0:13] = np.array(self.p_ecg)\n",
    "        output[13:33] = np.array(self.p_acc_x)\n",
    "        output[33:53] = np.array(self.p_acc_y)\n",
    "        output[53:73] = np.array(self.p_acc_z)\n",
    "        output[73] = self.acc_x\n",
    "        output[74] = self.acc_y\n",
    "        output[75] = self.acc_z\n",
    "        output[76] = self.gyr_x\n",
    "        output[77] = self.gyr_y\n",
    "        output[78] = self.gyr_z\n",
    "        output[79] = self.gra_x\n",
    "        output[80] = self.gra_y\n",
    "        output[81] = self.gra_z\n",
    "        output[82] = self.mag_x\n",
    "        output[83] = self.mag_y\n",
    "        output[84] = self.mag_z\n",
    "        output[85] = self.att_roll\n",
    "        output[86] = self.att_pitch\n",
    "        output[87] = self.att_yaw\n",
    "        output[88] = self.delta_heading\n",
    "        output[89] = self.label\n",
    "        \n",
    "        return output\n",
    "        "
   ]
  },
  {
   "cell_type": "markdown",
   "id": "8300121f",
   "metadata": {},
   "source": [
    "# Read Pickle Data"
   ]
  },
  {
   "cell_type": "code",
   "execution_count": 34,
   "id": "83b5a190",
   "metadata": {},
   "outputs": [
    {
     "name": "stdout",
     "output_type": "stream",
     "text": [
      "849B275E-A5B1-4A03-A374-CCFA44F34960\n",
      "AD642CAB-2FE2-4B02-B7E7-0BC7695B6D04\n"
     ]
    }
   ],
   "source": [
    "ddir = os.getcwd() + \"/pickles/db13\"\n",
    "files = os.listdir(ddir)\n",
    "recordings = []\n",
    "\n",
    "for f in files:\n",
    "    reader = open(ddir + \"/\" + f, \"rb\")\n",
    "    rec = pickle.load(reader)\n",
    "    print(rec._id)\n",
    "    recordings.append(rec)"
   ]
  },
  {
   "cell_type": "markdown",
   "id": "34389225",
   "metadata": {},
   "source": [
    "# Parse Data Into Intervals"
   ]
  },
  {
   "cell_type": "code",
   "execution_count": 35,
   "id": "8b36d023",
   "metadata": {},
   "outputs": [],
   "source": [
    "intvls = [r.getIntervals() for r in recordings]"
   ]
  },
  {
   "cell_type": "markdown",
   "id": "25d2d365",
   "metadata": {},
   "source": [
    "# Sliding Windows"
   ]
  },
  {
   "cell_type": "code",
   "execution_count": 36,
   "id": "d30e049a",
   "metadata": {},
   "outputs": [],
   "source": [
    "import more_itertools as mit\n",
    "\n",
    "def window(seq, n=10):\n",
    "    return np.array([list(mit.flatten(s)) for s in mit.windowed(seq, n)])"
   ]
  },
  {
   "cell_type": "code",
   "execution_count": 37,
   "id": "bfa9a606",
   "metadata": {},
   "outputs": [
    {
     "name": "stdout",
     "output_type": "stream",
     "text": [
      "(200, 89)\n",
      "(200,)\n",
      "(200, 89)\n",
      "(200,)\n"
     ]
    }
   ],
   "source": [
    "ys = []\n",
    "xs = []\n",
    "\n",
    "for x,y in intvls:\n",
    "    print(x.shape)\n",
    "    print(y.shape)\n",
    "    xs.append(window(x))\n",
    "    ys.append(y)"
   ]
  },
  {
   "cell_type": "markdown",
   "id": "a5b962fd",
   "metadata": {},
   "source": [
    "## Merge windows"
   ]
  },
  {
   "cell_type": "code",
   "execution_count": 40,
   "id": "9d94fce7",
   "metadata": {},
   "outputs": [
    {
     "name": "stdout",
     "output_type": "stream",
     "text": [
      "382\n"
     ]
    },
    {
     "ename": "ValueError",
     "evalue": "could not broadcast input array from shape (191,890) into shape (0,890)",
     "output_type": "error",
     "traceback": [
      "\u001b[0;31m---------------------------------------------------------------------------\u001b[0m",
      "\u001b[0;31mValueError\u001b[0m                                Traceback (most recent call last)",
      "\u001b[0;32m/tmp/ipykernel_1048595/3153312398.py\u001b[0m in \u001b[0;36m<module>\u001b[0;34m\u001b[0m\n\u001b[1;32m      6\u001b[0m \u001b[0moffset\u001b[0m \u001b[0;34m=\u001b[0m \u001b[0;36m0\u001b[0m\u001b[0;34m\u001b[0m\u001b[0;34m\u001b[0m\u001b[0m\n\u001b[1;32m      7\u001b[0m \u001b[0;32mfor\u001b[0m \u001b[0mi\u001b[0m\u001b[0;34m,\u001b[0m \u001b[0mx\u001b[0m \u001b[0;32min\u001b[0m \u001b[0menumerate\u001b[0m\u001b[0;34m(\u001b[0m\u001b[0mxs\u001b[0m\u001b[0;34m)\u001b[0m\u001b[0;34m:\u001b[0m\u001b[0;34m\u001b[0m\u001b[0;34m\u001b[0m\u001b[0m\n\u001b[0;32m----> 8\u001b[0;31m     \u001b[0mxx\u001b[0m\u001b[0;34m[\u001b[0m\u001b[0mi\u001b[0m\u001b[0;34m+\u001b[0m\u001b[0moffset\u001b[0m \u001b[0;34m:\u001b[0m \u001b[0mi\u001b[0m\u001b[0;34m+\u001b[0m\u001b[0mx\u001b[0m\u001b[0;34m.\u001b[0m\u001b[0mshape\u001b[0m\u001b[0;34m[\u001b[0m\u001b[0;36m0\u001b[0m\u001b[0;34m]\u001b[0m\u001b[0;34m,\u001b[0m \u001b[0;34m:\u001b[0m\u001b[0;34m]\u001b[0m \u001b[0;34m=\u001b[0m \u001b[0mx\u001b[0m\u001b[0;34m\u001b[0m\u001b[0;34m\u001b[0m\u001b[0m\n\u001b[0m\u001b[1;32m      9\u001b[0m     \u001b[0moffset\u001b[0m \u001b[0;34m=\u001b[0m \u001b[0mi\u001b[0m\u001b[0;34m+\u001b[0m\u001b[0mx\u001b[0m\u001b[0;34m.\u001b[0m\u001b[0mshape\u001b[0m\u001b[0;34m[\u001b[0m\u001b[0;36m0\u001b[0m\u001b[0;34m]\u001b[0m\u001b[0;34m\u001b[0m\u001b[0;34m\u001b[0m\u001b[0m\n",
      "\u001b[0;31mValueError\u001b[0m: could not broadcast input array from shape (191,890) into shape (0,890)"
     ]
    }
   ],
   "source": [
    "num_rows = np.sum([x.shape[0] for x in xs])\n",
    "print(num_rows)\n",
    "\n",
    "xx = np.zeros((num_rows, 10*89))\n",
    "\n",
    "offset = 0\n",
    "for x in xs:\n",
    "    xx[offset : offset+x.shape[0], :] = x\n",
    "    offset += x.shape[0]"
   ]
  },
  {
   "cell_type": "code",
   "execution_count": 39,
   "id": "51a7b289",
   "metadata": {},
   "outputs": [
    {
     "data": {
      "text/plain": [
       "array([[  35.        ,   11.        ,    9.        , ...,   -1.5405374 ,\n",
       "           2.2946449 ,   -4.48377991],\n",
       "       [-192.        , -235.        , -178.        , ...,   -1.41398936,\n",
       "           2.93424584,    6.7328186 ],\n",
       "       [-392.        , -299.        , -365.        , ...,   -1.46081024,\n",
       "          -2.99674456, -351.50396347],\n",
       "       ...,\n",
       "       [   0.        ,    0.        ,    0.        , ...,    0.        ,\n",
       "           0.        ,    0.        ],\n",
       "       [   0.        ,    0.        ,    0.        , ...,    0.        ,\n",
       "           0.        ,    0.        ],\n",
       "       [   0.        ,    0.        ,    0.        , ...,    0.        ,\n",
       "           0.        ,    0.        ]])"
      ]
     },
     "execution_count": 39,
     "metadata": {},
     "output_type": "execute_result"
    }
   ],
   "source": [
    "xx"
   ]
  },
  {
   "cell_type": "code",
   "execution_count": null,
   "id": "7c661095",
   "metadata": {},
   "outputs": [],
   "source": []
  }
 ],
 "metadata": {
  "kernelspec": {
   "display_name": "Python 3 (ipykernel)",
   "language": "python",
   "name": "python3"
  },
  "language_info": {
   "codemirror_mode": {
    "name": "ipython",
    "version": 3
   },
   "file_extension": ".py",
   "mimetype": "text/x-python",
   "name": "python",
   "nbconvert_exporter": "python",
   "pygments_lexer": "ipython3",
   "version": "3.7.11"
  }
 },
 "nbformat": 4,
 "nbformat_minor": 5
}
